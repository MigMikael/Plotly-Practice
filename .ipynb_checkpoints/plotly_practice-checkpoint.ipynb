{
 "cells": [
  {
   "cell_type": "code",
   "execution_count": 1,
   "metadata": {},
   "outputs": [
    {
     "data": {
      "text/html": [
       "<script>requirejs.config({paths: { 'plotly': ['https://cdn.plot.ly/plotly-latest.min']},});if(!window.Plotly) {{require(['plotly'],function(plotly) {window.Plotly=plotly;});}}</script>"
      ],
      "text/vnd.plotly.v1+html": [
       "<script>requirejs.config({paths: { 'plotly': ['https://cdn.plot.ly/plotly-latest.min']},});if(!window.Plotly) {{require(['plotly'],function(plotly) {window.Plotly=plotly;});}}</script>"
      ]
     },
     "metadata": {},
     "output_type": "display_data"
    }
   ],
   "source": [
    "import plotly\n",
    "from plotly.offline import download_plotlyjs, init_notebook_mode, plot, iplot\n",
    "import plotly.graph_objs as go\n",
    "import pandas as pd\n",
    "import numpy as np\n",
    "\n",
    "init_notebook_mode(connected=True)\n",
    "# print(plotly.__version__) "
   ]
  },
  {
   "cell_type": "code",
   "execution_count": 2,
   "metadata": {},
   "outputs": [
    {
     "name": "stdout",
     "output_type": "stream",
     "text": [
      "6     500\n",
      "9     500\n",
      "12    500\n",
      "15    500\n",
      "18    500\n",
      "21    500\n",
      "24    500\n",
      "27    500\n",
      "30    500\n",
      "33    500\n",
      "dtype: int64\n",
      "6     16.031254\n",
      "9     15.208715\n",
      "12    15.748302\n",
      "15    14.747761\n",
      "18    15.772086\n",
      "21    16.352751\n",
      "24    15.441187\n",
      "27    15.103126\n",
      "30    15.922154\n",
      "33    16.036871\n",
      "dtype: float64\n"
     ]
    }
   ],
   "source": [
    "x = [6, 9, 12, 15, 18, 21, 24, 27, 30, 33]\n",
    "y = [500] * 10\n",
    "y = pd.Series(y, index=x)\n",
    "print(y)\n",
    "z = [16.031254289210725, 15.208714527291558, 15.748302192973492, 14.747761385175243, 15.772085679081844, 16.352750927367822, 15.441187428949691, 15.103125534149871, 15.922154480675175, 16.03687067944525]\n",
    "z = pd.Series(z, index=x)\n",
    "print(z)"
   ]
  },
  {
   "cell_type": "code",
   "execution_count": 13,
   "metadata": {},
   "outputs": [
    {
     "data": {
      "text/plain": [
       "'file://C:\\\\Users\\\\Mig\\\\Documents\\\\simple-3d-scatter.html'"
      ]
     },
     "execution_count": 13,
     "metadata": {},
     "output_type": "execute_result"
    }
   ],
   "source": [
    "trace = go.Scatter3d(\n",
    "    x=x, y=y, z=z,\n",
    "    marker=dict(\n",
    "        size=8,\n",
    "        color=z,\n",
    "        colorscale='Jet',\n",
    "    ),\n",
    "    line=dict(\n",
    "        color='#1f77b4',\n",
    "        width=1\n",
    "    )\n",
    ")\n",
    "\n",
    "data = [trace]\n",
    "layout = go.Layout(\n",
    "    width=800,\n",
    "    height=700,\n",
    "    title='Model Varient in Experiment 43',\n",
    "    scene=dict(\n",
    "        xaxis=dict(\n",
    "            title='Hidden Layer Dimension',\n",
    "            titlefont=dict(\n",
    "                size=14,\n",
    "                color='#ff0000'\n",
    "            ),\n",
    "            gridcolor='rgb(255, 255, 255)',\n",
    "            zerolinecolor='rgb(255, 255, 255)',\n",
    "            showbackground=True,\n",
    "            backgroundcolor='rgb(230, 230,230)'\n",
    "        ),\n",
    "        yaxis=dict(\n",
    "            title='Minibatch Size',\n",
    "            titlefont=dict(\n",
    "                size=14,\n",
    "                color='#ff0000'\n",
    "            ),\n",
    "            gridcolor='rgb(255, 255, 255)',\n",
    "            zerolinecolor='rgb(255, 255, 255)',\n",
    "            showbackground=True,\n",
    "            backgroundcolor='rgb(230, 230,230)'\n",
    "        ),\n",
    "        zaxis=dict(\n",
    "            title='Avg Diff Between Label-Predict',\n",
    "            titlefont=dict(\n",
    "                size=10,\n",
    "                color='#ff0000'\n",
    "            ),\n",
    "            gridcolor='rgb(255, 255, 255)',\n",
    "            zerolinecolor='rgb(255, 255, 255)',\n",
    "            showbackground=True,\n",
    "            backgroundcolor='rgb(230, 230,230)'\n",
    "        ),\n",
    "    )\n",
    ")\n",
    "\n",
    "fig = go.Figure(data=data, layout=layout)\n",
    "plotly.offline.plot(fig, filename='simple-3d-scatter.html')"
   ]
  },
  {
   "cell_type": "code",
   "execution_count": null,
   "metadata": {},
   "outputs": [],
   "source": []
  }
 ],
 "metadata": {
  "kernelspec": {
   "display_name": "Python 3",
   "language": "python",
   "name": "python3"
  },
  "language_info": {
   "codemirror_mode": {
    "name": "ipython",
    "version": 3
   },
   "file_extension": ".py",
   "mimetype": "text/x-python",
   "name": "python",
   "nbconvert_exporter": "python",
   "pygments_lexer": "ipython3",
   "version": "3.5.6"
  }
 },
 "nbformat": 4,
 "nbformat_minor": 2
}
