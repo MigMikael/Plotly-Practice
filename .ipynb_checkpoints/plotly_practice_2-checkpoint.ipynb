{
 "cells": [
  {
   "cell_type": "code",
   "execution_count": 1,
   "metadata": {},
   "outputs": [],
   "source": [
    "title = \"iPadtoMotoC Model Varient (Exp. 60-62) (Test By Generated Set)\"\n",
    "filename = 'experiment60-62-GeneratedSet.html'\n",
    "polyfit_diff = 15.777\n",
    "\n",
    "hidden_layer = [6, 9, 12, 15, 18, 21, 24, 27, 30, 33]"
   ]
  },
  {
   "cell_type": "code",
   "execution_count": 2,
   "metadata": {},
   "outputs": [],
   "source": [
    "# 3 Dense Layer \n",
    "z1 = [15.792, 15.614, 15.351, 15.43, 15.104, 15.103, 15.091, 15.068, 15.007, 15.008]\n",
    "\n",
    "# 4 Dense Layer \n",
    "z2 = [15.558, 15.349, 15.127, 14.94, 14.818, 14.798, 14.649, 14.58, 14.57, 14.618]\n",
    "\n",
    "# 5 Dense Layer \n",
    "z3 = [15.557, 15.075, 15.007, 14.709, 14.682, 14.555, 14.457, 14.426, 14.416, 14.302]"
   ]
  },
  {
   "cell_type": "code",
   "execution_count": 3,
   "metadata": {},
   "outputs": [
    {
     "data": {
      "text/html": [
       "<script>requirejs.config({paths: { 'plotly': ['https://cdn.plot.ly/plotly-latest.min']},});if(!window.Plotly) {{require(['plotly'],function(plotly) {window.Plotly=plotly;});}}</script>"
      ],
      "text/vnd.plotly.v1+html": [
       "<script>requirejs.config({paths: { 'plotly': ['https://cdn.plot.ly/plotly-latest.min']},});if(!window.Plotly) {{require(['plotly'],function(plotly) {window.Plotly=plotly;});}}</script>"
      ]
     },
     "metadata": {},
     "output_type": "display_data"
    }
   ],
   "source": [
    "import plotly\n",
    "from plotly.offline import download_plotlyjs, init_notebook_mode, plot, iplot\n",
    "import plotly.graph_objs as go\n",
    "import pandas as pd\n",
    "import numpy as np\n",
    "\n",
    "init_notebook_mode(connected=True)\n",
    "# print(plotly.__version__) "
   ]
  },
  {
   "cell_type": "code",
   "execution_count": 4,
   "metadata": {},
   "outputs": [
    {
     "name": "stdout",
     "output_type": "stream",
     "text": [
      "6     15.792\n",
      "9     15.614\n",
      "12    15.351\n",
      "15    15.430\n",
      "18    15.104\n",
      "21    15.103\n",
      "24    15.091\n",
      "27    15.068\n",
      "30    15.007\n",
      "33    15.008\n",
      "dtype: float64\n"
     ]
    }
   ],
   "source": [
    "# 3 Dense Layer \n",
    "x1 = hidden_layer\n",
    "y1 = [3] * 10\n",
    "y1 = pd.Series(y1, index=x1)\n",
    "#print(y1)\n",
    "z1 = pd.Series(z1, index=x1)\n",
    "print(z1)"
   ]
  },
  {
   "cell_type": "code",
   "execution_count": 5,
   "metadata": {},
   "outputs": [
    {
     "name": "stdout",
     "output_type": "stream",
     "text": [
      "6     15.558\n",
      "9     15.349\n",
      "12    15.127\n",
      "15    14.940\n",
      "18    14.818\n",
      "21    14.798\n",
      "24    14.649\n",
      "27    14.580\n",
      "30    14.570\n",
      "33    14.618\n",
      "dtype: float64\n"
     ]
    }
   ],
   "source": [
    "# 4 Dense Layer\n",
    "x2 = hidden_layer\n",
    "y2 = [4] * 10\n",
    "y2 = pd.Series(y2, index=x2)\n",
    "#print(y2)\n",
    "z2 = pd.Series(z2, index=x2)\n",
    "print(z2)"
   ]
  },
  {
   "cell_type": "code",
   "execution_count": 6,
   "metadata": {},
   "outputs": [
    {
     "name": "stdout",
     "output_type": "stream",
     "text": [
      "6     15.557\n",
      "9     15.075\n",
      "12    15.007\n",
      "15    14.709\n",
      "18    14.682\n",
      "21    14.555\n",
      "24    14.457\n",
      "27    14.426\n",
      "30    14.416\n",
      "33    14.302\n",
      "dtype: float64\n"
     ]
    }
   ],
   "source": [
    "# 5 Dense Layer\n",
    "x3 = hidden_layer\n",
    "y3 = [5] * 10\n",
    "y3 = pd.Series(y3, index=x3)\n",
    "#print(y3)\n",
    "z3 = pd.Series(z3, index=x3)\n",
    "print(z3)"
   ]
  },
  {
   "cell_type": "code",
   "execution_count": 7,
   "metadata": {},
   "outputs": [],
   "source": [
    "polyfit = polyfit_diff\n",
    "polyfit_list = [[polyfit_diff] * 30] * 7\n",
    "#print(polyfit_list)"
   ]
  },
  {
   "cell_type": "code",
   "execution_count": 10,
   "metadata": {},
   "outputs": [
    {
     "data": {
      "application/vnd.plotly.v1+json": {
       "data": [
        {
         "line": {
          "color": "#1f77b4",
          "width": 2
         },
         "marker": {
          "color": [
           15.792,
           15.614,
           15.351,
           15.43,
           15.104,
           15.103,
           15.091,
           15.068,
           15.007,
           15.008
          ],
          "size": 8
         },
         "type": "scatter3d",
         "uid": "0b50ab14-e05d-11e8-9f4d-001a7dda7111",
         "x": [
          6,
          9,
          12,
          15,
          18,
          21,
          24,
          27,
          30,
          33
         ],
         "y": [
          3,
          3,
          3,
          3,
          3,
          3,
          3,
          3,
          3,
          3
         ],
         "z": [
          15.792,
          15.614,
          15.351,
          15.43,
          15.104,
          15.103,
          15.091,
          15.068,
          15.007,
          15.008
         ]
        },
        {
         "line": {
          "color": "#1f77b4",
          "width": 2
         },
         "marker": {
          "color": [
           15.558,
           15.349,
           15.127,
           14.94,
           14.818,
           14.798,
           14.649,
           14.58,
           14.57,
           14.618
          ],
          "size": 8
         },
         "type": "scatter3d",
         "uid": "0b50ab15-e05d-11e8-b5ca-001a7dda7111",
         "x": [
          6,
          9,
          12,
          15,
          18,
          21,
          24,
          27,
          30,
          33
         ],
         "y": [
          4,
          4,
          4,
          4,
          4,
          4,
          4,
          4,
          4,
          4
         ],
         "z": [
          15.558,
          15.349,
          15.127,
          14.94,
          14.818,
          14.798,
          14.649,
          14.58,
          14.57,
          14.618
         ]
        },
        {
         "line": {
          "color": "#1f77b4",
          "width": 2
         },
         "marker": {
          "color": [
           15.557,
           15.075,
           15.007,
           14.709,
           14.682,
           14.555,
           14.457,
           14.426,
           14.416,
           14.302
          ],
          "size": 8
         },
         "type": "scatter3d",
         "uid": "0b50ab16-e05d-11e8-ad42-001a7dda7111",
         "x": [
          6,
          9,
          12,
          15,
          18,
          21,
          24,
          27,
          30,
          33
         ],
         "y": [
          5,
          5,
          5,
          5,
          5,
          5,
          5,
          5,
          5,
          5
         ],
         "z": [
          15.557,
          15.075,
          15.007,
          14.709,
          14.682,
          14.555,
          14.457,
          14.426,
          14.416,
          14.302
         ]
        },
        {
         "colorscale": "Jet",
         "opacity": 0.7,
         "showscale": false,
         "type": "surface",
         "uid": "0b50ab17-e05d-11e8-908f-001a7dda7111",
         "z": [
          [
           15.777,
           15.777,
           15.777,
           15.777,
           15.777,
           15.777,
           15.777,
           15.777,
           15.777,
           15.777,
           15.777,
           15.777,
           15.777,
           15.777,
           15.777,
           15.777,
           15.777,
           15.777,
           15.777,
           15.777,
           15.777,
           15.777,
           15.777,
           15.777,
           15.777,
           15.777,
           15.777,
           15.777,
           15.777,
           15.777
          ],
          [
           15.777,
           15.777,
           15.777,
           15.777,
           15.777,
           15.777,
           15.777,
           15.777,
           15.777,
           15.777,
           15.777,
           15.777,
           15.777,
           15.777,
           15.777,
           15.777,
           15.777,
           15.777,
           15.777,
           15.777,
           15.777,
           15.777,
           15.777,
           15.777,
           15.777,
           15.777,
           15.777,
           15.777,
           15.777,
           15.777
          ],
          [
           15.777,
           15.777,
           15.777,
           15.777,
           15.777,
           15.777,
           15.777,
           15.777,
           15.777,
           15.777,
           15.777,
           15.777,
           15.777,
           15.777,
           15.777,
           15.777,
           15.777,
           15.777,
           15.777,
           15.777,
           15.777,
           15.777,
           15.777,
           15.777,
           15.777,
           15.777,
           15.777,
           15.777,
           15.777,
           15.777
          ],
          [
           15.777,
           15.777,
           15.777,
           15.777,
           15.777,
           15.777,
           15.777,
           15.777,
           15.777,
           15.777,
           15.777,
           15.777,
           15.777,
           15.777,
           15.777,
           15.777,
           15.777,
           15.777,
           15.777,
           15.777,
           15.777,
           15.777,
           15.777,
           15.777,
           15.777,
           15.777,
           15.777,
           15.777,
           15.777,
           15.777
          ],
          [
           15.777,
           15.777,
           15.777,
           15.777,
           15.777,
           15.777,
           15.777,
           15.777,
           15.777,
           15.777,
           15.777,
           15.777,
           15.777,
           15.777,
           15.777,
           15.777,
           15.777,
           15.777,
           15.777,
           15.777,
           15.777,
           15.777,
           15.777,
           15.777,
           15.777,
           15.777,
           15.777,
           15.777,
           15.777,
           15.777
          ],
          [
           15.777,
           15.777,
           15.777,
           15.777,
           15.777,
           15.777,
           15.777,
           15.777,
           15.777,
           15.777,
           15.777,
           15.777,
           15.777,
           15.777,
           15.777,
           15.777,
           15.777,
           15.777,
           15.777,
           15.777,
           15.777,
           15.777,
           15.777,
           15.777,
           15.777,
           15.777,
           15.777,
           15.777,
           15.777,
           15.777
          ],
          [
           15.777,
           15.777,
           15.777,
           15.777,
           15.777,
           15.777,
           15.777,
           15.777,
           15.777,
           15.777,
           15.777,
           15.777,
           15.777,
           15.777,
           15.777,
           15.777,
           15.777,
           15.777,
           15.777,
           15.777,
           15.777,
           15.777,
           15.777,
           15.777,
           15.777,
           15.777,
           15.777,
           15.777,
           15.777,
           15.777
          ]
         ]
        }
       ],
       "layout": {
        "height": 700,
        "scene": {
         "xaxis": {
          "backgroundcolor": "rgb(200, 200, 230)",
          "gridcolor": "rgb(255, 255, 255)",
          "showbackground": true,
          "title": "Hidden Layer Dim (X)",
          "titlefont": {
           "color": "#ff0000",
           "size": 14
          },
          "zerolinecolor": "rgb(255, 255, 255)"
         },
         "yaxis": {
          "backgroundcolor": "rgb(230, 200, 230)",
          "gridcolor": "rgb(255, 255, 255)",
          "nticks": 5,
          "range": [
           2,
           6
          ],
          "showbackground": true,
          "title": "Dense Layer Num (Y)",
          "titlefont": {
           "color": "#ff0000",
           "size": 14
          },
          "zerolinecolor": "rgb(255, 255, 255)"
         },
         "zaxis": {
          "backgroundcolor": "rgb(230, 230, 200)",
          "gridcolor": "rgb(255, 255, 255)",
          "showbackground": true,
          "title": "Avg Diff (Z)",
          "titlefont": {
           "color": "#ff0000",
           "size": 10
          },
          "zerolinecolor": "rgb(255, 255, 255)"
         }
        },
        "title": "iPadtoMotoC Model Varient (Exp. 60-62) (Test By Generated Set)",
        "width": 800
       }
      },
      "text/html": [
       "<div id=\"8443182c-c61c-4f1b-9893-096c5976debe\" style=\"height: 700px; width: 800px;\" class=\"plotly-graph-div\"></div><script type=\"text/javascript\">require([\"plotly\"], function(Plotly) { window.PLOTLYENV=window.PLOTLYENV || {};window.PLOTLYENV.BASE_URL=\"https://plot.ly\";Plotly.newPlot(\"8443182c-c61c-4f1b-9893-096c5976debe\", [{\"y\": [3, 3, 3, 3, 3, 3, 3, 3, 3, 3], \"line\": {\"color\": \"#1f77b4\", \"width\": 2}, \"marker\": {\"size\": 8, \"color\": [15.792, 15.614, 15.351, 15.43, 15.104, 15.103, 15.091, 15.068, 15.007, 15.008]}, \"type\": \"scatter3d\", \"uid\": \"0b50ab14-e05d-11e8-9f4d-001a7dda7111\", \"x\": [6, 9, 12, 15, 18, 21, 24, 27, 30, 33], \"z\": [15.792, 15.614, 15.351, 15.43, 15.104, 15.103, 15.091, 15.068, 15.007, 15.008]}, {\"y\": [4, 4, 4, 4, 4, 4, 4, 4, 4, 4], \"line\": {\"color\": \"#1f77b4\", \"width\": 2}, \"marker\": {\"size\": 8, \"color\": [15.558, 15.349, 15.127, 14.94, 14.818, 14.798, 14.649, 14.58, 14.57, 14.618]}, \"type\": \"scatter3d\", \"uid\": \"0b50ab15-e05d-11e8-b5ca-001a7dda7111\", \"x\": [6, 9, 12, 15, 18, 21, 24, 27, 30, 33], \"z\": [15.558, 15.349, 15.127, 14.94, 14.818, 14.798, 14.649, 14.58, 14.57, 14.618]}, {\"y\": [5, 5, 5, 5, 5, 5, 5, 5, 5, 5], \"line\": {\"color\": \"#1f77b4\", \"width\": 2}, \"marker\": {\"size\": 8, \"color\": [15.557, 15.075, 15.007, 14.709, 14.682, 14.555, 14.457, 14.426, 14.416, 14.302]}, \"type\": \"scatter3d\", \"uid\": \"0b50ab16-e05d-11e8-ad42-001a7dda7111\", \"x\": [6, 9, 12, 15, 18, 21, 24, 27, 30, 33], \"z\": [15.557, 15.075, 15.007, 14.709, 14.682, 14.555, 14.457, 14.426, 14.416, 14.302]}, {\"opacity\": 0.7, \"showscale\": false, \"colorscale\": \"Jet\", \"type\": \"surface\", \"uid\": \"0b50ab17-e05d-11e8-908f-001a7dda7111\", \"z\": [[15.777, 15.777, 15.777, 15.777, 15.777, 15.777, 15.777, 15.777, 15.777, 15.777, 15.777, 15.777, 15.777, 15.777, 15.777, 15.777, 15.777, 15.777, 15.777, 15.777, 15.777, 15.777, 15.777, 15.777, 15.777, 15.777, 15.777, 15.777, 15.777, 15.777], [15.777, 15.777, 15.777, 15.777, 15.777, 15.777, 15.777, 15.777, 15.777, 15.777, 15.777, 15.777, 15.777, 15.777, 15.777, 15.777, 15.777, 15.777, 15.777, 15.777, 15.777, 15.777, 15.777, 15.777, 15.777, 15.777, 15.777, 15.777, 15.777, 15.777], [15.777, 15.777, 15.777, 15.777, 15.777, 15.777, 15.777, 15.777, 15.777, 15.777, 15.777, 15.777, 15.777, 15.777, 15.777, 15.777, 15.777, 15.777, 15.777, 15.777, 15.777, 15.777, 15.777, 15.777, 15.777, 15.777, 15.777, 15.777, 15.777, 15.777], [15.777, 15.777, 15.777, 15.777, 15.777, 15.777, 15.777, 15.777, 15.777, 15.777, 15.777, 15.777, 15.777, 15.777, 15.777, 15.777, 15.777, 15.777, 15.777, 15.777, 15.777, 15.777, 15.777, 15.777, 15.777, 15.777, 15.777, 15.777, 15.777, 15.777], [15.777, 15.777, 15.777, 15.777, 15.777, 15.777, 15.777, 15.777, 15.777, 15.777, 15.777, 15.777, 15.777, 15.777, 15.777, 15.777, 15.777, 15.777, 15.777, 15.777, 15.777, 15.777, 15.777, 15.777, 15.777, 15.777, 15.777, 15.777, 15.777, 15.777], [15.777, 15.777, 15.777, 15.777, 15.777, 15.777, 15.777, 15.777, 15.777, 15.777, 15.777, 15.777, 15.777, 15.777, 15.777, 15.777, 15.777, 15.777, 15.777, 15.777, 15.777, 15.777, 15.777, 15.777, 15.777, 15.777, 15.777, 15.777, 15.777, 15.777], [15.777, 15.777, 15.777, 15.777, 15.777, 15.777, 15.777, 15.777, 15.777, 15.777, 15.777, 15.777, 15.777, 15.777, 15.777, 15.777, 15.777, 15.777, 15.777, 15.777, 15.777, 15.777, 15.777, 15.777, 15.777, 15.777, 15.777, 15.777, 15.777, 15.777]]}], {\"scene\": {\"yaxis\": {\"zerolinecolor\": \"rgb(255, 255, 255)\", \"showbackground\": true, \"range\": [2, 6], \"gridcolor\": \"rgb(255, 255, 255)\", \"title\": \"Dense Layer Num (Y)\", \"titlefont\": {\"size\": 14, \"color\": \"#ff0000\"}, \"backgroundcolor\": \"rgb(230, 200, 230)\", \"nticks\": 5}, \"xaxis\": {\"zerolinecolor\": \"rgb(255, 255, 255)\", \"showbackground\": true, \"gridcolor\": \"rgb(255, 255, 255)\", \"title\": \"Hidden Layer Dim (X)\", \"titlefont\": {\"size\": 14, \"color\": \"#ff0000\"}, \"backgroundcolor\": \"rgb(200, 200, 230)\"}, \"zaxis\": {\"zerolinecolor\": \"rgb(255, 255, 255)\", \"showbackground\": true, \"gridcolor\": \"rgb(255, 255, 255)\", \"title\": \"Avg Diff (Z)\", \"titlefont\": {\"size\": 10, \"color\": \"#ff0000\"}, \"backgroundcolor\": \"rgb(230, 230, 200)\"}}, \"title\": \"iPadtoMotoC Model Varient (Exp. 60-62) (Test By Generated Set)\", \"height\": 700, \"width\": 800}, {\"linkText\": \"Export to plot.ly\", \"showLink\": true})});</script>"
      ],
      "text/vnd.plotly.v1+html": [
       "<div id=\"8443182c-c61c-4f1b-9893-096c5976debe\" style=\"height: 700px; width: 800px;\" class=\"plotly-graph-div\"></div><script type=\"text/javascript\">require([\"plotly\"], function(Plotly) { window.PLOTLYENV=window.PLOTLYENV || {};window.PLOTLYENV.BASE_URL=\"https://plot.ly\";Plotly.newPlot(\"8443182c-c61c-4f1b-9893-096c5976debe\", [{\"y\": [3, 3, 3, 3, 3, 3, 3, 3, 3, 3], \"line\": {\"color\": \"#1f77b4\", \"width\": 2}, \"marker\": {\"size\": 8, \"color\": [15.792, 15.614, 15.351, 15.43, 15.104, 15.103, 15.091, 15.068, 15.007, 15.008]}, \"type\": \"scatter3d\", \"uid\": \"0b50ab14-e05d-11e8-9f4d-001a7dda7111\", \"x\": [6, 9, 12, 15, 18, 21, 24, 27, 30, 33], \"z\": [15.792, 15.614, 15.351, 15.43, 15.104, 15.103, 15.091, 15.068, 15.007, 15.008]}, {\"y\": [4, 4, 4, 4, 4, 4, 4, 4, 4, 4], \"line\": {\"color\": \"#1f77b4\", \"width\": 2}, \"marker\": {\"size\": 8, \"color\": [15.558, 15.349, 15.127, 14.94, 14.818, 14.798, 14.649, 14.58, 14.57, 14.618]}, \"type\": \"scatter3d\", \"uid\": \"0b50ab15-e05d-11e8-b5ca-001a7dda7111\", \"x\": [6, 9, 12, 15, 18, 21, 24, 27, 30, 33], \"z\": [15.558, 15.349, 15.127, 14.94, 14.818, 14.798, 14.649, 14.58, 14.57, 14.618]}, {\"y\": [5, 5, 5, 5, 5, 5, 5, 5, 5, 5], \"line\": {\"color\": \"#1f77b4\", \"width\": 2}, \"marker\": {\"size\": 8, \"color\": [15.557, 15.075, 15.007, 14.709, 14.682, 14.555, 14.457, 14.426, 14.416, 14.302]}, \"type\": \"scatter3d\", \"uid\": \"0b50ab16-e05d-11e8-ad42-001a7dda7111\", \"x\": [6, 9, 12, 15, 18, 21, 24, 27, 30, 33], \"z\": [15.557, 15.075, 15.007, 14.709, 14.682, 14.555, 14.457, 14.426, 14.416, 14.302]}, {\"opacity\": 0.7, \"showscale\": false, \"colorscale\": \"Jet\", \"type\": \"surface\", \"uid\": \"0b50ab17-e05d-11e8-908f-001a7dda7111\", \"z\": [[15.777, 15.777, 15.777, 15.777, 15.777, 15.777, 15.777, 15.777, 15.777, 15.777, 15.777, 15.777, 15.777, 15.777, 15.777, 15.777, 15.777, 15.777, 15.777, 15.777, 15.777, 15.777, 15.777, 15.777, 15.777, 15.777, 15.777, 15.777, 15.777, 15.777], [15.777, 15.777, 15.777, 15.777, 15.777, 15.777, 15.777, 15.777, 15.777, 15.777, 15.777, 15.777, 15.777, 15.777, 15.777, 15.777, 15.777, 15.777, 15.777, 15.777, 15.777, 15.777, 15.777, 15.777, 15.777, 15.777, 15.777, 15.777, 15.777, 15.777], [15.777, 15.777, 15.777, 15.777, 15.777, 15.777, 15.777, 15.777, 15.777, 15.777, 15.777, 15.777, 15.777, 15.777, 15.777, 15.777, 15.777, 15.777, 15.777, 15.777, 15.777, 15.777, 15.777, 15.777, 15.777, 15.777, 15.777, 15.777, 15.777, 15.777], [15.777, 15.777, 15.777, 15.777, 15.777, 15.777, 15.777, 15.777, 15.777, 15.777, 15.777, 15.777, 15.777, 15.777, 15.777, 15.777, 15.777, 15.777, 15.777, 15.777, 15.777, 15.777, 15.777, 15.777, 15.777, 15.777, 15.777, 15.777, 15.777, 15.777], [15.777, 15.777, 15.777, 15.777, 15.777, 15.777, 15.777, 15.777, 15.777, 15.777, 15.777, 15.777, 15.777, 15.777, 15.777, 15.777, 15.777, 15.777, 15.777, 15.777, 15.777, 15.777, 15.777, 15.777, 15.777, 15.777, 15.777, 15.777, 15.777, 15.777], [15.777, 15.777, 15.777, 15.777, 15.777, 15.777, 15.777, 15.777, 15.777, 15.777, 15.777, 15.777, 15.777, 15.777, 15.777, 15.777, 15.777, 15.777, 15.777, 15.777, 15.777, 15.777, 15.777, 15.777, 15.777, 15.777, 15.777, 15.777, 15.777, 15.777], [15.777, 15.777, 15.777, 15.777, 15.777, 15.777, 15.777, 15.777, 15.777, 15.777, 15.777, 15.777, 15.777, 15.777, 15.777, 15.777, 15.777, 15.777, 15.777, 15.777, 15.777, 15.777, 15.777, 15.777, 15.777, 15.777, 15.777, 15.777, 15.777, 15.777]]}], {\"scene\": {\"yaxis\": {\"zerolinecolor\": \"rgb(255, 255, 255)\", \"showbackground\": true, \"range\": [2, 6], \"gridcolor\": \"rgb(255, 255, 255)\", \"title\": \"Dense Layer Num (Y)\", \"titlefont\": {\"size\": 14, \"color\": \"#ff0000\"}, \"backgroundcolor\": \"rgb(230, 200, 230)\", \"nticks\": 5}, \"xaxis\": {\"zerolinecolor\": \"rgb(255, 255, 255)\", \"showbackground\": true, \"gridcolor\": \"rgb(255, 255, 255)\", \"title\": \"Hidden Layer Dim (X)\", \"titlefont\": {\"size\": 14, \"color\": \"#ff0000\"}, \"backgroundcolor\": \"rgb(200, 200, 230)\"}, \"zaxis\": {\"zerolinecolor\": \"rgb(255, 255, 255)\", \"showbackground\": true, \"gridcolor\": \"rgb(255, 255, 255)\", \"title\": \"Avg Diff (Z)\", \"titlefont\": {\"size\": 10, \"color\": \"#ff0000\"}, \"backgroundcolor\": \"rgb(230, 230, 200)\"}}, \"title\": \"iPadtoMotoC Model Varient (Exp. 60-62) (Test By Generated Set)\", \"height\": 700, \"width\": 800}, {\"linkText\": \"Export to plot.ly\", \"showLink\": true})});</script>"
      ]
     },
     "metadata": {},
     "output_type": "display_data"
    }
   ],
   "source": [
    "trace = go.Scatter3d(\n",
    "    x=x1, y=y1, z=z1,\n",
    "    marker=dict(\n",
    "        size=8,\n",
    "        color=z1\n",
    "    ),\n",
    "    line=dict(\n",
    "        color='#1f77b4',\n",
    "        width=2\n",
    "    )\n",
    ")\n",
    "\n",
    "trace2 = go.Scatter3d(\n",
    "    x=x2, y=y2, z=z2,\n",
    "    marker=dict(\n",
    "        size=8,\n",
    "        color=z2\n",
    "    ),\n",
    "    line=dict(\n",
    "        color='#1f77b4',\n",
    "        width=2\n",
    "    )\n",
    ")\n",
    "\n",
    "trace3 = go.Scatter3d(\n",
    "    x=x3, y=y3, z=z3,\n",
    "    marker=dict(\n",
    "        size=8,\n",
    "        color=z3\n",
    "    ),\n",
    "    line=dict(\n",
    "        color='#1f77b4',\n",
    "        width=2\n",
    "    )\n",
    ")\n",
    "\n",
    "trace4 = go.Surface(\n",
    "    z=polyfit_list,\n",
    "    opacity=0.7,\n",
    "    colorscale='Jet',\n",
    "    showscale=False\n",
    ")\n",
    "\n",
    "data = [trace, trace2, trace3, trace4]\n",
    "layout = go.Layout(\n",
    "    width=800,\n",
    "    height=700,\n",
    "    title= title,\n",
    "    scene=dict(\n",
    "        xaxis=dict(\n",
    "            title='Hidden Layer Dim (X)',\n",
    "            titlefont=dict(\n",
    "                size=14,\n",
    "                color='#ff0000'\n",
    "            ),\n",
    "            gridcolor='rgb(255, 255, 255)',\n",
    "            zerolinecolor='rgb(255, 255, 255)',\n",
    "            showbackground=True,\n",
    "            backgroundcolor='rgb(200, 200, 230)'\n",
    "        ),\n",
    "        yaxis=dict(\n",
    "            nticks = 5,\n",
    "            range = [2, 6],\n",
    "            title='Dense Layer Num (Y)',\n",
    "            titlefont=dict(\n",
    "                size=14,\n",
    "                color='#ff0000'\n",
    "            ),\n",
    "            gridcolor='rgb(255, 255, 255)',\n",
    "            zerolinecolor='rgb(255, 255, 255)',\n",
    "            showbackground=True,\n",
    "            backgroundcolor='rgb(230, 200, 230)'\n",
    "        ),\n",
    "        zaxis=dict(\n",
    "            title='Avg Diff (Z)',\n",
    "            titlefont=dict(\n",
    "                size=10,\n",
    "                color='#ff0000'\n",
    "            ),\n",
    "            gridcolor='rgb(255, 255, 255)',\n",
    "            zerolinecolor='rgb(255, 255, 255)',\n",
    "            showbackground=True,\n",
    "            backgroundcolor='rgb(230, 230, 200)'\n",
    "        ),\n",
    "    )\n",
    ")\n",
    "\n",
    "fig = go.Figure(data=data, layout=layout)\n",
    "plotly.offline.iplot(fig)"
   ]
  },
  {
   "cell_type": "code",
   "execution_count": null,
   "metadata": {},
   "outputs": [],
   "source": []
  },
  {
   "cell_type": "code",
   "execution_count": 11,
   "metadata": {},
   "outputs": [
    {
     "data": {
      "text/plain": [
       "'file://C:\\\\Users\\\\Mig\\\\Documents\\\\Plotly-Practice\\\\experiment60-62-GeneratedSet.html'"
      ]
     },
     "execution_count": 11,
     "metadata": {},
     "output_type": "execute_result"
    }
   ],
   "source": [
    "plotly.offline.plot(fig, filename=filename)"
   ]
  },
  {
   "cell_type": "code",
   "execution_count": null,
   "metadata": {},
   "outputs": [],
   "source": []
  }
 ],
 "metadata": {
  "kernelspec": {
   "display_name": "Python 3",
   "language": "python",
   "name": "python3"
  },
  "language_info": {
   "codemirror_mode": {
    "name": "ipython",
    "version": 3
   },
   "file_extension": ".py",
   "mimetype": "text/x-python",
   "name": "python",
   "nbconvert_exporter": "python",
   "pygments_lexer": "ipython3",
   "version": "3.5.6"
  }
 },
 "nbformat": 4,
 "nbformat_minor": 2
}
