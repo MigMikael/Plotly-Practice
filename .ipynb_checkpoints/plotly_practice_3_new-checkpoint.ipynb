{
 "cells": [
  {
   "cell_type": "code",
   "execution_count": 1,
   "metadata": {},
   "outputs": [],
   "source": [
    "title = \"MotoCtoiPad Model Varient (Exp. 63-65) (Test By Random Set 2)\"\n",
    "filename = 'experiment63-65-RandomSet_2.html'\n",
    "polyfit_diff = 16.565\n",
    "\n",
    "hidden_layer = [6, 9, 12, 15, 18, 21, 24, 27, 30, 33]"
   ]
  },
  {
   "cell_type": "code",
   "execution_count": 2,
   "metadata": {},
   "outputs": [],
   "source": [
    "# 3 Dense Layer \n",
    "#z1 = [14.302, 13.987, 13.848, 13.656, 13.539, 13.398, 13.412, 13.393, 13.386, 13.293]\n",
    "z1 = [18.037, 18.467, 18.02, 18.516, 18.61, 18.703, 18.956, 18.722, 18.395, 18.966]\n",
    "\n",
    "# 4 Dense Layer \n",
    "#z2 = [14.019, 13.828, 13.392, 13.343, 13.206, 13.126, 12.921, 12.869, 12.796, 12.765]\n",
    "z2 = [19.144, 18.092, 18.642, 18.957, 18.662, 18.831, 19.633, 19.03, 18.979, 19.447]\n",
    "\n",
    "# 5 Dense Layer \n",
    "#z3 = [13.799, 13.506, 13.312, 13.141, 12.979, 12.738, 12.757, 12.628, 12.608, 12.449]\n",
    "z3 = [19.388, 19.366, 18.861, 18.972, 18.901, 19.384, 19.371, 19.656, 19.586, 19.445]"
   ]
  },
  {
   "cell_type": "code",
   "execution_count": 3,
   "metadata": {},
   "outputs": [
    {
     "data": {
      "text/html": [
       "<script>requirejs.config({paths: { 'plotly': ['https://cdn.plot.ly/plotly-latest.min']},});if(!window.Plotly) {{require(['plotly'],function(plotly) {window.Plotly=plotly;});}}</script>"
      ],
      "text/vnd.plotly.v1+html": [
       "<script>requirejs.config({paths: { 'plotly': ['https://cdn.plot.ly/plotly-latest.min']},});if(!window.Plotly) {{require(['plotly'],function(plotly) {window.Plotly=plotly;});}}</script>"
      ]
     },
     "metadata": {},
     "output_type": "display_data"
    }
   ],
   "source": [
    "import plotly\n",
    "from plotly.offline import download_plotlyjs, init_notebook_mode, plot, iplot\n",
    "import plotly.graph_objs as go\n",
    "import pandas as pd\n",
    "import numpy as np\n",
    "\n",
    "init_notebook_mode(connected=True)\n",
    "# print(plotly.__version__) "
   ]
  },
  {
   "cell_type": "code",
   "execution_count": 4,
   "metadata": {},
   "outputs": [
    {
     "name": "stdout",
     "output_type": "stream",
     "text": [
      "6     18.037\n",
      "9     18.467\n",
      "12    18.020\n",
      "15    18.516\n",
      "18    18.610\n",
      "21    18.703\n",
      "24    18.956\n",
      "27    18.722\n",
      "30    18.395\n",
      "33    18.966\n",
      "dtype: float64\n"
     ]
    }
   ],
   "source": [
    "# 3 Dense Layer \n",
    "x1 = hidden_layer\n",
    "y1 = [3] * 10\n",
    "y1 = pd.Series(y1, index=x1)\n",
    "#print(y1)\n",
    "z1 = pd.Series(z1, index=x1)\n",
    "print(z1)"
   ]
  },
  {
   "cell_type": "code",
   "execution_count": 5,
   "metadata": {},
   "outputs": [
    {
     "name": "stdout",
     "output_type": "stream",
     "text": [
      "6     19.144\n",
      "9     18.092\n",
      "12    18.642\n",
      "15    18.957\n",
      "18    18.662\n",
      "21    18.831\n",
      "24    19.633\n",
      "27    19.030\n",
      "30    18.979\n",
      "33    19.447\n",
      "dtype: float64\n"
     ]
    }
   ],
   "source": [
    "# 4 Dense Layer\n",
    "x2 = hidden_layer\n",
    "y2 = [4] * 10\n",
    "y2 = pd.Series(y2, index=x2)\n",
    "#print(y2)\n",
    "z2 = pd.Series(z2, index=x2)\n",
    "print(z2)"
   ]
  },
  {
   "cell_type": "code",
   "execution_count": 6,
   "metadata": {},
   "outputs": [
    {
     "name": "stdout",
     "output_type": "stream",
     "text": [
      "6     19.388\n",
      "9     19.366\n",
      "12    18.861\n",
      "15    18.972\n",
      "18    18.901\n",
      "21    19.384\n",
      "24    19.371\n",
      "27    19.656\n",
      "30    19.586\n",
      "33    19.445\n",
      "dtype: float64\n"
     ]
    }
   ],
   "source": [
    "# 5 Dense Layer\n",
    "x3 = hidden_layer\n",
    "y3 = [5] * 10\n",
    "y3 = pd.Series(y3, index=x3)\n",
    "#print(y3)\n",
    "z3 = pd.Series(z3, index=x3)\n",
    "print(z3)"
   ]
  },
  {
   "cell_type": "code",
   "execution_count": 7,
   "metadata": {},
   "outputs": [],
   "source": [
    "polyfit = polyfit_diff\n",
    "polyfit_list = [[polyfit_diff] * 30] * 7\n",
    "#print(polyfit_list)"
   ]
  },
  {
   "cell_type": "code",
   "execution_count": 8,
   "metadata": {},
   "outputs": [
    {
     "data": {
      "application/vnd.plotly.v1+json": {
       "data": [
        {
         "line": {
          "color": "#1f77b4",
          "width": 2
         },
         "marker": {
          "color": [
           18.037,
           18.467,
           18.02,
           18.516,
           18.61,
           18.703,
           18.956,
           18.722,
           18.395,
           18.966
          ],
          "size": 8
         },
         "type": "scatter3d",
         "uid": "83fad99c-e131-11e8-861e-001a7dda7111",
         "x": [
          6,
          9,
          12,
          15,
          18,
          21,
          24,
          27,
          30,
          33
         ],
         "y": [
          3,
          3,
          3,
          3,
          3,
          3,
          3,
          3,
          3,
          3
         ],
         "z": [
          18.037,
          18.467,
          18.02,
          18.516,
          18.61,
          18.703,
          18.956,
          18.722,
          18.395,
          18.966
         ]
        },
        {
         "line": {
          "color": "#1f77b4",
          "width": 2
         },
         "marker": {
          "color": [
           19.144,
           18.092,
           18.642,
           18.957,
           18.662,
           18.831,
           19.633,
           19.03,
           18.979,
           19.447
          ],
          "size": 8
         },
         "type": "scatter3d",
         "uid": "83fad99d-e131-11e8-9e56-001a7dda7111",
         "x": [
          6,
          9,
          12,
          15,
          18,
          21,
          24,
          27,
          30,
          33
         ],
         "y": [
          4,
          4,
          4,
          4,
          4,
          4,
          4,
          4,
          4,
          4
         ],
         "z": [
          19.144,
          18.092,
          18.642,
          18.957,
          18.662,
          18.831,
          19.633,
          19.03,
          18.979,
          19.447
         ]
        },
        {
         "line": {
          "color": "#1f77b4",
          "width": 2
         },
         "marker": {
          "color": [
           19.388,
           19.366,
           18.861,
           18.972,
           18.901,
           19.384,
           19.371,
           19.656,
           19.586,
           19.445
          ],
          "size": 8
         },
         "type": "scatter3d",
         "uid": "83fad99e-e131-11e8-87f0-001a7dda7111",
         "x": [
          6,
          9,
          12,
          15,
          18,
          21,
          24,
          27,
          30,
          33
         ],
         "y": [
          5,
          5,
          5,
          5,
          5,
          5,
          5,
          5,
          5,
          5
         ],
         "z": [
          19.388,
          19.366,
          18.861,
          18.972,
          18.901,
          19.384,
          19.371,
          19.656,
          19.586,
          19.445
         ]
        },
        {
         "colorscale": "Jet",
         "opacity": 0.7,
         "showscale": false,
         "type": "surface",
         "uid": "83fad99f-e131-11e8-95c4-001a7dda7111",
         "z": [
          [
           16.565,
           16.565,
           16.565,
           16.565,
           16.565,
           16.565,
           16.565,
           16.565,
           16.565,
           16.565,
           16.565,
           16.565,
           16.565,
           16.565,
           16.565,
           16.565,
           16.565,
           16.565,
           16.565,
           16.565,
           16.565,
           16.565,
           16.565,
           16.565,
           16.565,
           16.565,
           16.565,
           16.565,
           16.565,
           16.565
          ],
          [
           16.565,
           16.565,
           16.565,
           16.565,
           16.565,
           16.565,
           16.565,
           16.565,
           16.565,
           16.565,
           16.565,
           16.565,
           16.565,
           16.565,
           16.565,
           16.565,
           16.565,
           16.565,
           16.565,
           16.565,
           16.565,
           16.565,
           16.565,
           16.565,
           16.565,
           16.565,
           16.565,
           16.565,
           16.565,
           16.565
          ],
          [
           16.565,
           16.565,
           16.565,
           16.565,
           16.565,
           16.565,
           16.565,
           16.565,
           16.565,
           16.565,
           16.565,
           16.565,
           16.565,
           16.565,
           16.565,
           16.565,
           16.565,
           16.565,
           16.565,
           16.565,
           16.565,
           16.565,
           16.565,
           16.565,
           16.565,
           16.565,
           16.565,
           16.565,
           16.565,
           16.565
          ],
          [
           16.565,
           16.565,
           16.565,
           16.565,
           16.565,
           16.565,
           16.565,
           16.565,
           16.565,
           16.565,
           16.565,
           16.565,
           16.565,
           16.565,
           16.565,
           16.565,
           16.565,
           16.565,
           16.565,
           16.565,
           16.565,
           16.565,
           16.565,
           16.565,
           16.565,
           16.565,
           16.565,
           16.565,
           16.565,
           16.565
          ],
          [
           16.565,
           16.565,
           16.565,
           16.565,
           16.565,
           16.565,
           16.565,
           16.565,
           16.565,
           16.565,
           16.565,
           16.565,
           16.565,
           16.565,
           16.565,
           16.565,
           16.565,
           16.565,
           16.565,
           16.565,
           16.565,
           16.565,
           16.565,
           16.565,
           16.565,
           16.565,
           16.565,
           16.565,
           16.565,
           16.565
          ],
          [
           16.565,
           16.565,
           16.565,
           16.565,
           16.565,
           16.565,
           16.565,
           16.565,
           16.565,
           16.565,
           16.565,
           16.565,
           16.565,
           16.565,
           16.565,
           16.565,
           16.565,
           16.565,
           16.565,
           16.565,
           16.565,
           16.565,
           16.565,
           16.565,
           16.565,
           16.565,
           16.565,
           16.565,
           16.565,
           16.565
          ],
          [
           16.565,
           16.565,
           16.565,
           16.565,
           16.565,
           16.565,
           16.565,
           16.565,
           16.565,
           16.565,
           16.565,
           16.565,
           16.565,
           16.565,
           16.565,
           16.565,
           16.565,
           16.565,
           16.565,
           16.565,
           16.565,
           16.565,
           16.565,
           16.565,
           16.565,
           16.565,
           16.565,
           16.565,
           16.565,
           16.565
          ]
         ]
        }
       ],
       "layout": {
        "height": 700,
        "scene": {
         "xaxis": {
          "backgroundcolor": "rgb(200, 200, 230)",
          "gridcolor": "rgb(255, 255, 255)",
          "showbackground": true,
          "title": "Hidden Layer Dim (X)",
          "titlefont": {
           "color": "#ff0000",
           "size": 14
          },
          "zerolinecolor": "rgb(255, 255, 255)"
         },
         "yaxis": {
          "backgroundcolor": "rgb(230, 200, 230)",
          "gridcolor": "rgb(255, 255, 255)",
          "nticks": 5,
          "range": [
           2,
           6
          ],
          "showbackground": true,
          "title": "Dense Layer Num (Y)",
          "titlefont": {
           "color": "#ff0000",
           "size": 14
          },
          "zerolinecolor": "rgb(255, 255, 255)"
         },
         "zaxis": {
          "backgroundcolor": "rgb(230, 230, 200)",
          "gridcolor": "rgb(255, 255, 255)",
          "showbackground": true,
          "title": "Avg Diff (Z)",
          "titlefont": {
           "color": "#ff0000",
           "size": 10
          },
          "zerolinecolor": "rgb(255, 255, 255)"
         }
        },
        "title": "MotoCtoiPad Model Varient (Exp. 63-65) (Test By Random Set 2)",
        "width": 800
       }
      },
      "text/html": [
       "<div id=\"a53d74af-1992-402b-9aee-61ed69e8fd39\" style=\"height: 700px; width: 800px;\" class=\"plotly-graph-div\"></div><script type=\"text/javascript\">require([\"plotly\"], function(Plotly) { window.PLOTLYENV=window.PLOTLYENV || {};window.PLOTLYENV.BASE_URL=\"https://plot.ly\";Plotly.newPlot(\"a53d74af-1992-402b-9aee-61ed69e8fd39\", [{\"uid\": \"83fad99c-e131-11e8-861e-001a7dda7111\", \"marker\": {\"color\": [18.037, 18.467, 18.02, 18.516, 18.61, 18.703, 18.956, 18.722, 18.395, 18.966], \"size\": 8}, \"y\": [3, 3, 3, 3, 3, 3, 3, 3, 3, 3], \"z\": [18.037, 18.467, 18.02, 18.516, 18.61, 18.703, 18.956, 18.722, 18.395, 18.966], \"type\": \"scatter3d\", \"x\": [6, 9, 12, 15, 18, 21, 24, 27, 30, 33], \"line\": {\"width\": 2, \"color\": \"#1f77b4\"}}, {\"uid\": \"83fad99d-e131-11e8-9e56-001a7dda7111\", \"marker\": {\"color\": [19.144, 18.092, 18.642, 18.957, 18.662, 18.831, 19.633, 19.03, 18.979, 19.447], \"size\": 8}, \"y\": [4, 4, 4, 4, 4, 4, 4, 4, 4, 4], \"z\": [19.144, 18.092, 18.642, 18.957, 18.662, 18.831, 19.633, 19.03, 18.979, 19.447], \"type\": \"scatter3d\", \"x\": [6, 9, 12, 15, 18, 21, 24, 27, 30, 33], \"line\": {\"width\": 2, \"color\": \"#1f77b4\"}}, {\"uid\": \"83fad99e-e131-11e8-87f0-001a7dda7111\", \"marker\": {\"color\": [19.388, 19.366, 18.861, 18.972, 18.901, 19.384, 19.371, 19.656, 19.586, 19.445], \"size\": 8}, \"y\": [5, 5, 5, 5, 5, 5, 5, 5, 5, 5], \"z\": [19.388, 19.366, 18.861, 18.972, 18.901, 19.384, 19.371, 19.656, 19.586, 19.445], \"type\": \"scatter3d\", \"x\": [6, 9, 12, 15, 18, 21, 24, 27, 30, 33], \"line\": {\"width\": 2, \"color\": \"#1f77b4\"}}, {\"opacity\": 0.7, \"colorscale\": \"Jet\", \"uid\": \"83fad99f-e131-11e8-95c4-001a7dda7111\", \"z\": [[16.565, 16.565, 16.565, 16.565, 16.565, 16.565, 16.565, 16.565, 16.565, 16.565, 16.565, 16.565, 16.565, 16.565, 16.565, 16.565, 16.565, 16.565, 16.565, 16.565, 16.565, 16.565, 16.565, 16.565, 16.565, 16.565, 16.565, 16.565, 16.565, 16.565], [16.565, 16.565, 16.565, 16.565, 16.565, 16.565, 16.565, 16.565, 16.565, 16.565, 16.565, 16.565, 16.565, 16.565, 16.565, 16.565, 16.565, 16.565, 16.565, 16.565, 16.565, 16.565, 16.565, 16.565, 16.565, 16.565, 16.565, 16.565, 16.565, 16.565], [16.565, 16.565, 16.565, 16.565, 16.565, 16.565, 16.565, 16.565, 16.565, 16.565, 16.565, 16.565, 16.565, 16.565, 16.565, 16.565, 16.565, 16.565, 16.565, 16.565, 16.565, 16.565, 16.565, 16.565, 16.565, 16.565, 16.565, 16.565, 16.565, 16.565], [16.565, 16.565, 16.565, 16.565, 16.565, 16.565, 16.565, 16.565, 16.565, 16.565, 16.565, 16.565, 16.565, 16.565, 16.565, 16.565, 16.565, 16.565, 16.565, 16.565, 16.565, 16.565, 16.565, 16.565, 16.565, 16.565, 16.565, 16.565, 16.565, 16.565], [16.565, 16.565, 16.565, 16.565, 16.565, 16.565, 16.565, 16.565, 16.565, 16.565, 16.565, 16.565, 16.565, 16.565, 16.565, 16.565, 16.565, 16.565, 16.565, 16.565, 16.565, 16.565, 16.565, 16.565, 16.565, 16.565, 16.565, 16.565, 16.565, 16.565], [16.565, 16.565, 16.565, 16.565, 16.565, 16.565, 16.565, 16.565, 16.565, 16.565, 16.565, 16.565, 16.565, 16.565, 16.565, 16.565, 16.565, 16.565, 16.565, 16.565, 16.565, 16.565, 16.565, 16.565, 16.565, 16.565, 16.565, 16.565, 16.565, 16.565], [16.565, 16.565, 16.565, 16.565, 16.565, 16.565, 16.565, 16.565, 16.565, 16.565, 16.565, 16.565, 16.565, 16.565, 16.565, 16.565, 16.565, 16.565, 16.565, 16.565, 16.565, 16.565, 16.565, 16.565, 16.565, 16.565, 16.565, 16.565, 16.565, 16.565]], \"type\": \"surface\", \"showscale\": false}], {\"height\": 700, \"width\": 800, \"scene\": {\"zaxis\": {\"gridcolor\": \"rgb(255, 255, 255)\", \"zerolinecolor\": \"rgb(255, 255, 255)\", \"backgroundcolor\": \"rgb(230, 230, 200)\", \"showbackground\": true, \"title\": \"Avg Diff (Z)\", \"titlefont\": {\"color\": \"#ff0000\", \"size\": 10}}, \"yaxis\": {\"gridcolor\": \"rgb(255, 255, 255)\", \"nticks\": 5, \"zerolinecolor\": \"rgb(255, 255, 255)\", \"backgroundcolor\": \"rgb(230, 200, 230)\", \"range\": [2, 6], \"showbackground\": true, \"title\": \"Dense Layer Num (Y)\", \"titlefont\": {\"color\": \"#ff0000\", \"size\": 14}}, \"xaxis\": {\"gridcolor\": \"rgb(255, 255, 255)\", \"zerolinecolor\": \"rgb(255, 255, 255)\", \"backgroundcolor\": \"rgb(200, 200, 230)\", \"showbackground\": true, \"title\": \"Hidden Layer Dim (X)\", \"titlefont\": {\"color\": \"#ff0000\", \"size\": 14}}}, \"title\": \"MotoCtoiPad Model Varient (Exp. 63-65) (Test By Random Set 2)\"}, {\"showLink\": true, \"linkText\": \"Export to plot.ly\"})});</script>"
      ],
      "text/vnd.plotly.v1+html": [
       "<div id=\"a53d74af-1992-402b-9aee-61ed69e8fd39\" style=\"height: 700px; width: 800px;\" class=\"plotly-graph-div\"></div><script type=\"text/javascript\">require([\"plotly\"], function(Plotly) { window.PLOTLYENV=window.PLOTLYENV || {};window.PLOTLYENV.BASE_URL=\"https://plot.ly\";Plotly.newPlot(\"a53d74af-1992-402b-9aee-61ed69e8fd39\", [{\"uid\": \"83fad99c-e131-11e8-861e-001a7dda7111\", \"marker\": {\"color\": [18.037, 18.467, 18.02, 18.516, 18.61, 18.703, 18.956, 18.722, 18.395, 18.966], \"size\": 8}, \"y\": [3, 3, 3, 3, 3, 3, 3, 3, 3, 3], \"z\": [18.037, 18.467, 18.02, 18.516, 18.61, 18.703, 18.956, 18.722, 18.395, 18.966], \"type\": \"scatter3d\", \"x\": [6, 9, 12, 15, 18, 21, 24, 27, 30, 33], \"line\": {\"width\": 2, \"color\": \"#1f77b4\"}}, {\"uid\": \"83fad99d-e131-11e8-9e56-001a7dda7111\", \"marker\": {\"color\": [19.144, 18.092, 18.642, 18.957, 18.662, 18.831, 19.633, 19.03, 18.979, 19.447], \"size\": 8}, \"y\": [4, 4, 4, 4, 4, 4, 4, 4, 4, 4], \"z\": [19.144, 18.092, 18.642, 18.957, 18.662, 18.831, 19.633, 19.03, 18.979, 19.447], \"type\": \"scatter3d\", \"x\": [6, 9, 12, 15, 18, 21, 24, 27, 30, 33], \"line\": {\"width\": 2, \"color\": \"#1f77b4\"}}, {\"uid\": \"83fad99e-e131-11e8-87f0-001a7dda7111\", \"marker\": {\"color\": [19.388, 19.366, 18.861, 18.972, 18.901, 19.384, 19.371, 19.656, 19.586, 19.445], \"size\": 8}, \"y\": [5, 5, 5, 5, 5, 5, 5, 5, 5, 5], \"z\": [19.388, 19.366, 18.861, 18.972, 18.901, 19.384, 19.371, 19.656, 19.586, 19.445], \"type\": \"scatter3d\", \"x\": [6, 9, 12, 15, 18, 21, 24, 27, 30, 33], \"line\": {\"width\": 2, \"color\": \"#1f77b4\"}}, {\"opacity\": 0.7, \"colorscale\": \"Jet\", \"uid\": \"83fad99f-e131-11e8-95c4-001a7dda7111\", \"z\": [[16.565, 16.565, 16.565, 16.565, 16.565, 16.565, 16.565, 16.565, 16.565, 16.565, 16.565, 16.565, 16.565, 16.565, 16.565, 16.565, 16.565, 16.565, 16.565, 16.565, 16.565, 16.565, 16.565, 16.565, 16.565, 16.565, 16.565, 16.565, 16.565, 16.565], [16.565, 16.565, 16.565, 16.565, 16.565, 16.565, 16.565, 16.565, 16.565, 16.565, 16.565, 16.565, 16.565, 16.565, 16.565, 16.565, 16.565, 16.565, 16.565, 16.565, 16.565, 16.565, 16.565, 16.565, 16.565, 16.565, 16.565, 16.565, 16.565, 16.565], [16.565, 16.565, 16.565, 16.565, 16.565, 16.565, 16.565, 16.565, 16.565, 16.565, 16.565, 16.565, 16.565, 16.565, 16.565, 16.565, 16.565, 16.565, 16.565, 16.565, 16.565, 16.565, 16.565, 16.565, 16.565, 16.565, 16.565, 16.565, 16.565, 16.565], [16.565, 16.565, 16.565, 16.565, 16.565, 16.565, 16.565, 16.565, 16.565, 16.565, 16.565, 16.565, 16.565, 16.565, 16.565, 16.565, 16.565, 16.565, 16.565, 16.565, 16.565, 16.565, 16.565, 16.565, 16.565, 16.565, 16.565, 16.565, 16.565, 16.565], [16.565, 16.565, 16.565, 16.565, 16.565, 16.565, 16.565, 16.565, 16.565, 16.565, 16.565, 16.565, 16.565, 16.565, 16.565, 16.565, 16.565, 16.565, 16.565, 16.565, 16.565, 16.565, 16.565, 16.565, 16.565, 16.565, 16.565, 16.565, 16.565, 16.565], [16.565, 16.565, 16.565, 16.565, 16.565, 16.565, 16.565, 16.565, 16.565, 16.565, 16.565, 16.565, 16.565, 16.565, 16.565, 16.565, 16.565, 16.565, 16.565, 16.565, 16.565, 16.565, 16.565, 16.565, 16.565, 16.565, 16.565, 16.565, 16.565, 16.565], [16.565, 16.565, 16.565, 16.565, 16.565, 16.565, 16.565, 16.565, 16.565, 16.565, 16.565, 16.565, 16.565, 16.565, 16.565, 16.565, 16.565, 16.565, 16.565, 16.565, 16.565, 16.565, 16.565, 16.565, 16.565, 16.565, 16.565, 16.565, 16.565, 16.565]], \"type\": \"surface\", \"showscale\": false}], {\"height\": 700, \"width\": 800, \"scene\": {\"zaxis\": {\"gridcolor\": \"rgb(255, 255, 255)\", \"zerolinecolor\": \"rgb(255, 255, 255)\", \"backgroundcolor\": \"rgb(230, 230, 200)\", \"showbackground\": true, \"title\": \"Avg Diff (Z)\", \"titlefont\": {\"color\": \"#ff0000\", \"size\": 10}}, \"yaxis\": {\"gridcolor\": \"rgb(255, 255, 255)\", \"nticks\": 5, \"zerolinecolor\": \"rgb(255, 255, 255)\", \"backgroundcolor\": \"rgb(230, 200, 230)\", \"range\": [2, 6], \"showbackground\": true, \"title\": \"Dense Layer Num (Y)\", \"titlefont\": {\"color\": \"#ff0000\", \"size\": 14}}, \"xaxis\": {\"gridcolor\": \"rgb(255, 255, 255)\", \"zerolinecolor\": \"rgb(255, 255, 255)\", \"backgroundcolor\": \"rgb(200, 200, 230)\", \"showbackground\": true, \"title\": \"Hidden Layer Dim (X)\", \"titlefont\": {\"color\": \"#ff0000\", \"size\": 14}}}, \"title\": \"MotoCtoiPad Model Varient (Exp. 63-65) (Test By Random Set 2)\"}, {\"showLink\": true, \"linkText\": \"Export to plot.ly\"})});</script>"
      ]
     },
     "metadata": {},
     "output_type": "display_data"
    }
   ],
   "source": [
    "trace = go.Scatter3d(\n",
    "    x=x1, y=y1, z=z1,\n",
    "    marker=dict(\n",
    "        size=8,\n",
    "        color=z1\n",
    "    ),\n",
    "    line=dict(\n",
    "        color='#1f77b4',\n",
    "        width=2\n",
    "    )\n",
    ")\n",
    "\n",
    "trace2 = go.Scatter3d(\n",
    "    x=x2, y=y2, z=z2,\n",
    "    marker=dict(\n",
    "        size=8,\n",
    "        color=z2\n",
    "    ),\n",
    "    line=dict(\n",
    "        color='#1f77b4',\n",
    "        width=2\n",
    "    )\n",
    ")\n",
    "\n",
    "trace3 = go.Scatter3d(\n",
    "    x=x3, y=y3, z=z3,\n",
    "    marker=dict(\n",
    "        size=8,\n",
    "        color=z3\n",
    "    ),\n",
    "    line=dict(\n",
    "        color='#1f77b4',\n",
    "        width=2\n",
    "    )\n",
    ")\n",
    "\n",
    "trace4 = go.Surface(\n",
    "    z=polyfit_list,\n",
    "    opacity=0.7,\n",
    "    colorscale='Jet',\n",
    "    showscale=False\n",
    ")\n",
    "\n",
    "data = [trace, trace2, trace3, trace4]\n",
    "layout = go.Layout(\n",
    "    width=800,\n",
    "    height=700,\n",
    "    title= title,\n",
    "    scene=dict(\n",
    "        xaxis=dict(\n",
    "            title='Hidden Layer Dim (X)',\n",
    "            titlefont=dict(\n",
    "                size=14,\n",
    "                color='#ff0000'\n",
    "            ),\n",
    "            gridcolor='rgb(255, 255, 255)',\n",
    "            zerolinecolor='rgb(255, 255, 255)',\n",
    "            showbackground=True,\n",
    "            backgroundcolor='rgb(200, 200, 230)'\n",
    "        ),\n",
    "        yaxis=dict(\n",
    "            nticks = 5,\n",
    "            range = [2, 6],\n",
    "            title='Dense Layer Num (Y)',\n",
    "            titlefont=dict(\n",
    "                size=14,\n",
    "                color='#ff0000'\n",
    "            ),\n",
    "            gridcolor='rgb(255, 255, 255)',\n",
    "            zerolinecolor='rgb(255, 255, 255)',\n",
    "            showbackground=True,\n",
    "            backgroundcolor='rgb(230, 200, 230)'\n",
    "        ),\n",
    "        zaxis=dict(\n",
    "            title='Avg Diff (Z)',\n",
    "            titlefont=dict(\n",
    "                size=10,\n",
    "                color='#ff0000'\n",
    "            ),\n",
    "            gridcolor='rgb(255, 255, 255)',\n",
    "            zerolinecolor='rgb(255, 255, 255)',\n",
    "            showbackground=True,\n",
    "            backgroundcolor='rgb(230, 230, 200)'\n",
    "        ),\n",
    "    )\n",
    ")\n",
    "\n",
    "fig = go.Figure(data=data, layout=layout)\n",
    "plotly.offline.iplot(fig)"
   ]
  },
  {
   "cell_type": "code",
   "execution_count": null,
   "metadata": {},
   "outputs": [],
   "source": []
  },
  {
   "cell_type": "code",
   "execution_count": 9,
   "metadata": {},
   "outputs": [
    {
     "data": {
      "text/plain": [
       "'file://C:\\\\Users\\\\Mig\\\\Documents\\\\Plotly-Practice\\\\experiment63-65-RandomSet_2.html'"
      ]
     },
     "execution_count": 9,
     "metadata": {},
     "output_type": "execute_result"
    }
   ],
   "source": [
    "plotly.offline.plot(fig, filename=filename)"
   ]
  },
  {
   "cell_type": "code",
   "execution_count": null,
   "metadata": {},
   "outputs": [],
   "source": []
  }
 ],
 "metadata": {
  "kernelspec": {
   "display_name": "Python 3",
   "language": "python",
   "name": "python3"
  },
  "language_info": {
   "codemirror_mode": {
    "name": "ipython",
    "version": 3
   },
   "file_extension": ".py",
   "mimetype": "text/x-python",
   "name": "python",
   "nbconvert_exporter": "python",
   "pygments_lexer": "ipython3",
   "version": "3.5.6"
  }
 },
 "nbformat": 4,
 "nbformat_minor": 2
}
