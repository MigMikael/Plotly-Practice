{
 "cells": [
  {
   "cell_type": "code",
   "execution_count": 1,
   "metadata": {},
   "outputs": [],
   "source": [
    "title = \"S8toMotoC Model Varient (Exp. 72-74) (Test By Generated Set)\"\n",
    "filename = 'experiment72-74-GeneratedSet.html'\n",
    "polyfit_diff = 15.146\n",
    "\n",
    "hidden_layer = [6, 9, 12, 15, 18, 21, 24, 27, 30, 33]"
   ]
  },
  {
   "cell_type": "code",
   "execution_count": 2,
   "metadata": {},
   "outputs": [],
   "source": [
    "# 3 Dense Layer \n",
    "z1 = [15.224, 15.105, 14.827, 14.668, 14.417, 14.373, 14.391, 14.274, 14.28, 14.202]\n",
    "\n",
    "# 4 Dense Layer \n",
    "z2 = [15.183, 14.747, 14.378, 14.126, 14.13, 14.045, 13.848, 13.883, 13.793, 13.792]\n",
    "\n",
    "# 5 Dense Layer \n",
    "z3 = [14.96, 14.55, 14.214, 14.113, 13.871, 13.774, 13.757, 13.598, 13.591, 13.474]"
   ]
  },
  {
   "cell_type": "code",
   "execution_count": 3,
   "metadata": {},
   "outputs": [
    {
     "data": {
      "text/html": [
       "<script>requirejs.config({paths: { 'plotly': ['https://cdn.plot.ly/plotly-latest.min']},});if(!window.Plotly) {{require(['plotly'],function(plotly) {window.Plotly=plotly;});}}</script>"
      ],
      "text/vnd.plotly.v1+html": [
       "<script>requirejs.config({paths: { 'plotly': ['https://cdn.plot.ly/plotly-latest.min']},});if(!window.Plotly) {{require(['plotly'],function(plotly) {window.Plotly=plotly;});}}</script>"
      ]
     },
     "metadata": {},
     "output_type": "display_data"
    }
   ],
   "source": [
    "import plotly\n",
    "from plotly.offline import download_plotlyjs, init_notebook_mode, plot, iplot\n",
    "import plotly.graph_objs as go\n",
    "import pandas as pd\n",
    "import numpy as np\n",
    "\n",
    "init_notebook_mode(connected=True)\n",
    "# print(plotly.__version__) "
   ]
  },
  {
   "cell_type": "code",
   "execution_count": 4,
   "metadata": {},
   "outputs": [
    {
     "name": "stdout",
     "output_type": "stream",
     "text": [
      "6     15.224\n",
      "9     15.105\n",
      "12    14.827\n",
      "15    14.668\n",
      "18    14.417\n",
      "21    14.373\n",
      "24    14.391\n",
      "27    14.274\n",
      "30    14.280\n",
      "33    14.202\n",
      "dtype: float64\n"
     ]
    }
   ],
   "source": [
    "# 3 Dense Layer \n",
    "x1 = hidden_layer\n",
    "y1 = [3] * 10\n",
    "y1 = pd.Series(y1, index=x1)\n",
    "#print(y1)\n",
    "z1 = pd.Series(z1, index=x1)\n",
    "print(z1)"
   ]
  },
  {
   "cell_type": "code",
   "execution_count": 5,
   "metadata": {},
   "outputs": [
    {
     "name": "stdout",
     "output_type": "stream",
     "text": [
      "6     15.183\n",
      "9     14.747\n",
      "12    14.378\n",
      "15    14.126\n",
      "18    14.130\n",
      "21    14.045\n",
      "24    13.848\n",
      "27    13.883\n",
      "30    13.793\n",
      "33    13.792\n",
      "dtype: float64\n"
     ]
    }
   ],
   "source": [
    "# 4 Dense Layer\n",
    "x2 = hidden_layer\n",
    "y2 = [4] * 10\n",
    "y2 = pd.Series(y2, index=x2)\n",
    "#print(y2)\n",
    "z2 = pd.Series(z2, index=x2)\n",
    "print(z2)"
   ]
  },
  {
   "cell_type": "code",
   "execution_count": 6,
   "metadata": {},
   "outputs": [
    {
     "name": "stdout",
     "output_type": "stream",
     "text": [
      "6     14.960\n",
      "9     14.550\n",
      "12    14.214\n",
      "15    14.113\n",
      "18    13.871\n",
      "21    13.774\n",
      "24    13.757\n",
      "27    13.598\n",
      "30    13.591\n",
      "33    13.474\n",
      "dtype: float64\n"
     ]
    }
   ],
   "source": [
    "# 5 Dense Layer\n",
    "x3 = hidden_layer\n",
    "y3 = [5] * 10\n",
    "y3 = pd.Series(y3, index=x3)\n",
    "#print(y3)\n",
    "z3 = pd.Series(z3, index=x3)\n",
    "print(z3)"
   ]
  },
  {
   "cell_type": "code",
   "execution_count": 7,
   "metadata": {},
   "outputs": [],
   "source": [
    "polyfit = polyfit_diff\n",
    "polyfit_list = [[polyfit_diff] * 30] * 7\n",
    "#print(polyfit_list)"
   ]
  },
  {
   "cell_type": "code",
   "execution_count": 8,
   "metadata": {},
   "outputs": [
    {
     "data": {
      "application/vnd.plotly.v1+json": {
       "data": [
        {
         "line": {
          "color": "#1f77b4",
          "width": 2
         },
         "marker": {
          "color": [
           15.224,
           15.105,
           14.827,
           14.668,
           14.417,
           14.373,
           14.391,
           14.274,
           14.28,
           14.202
          ],
          "size": 8
         },
         "type": "scatter3d",
         "uid": "812f237a-e068-11e8-bf92-001a7dda7111",
         "x": [
          6,
          9,
          12,
          15,
          18,
          21,
          24,
          27,
          30,
          33
         ],
         "y": [
          3,
          3,
          3,
          3,
          3,
          3,
          3,
          3,
          3,
          3
         ],
         "z": [
          15.224,
          15.105,
          14.827,
          14.668,
          14.417,
          14.373,
          14.391,
          14.274,
          14.28,
          14.202
         ]
        },
        {
         "line": {
          "color": "#1f77b4",
          "width": 2
         },
         "marker": {
          "color": [
           15.183,
           14.747,
           14.378,
           14.126,
           14.13,
           14.045,
           13.848,
           13.883,
           13.793,
           13.792
          ],
          "size": 8
         },
         "type": "scatter3d",
         "uid": "812f237b-e068-11e8-90b0-001a7dda7111",
         "x": [
          6,
          9,
          12,
          15,
          18,
          21,
          24,
          27,
          30,
          33
         ],
         "y": [
          4,
          4,
          4,
          4,
          4,
          4,
          4,
          4,
          4,
          4
         ],
         "z": [
          15.183,
          14.747,
          14.378,
          14.126,
          14.13,
          14.045,
          13.848,
          13.883,
          13.793,
          13.792
         ]
        },
        {
         "line": {
          "color": "#1f77b4",
          "width": 2
         },
         "marker": {
          "color": [
           14.96,
           14.55,
           14.214,
           14.113,
           13.871,
           13.774,
           13.757,
           13.598,
           13.591,
           13.474
          ],
          "size": 8
         },
         "type": "scatter3d",
         "uid": "812f237c-e068-11e8-9d3d-001a7dda7111",
         "x": [
          6,
          9,
          12,
          15,
          18,
          21,
          24,
          27,
          30,
          33
         ],
         "y": [
          5,
          5,
          5,
          5,
          5,
          5,
          5,
          5,
          5,
          5
         ],
         "z": [
          14.96,
          14.55,
          14.214,
          14.113,
          13.871,
          13.774,
          13.757,
          13.598,
          13.591,
          13.474
         ]
        },
        {
         "colorscale": "Jet",
         "opacity": 0.7,
         "showscale": false,
         "type": "surface",
         "uid": "812f237d-e068-11e8-9523-001a7dda7111",
         "z": [
          [
           15.146,
           15.146,
           15.146,
           15.146,
           15.146,
           15.146,
           15.146,
           15.146,
           15.146,
           15.146,
           15.146,
           15.146,
           15.146,
           15.146,
           15.146,
           15.146,
           15.146,
           15.146,
           15.146,
           15.146,
           15.146,
           15.146,
           15.146,
           15.146,
           15.146,
           15.146,
           15.146,
           15.146,
           15.146,
           15.146
          ],
          [
           15.146,
           15.146,
           15.146,
           15.146,
           15.146,
           15.146,
           15.146,
           15.146,
           15.146,
           15.146,
           15.146,
           15.146,
           15.146,
           15.146,
           15.146,
           15.146,
           15.146,
           15.146,
           15.146,
           15.146,
           15.146,
           15.146,
           15.146,
           15.146,
           15.146,
           15.146,
           15.146,
           15.146,
           15.146,
           15.146
          ],
          [
           15.146,
           15.146,
           15.146,
           15.146,
           15.146,
           15.146,
           15.146,
           15.146,
           15.146,
           15.146,
           15.146,
           15.146,
           15.146,
           15.146,
           15.146,
           15.146,
           15.146,
           15.146,
           15.146,
           15.146,
           15.146,
           15.146,
           15.146,
           15.146,
           15.146,
           15.146,
           15.146,
           15.146,
           15.146,
           15.146
          ],
          [
           15.146,
           15.146,
           15.146,
           15.146,
           15.146,
           15.146,
           15.146,
           15.146,
           15.146,
           15.146,
           15.146,
           15.146,
           15.146,
           15.146,
           15.146,
           15.146,
           15.146,
           15.146,
           15.146,
           15.146,
           15.146,
           15.146,
           15.146,
           15.146,
           15.146,
           15.146,
           15.146,
           15.146,
           15.146,
           15.146
          ],
          [
           15.146,
           15.146,
           15.146,
           15.146,
           15.146,
           15.146,
           15.146,
           15.146,
           15.146,
           15.146,
           15.146,
           15.146,
           15.146,
           15.146,
           15.146,
           15.146,
           15.146,
           15.146,
           15.146,
           15.146,
           15.146,
           15.146,
           15.146,
           15.146,
           15.146,
           15.146,
           15.146,
           15.146,
           15.146,
           15.146
          ],
          [
           15.146,
           15.146,
           15.146,
           15.146,
           15.146,
           15.146,
           15.146,
           15.146,
           15.146,
           15.146,
           15.146,
           15.146,
           15.146,
           15.146,
           15.146,
           15.146,
           15.146,
           15.146,
           15.146,
           15.146,
           15.146,
           15.146,
           15.146,
           15.146,
           15.146,
           15.146,
           15.146,
           15.146,
           15.146,
           15.146
          ],
          [
           15.146,
           15.146,
           15.146,
           15.146,
           15.146,
           15.146,
           15.146,
           15.146,
           15.146,
           15.146,
           15.146,
           15.146,
           15.146,
           15.146,
           15.146,
           15.146,
           15.146,
           15.146,
           15.146,
           15.146,
           15.146,
           15.146,
           15.146,
           15.146,
           15.146,
           15.146,
           15.146,
           15.146,
           15.146,
           15.146
          ]
         ]
        }
       ],
       "layout": {
        "height": 700,
        "scene": {
         "xaxis": {
          "backgroundcolor": "rgb(200, 200, 230)",
          "gridcolor": "rgb(255, 255, 255)",
          "showbackground": true,
          "title": "Hidden Layer Dim (X)",
          "titlefont": {
           "color": "#ff0000",
           "size": 14
          },
          "zerolinecolor": "rgb(255, 255, 255)"
         },
         "yaxis": {
          "backgroundcolor": "rgb(230, 200, 230)",
          "gridcolor": "rgb(255, 255, 255)",
          "nticks": 5,
          "range": [
           2,
           6
          ],
          "showbackground": true,
          "title": "Dense Layer Num (Y)",
          "titlefont": {
           "color": "#ff0000",
           "size": 14
          },
          "zerolinecolor": "rgb(255, 255, 255)"
         },
         "zaxis": {
          "backgroundcolor": "rgb(230, 230, 200)",
          "gridcolor": "rgb(255, 255, 255)",
          "showbackground": true,
          "title": "Avg Diff (Z)",
          "titlefont": {
           "color": "#ff0000",
           "size": 10
          },
          "zerolinecolor": "rgb(255, 255, 255)"
         }
        },
        "title": "S8toMotoC Model Varient (Exp. 72-74) (Test By Generated Set)",
        "width": 800
       }
      },
      "text/html": [
       "<div id=\"ecf29521-4abc-4e2b-a268-355b7473d218\" style=\"height: 700px; width: 800px;\" class=\"plotly-graph-div\"></div><script type=\"text/javascript\">require([\"plotly\"], function(Plotly) { window.PLOTLYENV=window.PLOTLYENV || {};window.PLOTLYENV.BASE_URL=\"https://plot.ly\";Plotly.newPlot(\"ecf29521-4abc-4e2b-a268-355b7473d218\", [{\"marker\": {\"color\": [15.224, 15.105, 14.827, 14.668, 14.417, 14.373, 14.391, 14.274, 14.28, 14.202], \"size\": 8}, \"type\": \"scatter3d\", \"y\": [3, 3, 3, 3, 3, 3, 3, 3, 3, 3], \"z\": [15.224, 15.105, 14.827, 14.668, 14.417, 14.373, 14.391, 14.274, 14.28, 14.202], \"line\": {\"color\": \"#1f77b4\", \"width\": 2}, \"x\": [6, 9, 12, 15, 18, 21, 24, 27, 30, 33], \"uid\": \"812f237a-e068-11e8-bf92-001a7dda7111\"}, {\"marker\": {\"color\": [15.183, 14.747, 14.378, 14.126, 14.13, 14.045, 13.848, 13.883, 13.793, 13.792], \"size\": 8}, \"type\": \"scatter3d\", \"y\": [4, 4, 4, 4, 4, 4, 4, 4, 4, 4], \"z\": [15.183, 14.747, 14.378, 14.126, 14.13, 14.045, 13.848, 13.883, 13.793, 13.792], \"line\": {\"color\": \"#1f77b4\", \"width\": 2}, \"x\": [6, 9, 12, 15, 18, 21, 24, 27, 30, 33], \"uid\": \"812f237b-e068-11e8-90b0-001a7dda7111\"}, {\"marker\": {\"color\": [14.96, 14.55, 14.214, 14.113, 13.871, 13.774, 13.757, 13.598, 13.591, 13.474], \"size\": 8}, \"type\": \"scatter3d\", \"y\": [5, 5, 5, 5, 5, 5, 5, 5, 5, 5], \"z\": [14.96, 14.55, 14.214, 14.113, 13.871, 13.774, 13.757, 13.598, 13.591, 13.474], \"line\": {\"color\": \"#1f77b4\", \"width\": 2}, \"x\": [6, 9, 12, 15, 18, 21, 24, 27, 30, 33], \"uid\": \"812f237c-e068-11e8-9d3d-001a7dda7111\"}, {\"opacity\": 0.7, \"showscale\": false, \"type\": \"surface\", \"z\": [[15.146, 15.146, 15.146, 15.146, 15.146, 15.146, 15.146, 15.146, 15.146, 15.146, 15.146, 15.146, 15.146, 15.146, 15.146, 15.146, 15.146, 15.146, 15.146, 15.146, 15.146, 15.146, 15.146, 15.146, 15.146, 15.146, 15.146, 15.146, 15.146, 15.146], [15.146, 15.146, 15.146, 15.146, 15.146, 15.146, 15.146, 15.146, 15.146, 15.146, 15.146, 15.146, 15.146, 15.146, 15.146, 15.146, 15.146, 15.146, 15.146, 15.146, 15.146, 15.146, 15.146, 15.146, 15.146, 15.146, 15.146, 15.146, 15.146, 15.146], [15.146, 15.146, 15.146, 15.146, 15.146, 15.146, 15.146, 15.146, 15.146, 15.146, 15.146, 15.146, 15.146, 15.146, 15.146, 15.146, 15.146, 15.146, 15.146, 15.146, 15.146, 15.146, 15.146, 15.146, 15.146, 15.146, 15.146, 15.146, 15.146, 15.146], [15.146, 15.146, 15.146, 15.146, 15.146, 15.146, 15.146, 15.146, 15.146, 15.146, 15.146, 15.146, 15.146, 15.146, 15.146, 15.146, 15.146, 15.146, 15.146, 15.146, 15.146, 15.146, 15.146, 15.146, 15.146, 15.146, 15.146, 15.146, 15.146, 15.146], [15.146, 15.146, 15.146, 15.146, 15.146, 15.146, 15.146, 15.146, 15.146, 15.146, 15.146, 15.146, 15.146, 15.146, 15.146, 15.146, 15.146, 15.146, 15.146, 15.146, 15.146, 15.146, 15.146, 15.146, 15.146, 15.146, 15.146, 15.146, 15.146, 15.146], [15.146, 15.146, 15.146, 15.146, 15.146, 15.146, 15.146, 15.146, 15.146, 15.146, 15.146, 15.146, 15.146, 15.146, 15.146, 15.146, 15.146, 15.146, 15.146, 15.146, 15.146, 15.146, 15.146, 15.146, 15.146, 15.146, 15.146, 15.146, 15.146, 15.146], [15.146, 15.146, 15.146, 15.146, 15.146, 15.146, 15.146, 15.146, 15.146, 15.146, 15.146, 15.146, 15.146, 15.146, 15.146, 15.146, 15.146, 15.146, 15.146, 15.146, 15.146, 15.146, 15.146, 15.146, 15.146, 15.146, 15.146, 15.146, 15.146, 15.146]], \"uid\": \"812f237d-e068-11e8-9523-001a7dda7111\", \"colorscale\": \"Jet\"}], {\"height\": 700, \"scene\": {\"xaxis\": {\"showbackground\": true, \"titlefont\": {\"color\": \"#ff0000\", \"size\": 14}, \"title\": \"Hidden Layer Dim (X)\", \"backgroundcolor\": \"rgb(200, 200, 230)\", \"gridcolor\": \"rgb(255, 255, 255)\", \"zerolinecolor\": \"rgb(255, 255, 255)\"}, \"zaxis\": {\"showbackground\": true, \"titlefont\": {\"color\": \"#ff0000\", \"size\": 10}, \"title\": \"Avg Diff (Z)\", \"backgroundcolor\": \"rgb(230, 230, 200)\", \"gridcolor\": \"rgb(255, 255, 255)\", \"zerolinecolor\": \"rgb(255, 255, 255)\"}, \"yaxis\": {\"nticks\": 5, \"showbackground\": true, \"titlefont\": {\"color\": \"#ff0000\", \"size\": 14}, \"title\": \"Dense Layer Num (Y)\", \"backgroundcolor\": \"rgb(230, 200, 230)\", \"gridcolor\": \"rgb(255, 255, 255)\", \"zerolinecolor\": \"rgb(255, 255, 255)\", \"range\": [2, 6]}}, \"title\": \"S8toMotoC Model Varient (Exp. 72-74) (Test By Generated Set)\", \"width\": 800}, {\"showLink\": true, \"linkText\": \"Export to plot.ly\"})});</script>"
      ],
      "text/vnd.plotly.v1+html": [
       "<div id=\"ecf29521-4abc-4e2b-a268-355b7473d218\" style=\"height: 700px; width: 800px;\" class=\"plotly-graph-div\"></div><script type=\"text/javascript\">require([\"plotly\"], function(Plotly) { window.PLOTLYENV=window.PLOTLYENV || {};window.PLOTLYENV.BASE_URL=\"https://plot.ly\";Plotly.newPlot(\"ecf29521-4abc-4e2b-a268-355b7473d218\", [{\"marker\": {\"color\": [15.224, 15.105, 14.827, 14.668, 14.417, 14.373, 14.391, 14.274, 14.28, 14.202], \"size\": 8}, \"type\": \"scatter3d\", \"y\": [3, 3, 3, 3, 3, 3, 3, 3, 3, 3], \"z\": [15.224, 15.105, 14.827, 14.668, 14.417, 14.373, 14.391, 14.274, 14.28, 14.202], \"line\": {\"color\": \"#1f77b4\", \"width\": 2}, \"x\": [6, 9, 12, 15, 18, 21, 24, 27, 30, 33], \"uid\": \"812f237a-e068-11e8-bf92-001a7dda7111\"}, {\"marker\": {\"color\": [15.183, 14.747, 14.378, 14.126, 14.13, 14.045, 13.848, 13.883, 13.793, 13.792], \"size\": 8}, \"type\": \"scatter3d\", \"y\": [4, 4, 4, 4, 4, 4, 4, 4, 4, 4], \"z\": [15.183, 14.747, 14.378, 14.126, 14.13, 14.045, 13.848, 13.883, 13.793, 13.792], \"line\": {\"color\": \"#1f77b4\", \"width\": 2}, \"x\": [6, 9, 12, 15, 18, 21, 24, 27, 30, 33], \"uid\": \"812f237b-e068-11e8-90b0-001a7dda7111\"}, {\"marker\": {\"color\": [14.96, 14.55, 14.214, 14.113, 13.871, 13.774, 13.757, 13.598, 13.591, 13.474], \"size\": 8}, \"type\": \"scatter3d\", \"y\": [5, 5, 5, 5, 5, 5, 5, 5, 5, 5], \"z\": [14.96, 14.55, 14.214, 14.113, 13.871, 13.774, 13.757, 13.598, 13.591, 13.474], \"line\": {\"color\": \"#1f77b4\", \"width\": 2}, \"x\": [6, 9, 12, 15, 18, 21, 24, 27, 30, 33], \"uid\": \"812f237c-e068-11e8-9d3d-001a7dda7111\"}, {\"opacity\": 0.7, \"showscale\": false, \"type\": \"surface\", \"z\": [[15.146, 15.146, 15.146, 15.146, 15.146, 15.146, 15.146, 15.146, 15.146, 15.146, 15.146, 15.146, 15.146, 15.146, 15.146, 15.146, 15.146, 15.146, 15.146, 15.146, 15.146, 15.146, 15.146, 15.146, 15.146, 15.146, 15.146, 15.146, 15.146, 15.146], [15.146, 15.146, 15.146, 15.146, 15.146, 15.146, 15.146, 15.146, 15.146, 15.146, 15.146, 15.146, 15.146, 15.146, 15.146, 15.146, 15.146, 15.146, 15.146, 15.146, 15.146, 15.146, 15.146, 15.146, 15.146, 15.146, 15.146, 15.146, 15.146, 15.146], [15.146, 15.146, 15.146, 15.146, 15.146, 15.146, 15.146, 15.146, 15.146, 15.146, 15.146, 15.146, 15.146, 15.146, 15.146, 15.146, 15.146, 15.146, 15.146, 15.146, 15.146, 15.146, 15.146, 15.146, 15.146, 15.146, 15.146, 15.146, 15.146, 15.146], [15.146, 15.146, 15.146, 15.146, 15.146, 15.146, 15.146, 15.146, 15.146, 15.146, 15.146, 15.146, 15.146, 15.146, 15.146, 15.146, 15.146, 15.146, 15.146, 15.146, 15.146, 15.146, 15.146, 15.146, 15.146, 15.146, 15.146, 15.146, 15.146, 15.146], [15.146, 15.146, 15.146, 15.146, 15.146, 15.146, 15.146, 15.146, 15.146, 15.146, 15.146, 15.146, 15.146, 15.146, 15.146, 15.146, 15.146, 15.146, 15.146, 15.146, 15.146, 15.146, 15.146, 15.146, 15.146, 15.146, 15.146, 15.146, 15.146, 15.146], [15.146, 15.146, 15.146, 15.146, 15.146, 15.146, 15.146, 15.146, 15.146, 15.146, 15.146, 15.146, 15.146, 15.146, 15.146, 15.146, 15.146, 15.146, 15.146, 15.146, 15.146, 15.146, 15.146, 15.146, 15.146, 15.146, 15.146, 15.146, 15.146, 15.146], [15.146, 15.146, 15.146, 15.146, 15.146, 15.146, 15.146, 15.146, 15.146, 15.146, 15.146, 15.146, 15.146, 15.146, 15.146, 15.146, 15.146, 15.146, 15.146, 15.146, 15.146, 15.146, 15.146, 15.146, 15.146, 15.146, 15.146, 15.146, 15.146, 15.146]], \"uid\": \"812f237d-e068-11e8-9523-001a7dda7111\", \"colorscale\": \"Jet\"}], {\"height\": 700, \"scene\": {\"xaxis\": {\"showbackground\": true, \"titlefont\": {\"color\": \"#ff0000\", \"size\": 14}, \"title\": \"Hidden Layer Dim (X)\", \"backgroundcolor\": \"rgb(200, 200, 230)\", \"gridcolor\": \"rgb(255, 255, 255)\", \"zerolinecolor\": \"rgb(255, 255, 255)\"}, \"zaxis\": {\"showbackground\": true, \"titlefont\": {\"color\": \"#ff0000\", \"size\": 10}, \"title\": \"Avg Diff (Z)\", \"backgroundcolor\": \"rgb(230, 230, 200)\", \"gridcolor\": \"rgb(255, 255, 255)\", \"zerolinecolor\": \"rgb(255, 255, 255)\"}, \"yaxis\": {\"nticks\": 5, \"showbackground\": true, \"titlefont\": {\"color\": \"#ff0000\", \"size\": 14}, \"title\": \"Dense Layer Num (Y)\", \"backgroundcolor\": \"rgb(230, 200, 230)\", \"gridcolor\": \"rgb(255, 255, 255)\", \"zerolinecolor\": \"rgb(255, 255, 255)\", \"range\": [2, 6]}}, \"title\": \"S8toMotoC Model Varient (Exp. 72-74) (Test By Generated Set)\", \"width\": 800}, {\"showLink\": true, \"linkText\": \"Export to plot.ly\"})});</script>"
      ]
     },
     "metadata": {},
     "output_type": "display_data"
    }
   ],
   "source": [
    "trace = go.Scatter3d(\n",
    "    x=x1, y=y1, z=z1,\n",
    "    marker=dict(\n",
    "        size=8,\n",
    "        color=z1\n",
    "    ),\n",
    "    line=dict(\n",
    "        color='#1f77b4',\n",
    "        width=2\n",
    "    )\n",
    ")\n",
    "\n",
    "trace2 = go.Scatter3d(\n",
    "    x=x2, y=y2, z=z2,\n",
    "    marker=dict(\n",
    "        size=8,\n",
    "        color=z2\n",
    "    ),\n",
    "    line=dict(\n",
    "        color='#1f77b4',\n",
    "        width=2\n",
    "    )\n",
    ")\n",
    "\n",
    "trace3 = go.Scatter3d(\n",
    "    x=x3, y=y3, z=z3,\n",
    "    marker=dict(\n",
    "        size=8,\n",
    "        color=z3\n",
    "    ),\n",
    "    line=dict(\n",
    "        color='#1f77b4',\n",
    "        width=2\n",
    "    )\n",
    ")\n",
    "\n",
    "trace4 = go.Surface(\n",
    "    z=polyfit_list,\n",
    "    opacity=0.7,\n",
    "    colorscale='Jet',\n",
    "    showscale=False\n",
    ")\n",
    "\n",
    "data = [trace, trace2, trace3, trace4]\n",
    "layout = go.Layout(\n",
    "    width=800,\n",
    "    height=700,\n",
    "    title= title,\n",
    "    scene=dict(\n",
    "        xaxis=dict(\n",
    "            title='Hidden Layer Dim (X)',\n",
    "            titlefont=dict(\n",
    "                size=14,\n",
    "                color='#ff0000'\n",
    "            ),\n",
    "            gridcolor='rgb(255, 255, 255)',\n",
    "            zerolinecolor='rgb(255, 255, 255)',\n",
    "            showbackground=True,\n",
    "            backgroundcolor='rgb(200, 200, 230)'\n",
    "        ),\n",
    "        yaxis=dict(\n",
    "            nticks = 5,\n",
    "            range = [2, 6],\n",
    "            title='Dense Layer Num (Y)',\n",
    "            titlefont=dict(\n",
    "                size=14,\n",
    "                color='#ff0000'\n",
    "            ),\n",
    "            gridcolor='rgb(255, 255, 255)',\n",
    "            zerolinecolor='rgb(255, 255, 255)',\n",
    "            showbackground=True,\n",
    "            backgroundcolor='rgb(230, 200, 230)'\n",
    "        ),\n",
    "        zaxis=dict(\n",
    "            title='Avg Diff (Z)',\n",
    "            titlefont=dict(\n",
    "                size=10,\n",
    "                color='#ff0000'\n",
    "            ),\n",
    "            gridcolor='rgb(255, 255, 255)',\n",
    "            zerolinecolor='rgb(255, 255, 255)',\n",
    "            showbackground=True,\n",
    "            backgroundcolor='rgb(230, 230, 200)'\n",
    "        ),\n",
    "    )\n",
    ")\n",
    "\n",
    "fig = go.Figure(data=data, layout=layout)\n",
    "plotly.offline.iplot(fig)"
   ]
  },
  {
   "cell_type": "code",
   "execution_count": null,
   "metadata": {},
   "outputs": [],
   "source": []
  },
  {
   "cell_type": "code",
   "execution_count": 9,
   "metadata": {},
   "outputs": [
    {
     "data": {
      "text/plain": [
       "'file://C:\\\\Users\\\\Mig\\\\Documents\\\\Plotly-Practice\\\\experiment72-74-GeneratedSet.html'"
      ]
     },
     "execution_count": 9,
     "metadata": {},
     "output_type": "execute_result"
    }
   ],
   "source": [
    "plotly.offline.plot(fig, filename=filename)"
   ]
  },
  {
   "cell_type": "code",
   "execution_count": null,
   "metadata": {},
   "outputs": [],
   "source": []
  }
 ],
 "metadata": {
  "kernelspec": {
   "display_name": "Python 3",
   "language": "python",
   "name": "python3"
  },
  "language_info": {
   "codemirror_mode": {
    "name": "ipython",
    "version": 3
   },
   "file_extension": ".py",
   "mimetype": "text/x-python",
   "name": "python",
   "nbconvert_exporter": "python",
   "pygments_lexer": "ipython3",
   "version": "3.5.6"
  }
 },
 "nbformat": 4,
 "nbformat_minor": 2
}
