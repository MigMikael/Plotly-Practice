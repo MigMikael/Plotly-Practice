{
 "cells": [
  {
   "cell_type": "code",
   "execution_count": 1,
   "metadata": {},
   "outputs": [],
   "source": [
    "title = \"MotoCtoS8 Model Varient (Exp. 75-77) (Test By Random Set 2)\"\n",
    "filename = 'experiment75-77-RandomSet_2.html'\n",
    "polyfit_diff = 17.330\n",
    "\n",
    "hidden_layer = [6, 9, 12, 15, 18, 21, 24, 27, 30, 33]"
   ]
  },
  {
   "cell_type": "code",
   "execution_count": 2,
   "metadata": {},
   "outputs": [],
   "source": [
    "# 3 Dense Layer \n",
    "# z1 = [14.921, 14.34, 14.003, 13.871, 13.402, 13.379, 13.248, 13.314, 13.228, 13.147]\n",
    "z1 = [18.025, 17.024, 17.657, 17.59, 18.656, 18.836, 18.289, 17.858, 18.258, 18.257]\n",
    "\n",
    "# 4 Dense Layer \n",
    "# z2 = [14.467, 13.821, 13.485, 13.139, 13.132, 12.896, 12.774, 12.812, 12.742, 12.714]\n",
    "z2 = [18.433, 17.755, 18.27, 18.999, 18.853, 18.53, 18.933, 18.766, 19.203, 19.007]\n",
    "\n",
    "# 5 Dense Layer \n",
    "# z3 = [14.025, 13.621, 13.212, 13.021, 12.843, 12.745, 12.651, 12.529, 12.482, 12.39]\n",
    "z3 = [18.863, 17.735, 18.662, 18.826, 18.653, 19.124, 19.048, 19.046, 19.404, 18.895]"
   ]
  },
  {
   "cell_type": "code",
   "execution_count": 3,
   "metadata": {},
   "outputs": [
    {
     "data": {
      "text/html": [
       "<script>requirejs.config({paths: { 'plotly': ['https://cdn.plot.ly/plotly-latest.min']},});if(!window.Plotly) {{require(['plotly'],function(plotly) {window.Plotly=plotly;});}}</script>"
      ],
      "text/vnd.plotly.v1+html": [
       "<script>requirejs.config({paths: { 'plotly': ['https://cdn.plot.ly/plotly-latest.min']},});if(!window.Plotly) {{require(['plotly'],function(plotly) {window.Plotly=plotly;});}}</script>"
      ]
     },
     "metadata": {},
     "output_type": "display_data"
    }
   ],
   "source": [
    "import plotly\n",
    "from plotly.offline import download_plotlyjs, init_notebook_mode, plot, iplot\n",
    "import plotly.graph_objs as go\n",
    "import pandas as pd\n",
    "import numpy as np\n",
    "\n",
    "init_notebook_mode(connected=True)\n",
    "# print(plotly.__version__) "
   ]
  },
  {
   "cell_type": "code",
   "execution_count": 4,
   "metadata": {},
   "outputs": [
    {
     "name": "stdout",
     "output_type": "stream",
     "text": [
      "6     18.025\n",
      "9     17.024\n",
      "12    17.657\n",
      "15    17.590\n",
      "18    18.656\n",
      "21    18.836\n",
      "24    18.289\n",
      "27    17.858\n",
      "30    18.258\n",
      "33    18.257\n",
      "dtype: float64\n"
     ]
    }
   ],
   "source": [
    "# 3 Dense Layer \n",
    "x1 = hidden_layer\n",
    "y1 = [3] * 10\n",
    "y1 = pd.Series(y1, index=x1)\n",
    "#print(y1)\n",
    "z1 = pd.Series(z1, index=x1)\n",
    "print(z1)"
   ]
  },
  {
   "cell_type": "code",
   "execution_count": 5,
   "metadata": {},
   "outputs": [
    {
     "name": "stdout",
     "output_type": "stream",
     "text": [
      "6     18.433\n",
      "9     17.755\n",
      "12    18.270\n",
      "15    18.999\n",
      "18    18.853\n",
      "21    18.530\n",
      "24    18.933\n",
      "27    18.766\n",
      "30    19.203\n",
      "33    19.007\n",
      "dtype: float64\n"
     ]
    }
   ],
   "source": [
    "# 4 Dense Layer\n",
    "x2 = hidden_layer\n",
    "y2 = [4] * 10\n",
    "y2 = pd.Series(y2, index=x2)\n",
    "#print(y2)\n",
    "z2 = pd.Series(z2, index=x2)\n",
    "print(z2)"
   ]
  },
  {
   "cell_type": "code",
   "execution_count": 6,
   "metadata": {},
   "outputs": [
    {
     "name": "stdout",
     "output_type": "stream",
     "text": [
      "6     18.863\n",
      "9     17.735\n",
      "12    18.662\n",
      "15    18.826\n",
      "18    18.653\n",
      "21    19.124\n",
      "24    19.048\n",
      "27    19.046\n",
      "30    19.404\n",
      "33    18.895\n",
      "dtype: float64\n"
     ]
    }
   ],
   "source": [
    "# 5 Dense Layer\n",
    "x3 = hidden_layer\n",
    "y3 = [5] * 10\n",
    "y3 = pd.Series(y3, index=x3)\n",
    "#print(y3)\n",
    "z3 = pd.Series(z3, index=x3)\n",
    "print(z3)"
   ]
  },
  {
   "cell_type": "code",
   "execution_count": 7,
   "metadata": {},
   "outputs": [],
   "source": [
    "polyfit = polyfit_diff\n",
    "polyfit_list = [[polyfit_diff] * 30] * 7\n",
    "#print(polyfit_list)"
   ]
  },
  {
   "cell_type": "code",
   "execution_count": 8,
   "metadata": {},
   "outputs": [
    {
     "data": {
      "application/vnd.plotly.v1+json": {
       "data": [
        {
         "line": {
          "color": "#1f77b4",
          "width": 2
         },
         "marker": {
          "color": [
           18.025,
           17.024,
           17.657,
           17.59,
           18.656,
           18.836,
           18.289,
           17.858,
           18.258,
           18.257
          ],
          "size": 8
         },
         "type": "scatter3d",
         "uid": "81470b98-e134-11e8-859e-001a7dda7111",
         "x": [
          6,
          9,
          12,
          15,
          18,
          21,
          24,
          27,
          30,
          33
         ],
         "y": [
          3,
          3,
          3,
          3,
          3,
          3,
          3,
          3,
          3,
          3
         ],
         "z": [
          18.025,
          17.024,
          17.657,
          17.59,
          18.656,
          18.836,
          18.289,
          17.858,
          18.258,
          18.257
         ]
        },
        {
         "line": {
          "color": "#1f77b4",
          "width": 2
         },
         "marker": {
          "color": [
           18.433,
           17.755,
           18.27,
           18.999,
           18.853,
           18.53,
           18.933,
           18.766,
           19.203,
           19.007
          ],
          "size": 8
         },
         "type": "scatter3d",
         "uid": "81470b99-e134-11e8-add4-001a7dda7111",
         "x": [
          6,
          9,
          12,
          15,
          18,
          21,
          24,
          27,
          30,
          33
         ],
         "y": [
          4,
          4,
          4,
          4,
          4,
          4,
          4,
          4,
          4,
          4
         ],
         "z": [
          18.433,
          17.755,
          18.27,
          18.999,
          18.853,
          18.53,
          18.933,
          18.766,
          19.203,
          19.007
         ]
        },
        {
         "line": {
          "color": "#1f77b4",
          "width": 2
         },
         "marker": {
          "color": [
           18.863,
           17.735,
           18.662,
           18.826,
           18.653,
           19.124,
           19.048,
           19.046,
           19.404,
           18.895
          ],
          "size": 8
         },
         "type": "scatter3d",
         "uid": "81470b9a-e134-11e8-bcaf-001a7dda7111",
         "x": [
          6,
          9,
          12,
          15,
          18,
          21,
          24,
          27,
          30,
          33
         ],
         "y": [
          5,
          5,
          5,
          5,
          5,
          5,
          5,
          5,
          5,
          5
         ],
         "z": [
          18.863,
          17.735,
          18.662,
          18.826,
          18.653,
          19.124,
          19.048,
          19.046,
          19.404,
          18.895
         ]
        },
        {
         "colorscale": "Jet",
         "opacity": 0.7,
         "showscale": false,
         "type": "surface",
         "uid": "81470b9b-e134-11e8-b1a4-001a7dda7111",
         "z": [
          [
           17.33,
           17.33,
           17.33,
           17.33,
           17.33,
           17.33,
           17.33,
           17.33,
           17.33,
           17.33,
           17.33,
           17.33,
           17.33,
           17.33,
           17.33,
           17.33,
           17.33,
           17.33,
           17.33,
           17.33,
           17.33,
           17.33,
           17.33,
           17.33,
           17.33,
           17.33,
           17.33,
           17.33,
           17.33,
           17.33
          ],
          [
           17.33,
           17.33,
           17.33,
           17.33,
           17.33,
           17.33,
           17.33,
           17.33,
           17.33,
           17.33,
           17.33,
           17.33,
           17.33,
           17.33,
           17.33,
           17.33,
           17.33,
           17.33,
           17.33,
           17.33,
           17.33,
           17.33,
           17.33,
           17.33,
           17.33,
           17.33,
           17.33,
           17.33,
           17.33,
           17.33
          ],
          [
           17.33,
           17.33,
           17.33,
           17.33,
           17.33,
           17.33,
           17.33,
           17.33,
           17.33,
           17.33,
           17.33,
           17.33,
           17.33,
           17.33,
           17.33,
           17.33,
           17.33,
           17.33,
           17.33,
           17.33,
           17.33,
           17.33,
           17.33,
           17.33,
           17.33,
           17.33,
           17.33,
           17.33,
           17.33,
           17.33
          ],
          [
           17.33,
           17.33,
           17.33,
           17.33,
           17.33,
           17.33,
           17.33,
           17.33,
           17.33,
           17.33,
           17.33,
           17.33,
           17.33,
           17.33,
           17.33,
           17.33,
           17.33,
           17.33,
           17.33,
           17.33,
           17.33,
           17.33,
           17.33,
           17.33,
           17.33,
           17.33,
           17.33,
           17.33,
           17.33,
           17.33
          ],
          [
           17.33,
           17.33,
           17.33,
           17.33,
           17.33,
           17.33,
           17.33,
           17.33,
           17.33,
           17.33,
           17.33,
           17.33,
           17.33,
           17.33,
           17.33,
           17.33,
           17.33,
           17.33,
           17.33,
           17.33,
           17.33,
           17.33,
           17.33,
           17.33,
           17.33,
           17.33,
           17.33,
           17.33,
           17.33,
           17.33
          ],
          [
           17.33,
           17.33,
           17.33,
           17.33,
           17.33,
           17.33,
           17.33,
           17.33,
           17.33,
           17.33,
           17.33,
           17.33,
           17.33,
           17.33,
           17.33,
           17.33,
           17.33,
           17.33,
           17.33,
           17.33,
           17.33,
           17.33,
           17.33,
           17.33,
           17.33,
           17.33,
           17.33,
           17.33,
           17.33,
           17.33
          ],
          [
           17.33,
           17.33,
           17.33,
           17.33,
           17.33,
           17.33,
           17.33,
           17.33,
           17.33,
           17.33,
           17.33,
           17.33,
           17.33,
           17.33,
           17.33,
           17.33,
           17.33,
           17.33,
           17.33,
           17.33,
           17.33,
           17.33,
           17.33,
           17.33,
           17.33,
           17.33,
           17.33,
           17.33,
           17.33,
           17.33
          ]
         ]
        }
       ],
       "layout": {
        "height": 700,
        "scene": {
         "xaxis": {
          "backgroundcolor": "rgb(200, 200, 230)",
          "gridcolor": "rgb(255, 255, 255)",
          "showbackground": true,
          "title": "Hidden Layer Dim (X)",
          "titlefont": {
           "color": "#ff0000",
           "size": 14
          },
          "zerolinecolor": "rgb(255, 255, 255)"
         },
         "yaxis": {
          "backgroundcolor": "rgb(230, 200, 230)",
          "gridcolor": "rgb(255, 255, 255)",
          "nticks": 5,
          "range": [
           2,
           6
          ],
          "showbackground": true,
          "title": "Dense Layer Num (Y)",
          "titlefont": {
           "color": "#ff0000",
           "size": 14
          },
          "zerolinecolor": "rgb(255, 255, 255)"
         },
         "zaxis": {
          "backgroundcolor": "rgb(230, 230, 200)",
          "gridcolor": "rgb(255, 255, 255)",
          "showbackground": true,
          "title": "Avg Diff (Z)",
          "titlefont": {
           "color": "#ff0000",
           "size": 10
          },
          "zerolinecolor": "rgb(255, 255, 255)"
         }
        },
        "title": "MotoCtoS8 Model Varient (Exp. 75-77) (Test By Random Set 2)",
        "width": 800
       }
      },
      "text/html": [
       "<div id=\"7f1d0f3a-a9d4-41af-b395-63667a2c1e8c\" style=\"height: 700px; width: 800px;\" class=\"plotly-graph-div\"></div><script type=\"text/javascript\">require([\"plotly\"], function(Plotly) { window.PLOTLYENV=window.PLOTLYENV || {};window.PLOTLYENV.BASE_URL=\"https://plot.ly\";Plotly.newPlot(\"7f1d0f3a-a9d4-41af-b395-63667a2c1e8c\", [{\"type\": \"scatter3d\", \"marker\": {\"color\": [18.025, 17.024, 17.657, 17.59, 18.656, 18.836, 18.289, 17.858, 18.258, 18.257], \"size\": 8}, \"x\": [6, 9, 12, 15, 18, 21, 24, 27, 30, 33], \"uid\": \"81470b98-e134-11e8-859e-001a7dda7111\", \"y\": [3, 3, 3, 3, 3, 3, 3, 3, 3, 3], \"z\": [18.025, 17.024, 17.657, 17.59, 18.656, 18.836, 18.289, 17.858, 18.258, 18.257], \"line\": {\"color\": \"#1f77b4\", \"width\": 2}}, {\"type\": \"scatter3d\", \"marker\": {\"color\": [18.433, 17.755, 18.27, 18.999, 18.853, 18.53, 18.933, 18.766, 19.203, 19.007], \"size\": 8}, \"x\": [6, 9, 12, 15, 18, 21, 24, 27, 30, 33], \"uid\": \"81470b99-e134-11e8-add4-001a7dda7111\", \"y\": [4, 4, 4, 4, 4, 4, 4, 4, 4, 4], \"z\": [18.433, 17.755, 18.27, 18.999, 18.853, 18.53, 18.933, 18.766, 19.203, 19.007], \"line\": {\"color\": \"#1f77b4\", \"width\": 2}}, {\"type\": \"scatter3d\", \"marker\": {\"color\": [18.863, 17.735, 18.662, 18.826, 18.653, 19.124, 19.048, 19.046, 19.404, 18.895], \"size\": 8}, \"x\": [6, 9, 12, 15, 18, 21, 24, 27, 30, 33], \"uid\": \"81470b9a-e134-11e8-bcaf-001a7dda7111\", \"y\": [5, 5, 5, 5, 5, 5, 5, 5, 5, 5], \"z\": [18.863, 17.735, 18.662, 18.826, 18.653, 19.124, 19.048, 19.046, 19.404, 18.895], \"line\": {\"color\": \"#1f77b4\", \"width\": 2}}, {\"type\": \"surface\", \"opacity\": 0.7, \"colorscale\": \"Jet\", \"z\": [[17.33, 17.33, 17.33, 17.33, 17.33, 17.33, 17.33, 17.33, 17.33, 17.33, 17.33, 17.33, 17.33, 17.33, 17.33, 17.33, 17.33, 17.33, 17.33, 17.33, 17.33, 17.33, 17.33, 17.33, 17.33, 17.33, 17.33, 17.33, 17.33, 17.33], [17.33, 17.33, 17.33, 17.33, 17.33, 17.33, 17.33, 17.33, 17.33, 17.33, 17.33, 17.33, 17.33, 17.33, 17.33, 17.33, 17.33, 17.33, 17.33, 17.33, 17.33, 17.33, 17.33, 17.33, 17.33, 17.33, 17.33, 17.33, 17.33, 17.33], [17.33, 17.33, 17.33, 17.33, 17.33, 17.33, 17.33, 17.33, 17.33, 17.33, 17.33, 17.33, 17.33, 17.33, 17.33, 17.33, 17.33, 17.33, 17.33, 17.33, 17.33, 17.33, 17.33, 17.33, 17.33, 17.33, 17.33, 17.33, 17.33, 17.33], [17.33, 17.33, 17.33, 17.33, 17.33, 17.33, 17.33, 17.33, 17.33, 17.33, 17.33, 17.33, 17.33, 17.33, 17.33, 17.33, 17.33, 17.33, 17.33, 17.33, 17.33, 17.33, 17.33, 17.33, 17.33, 17.33, 17.33, 17.33, 17.33, 17.33], [17.33, 17.33, 17.33, 17.33, 17.33, 17.33, 17.33, 17.33, 17.33, 17.33, 17.33, 17.33, 17.33, 17.33, 17.33, 17.33, 17.33, 17.33, 17.33, 17.33, 17.33, 17.33, 17.33, 17.33, 17.33, 17.33, 17.33, 17.33, 17.33, 17.33], [17.33, 17.33, 17.33, 17.33, 17.33, 17.33, 17.33, 17.33, 17.33, 17.33, 17.33, 17.33, 17.33, 17.33, 17.33, 17.33, 17.33, 17.33, 17.33, 17.33, 17.33, 17.33, 17.33, 17.33, 17.33, 17.33, 17.33, 17.33, 17.33, 17.33], [17.33, 17.33, 17.33, 17.33, 17.33, 17.33, 17.33, 17.33, 17.33, 17.33, 17.33, 17.33, 17.33, 17.33, 17.33, 17.33, 17.33, 17.33, 17.33, 17.33, 17.33, 17.33, 17.33, 17.33, 17.33, 17.33, 17.33, 17.33, 17.33, 17.33]], \"uid\": \"81470b9b-e134-11e8-b1a4-001a7dda7111\", \"showscale\": false}], {\"title\": \"MotoCtoS8 Model Varient (Exp. 75-77) (Test By Random Set 2)\", \"height\": 700, \"width\": 800, \"scene\": {\"xaxis\": {\"gridcolor\": \"rgb(255, 255, 255)\", \"title\": \"Hidden Layer Dim (X)\", \"titlefont\": {\"color\": \"#ff0000\", \"size\": 14}, \"zerolinecolor\": \"rgb(255, 255, 255)\", \"showbackground\": true, \"backgroundcolor\": \"rgb(200, 200, 230)\"}, \"zaxis\": {\"gridcolor\": \"rgb(255, 255, 255)\", \"title\": \"Avg Diff (Z)\", \"titlefont\": {\"color\": \"#ff0000\", \"size\": 10}, \"zerolinecolor\": \"rgb(255, 255, 255)\", \"showbackground\": true, \"backgroundcolor\": \"rgb(230, 230, 200)\"}, \"yaxis\": {\"gridcolor\": \"rgb(255, 255, 255)\", \"title\": \"Dense Layer Num (Y)\", \"nticks\": 5, \"titlefont\": {\"color\": \"#ff0000\", \"size\": 14}, \"zerolinecolor\": \"rgb(255, 255, 255)\", \"showbackground\": true, \"backgroundcolor\": \"rgb(230, 200, 230)\", \"range\": [2, 6]}}}, {\"showLink\": true, \"linkText\": \"Export to plot.ly\"})});</script>"
      ],
      "text/vnd.plotly.v1+html": [
       "<div id=\"7f1d0f3a-a9d4-41af-b395-63667a2c1e8c\" style=\"height: 700px; width: 800px;\" class=\"plotly-graph-div\"></div><script type=\"text/javascript\">require([\"plotly\"], function(Plotly) { window.PLOTLYENV=window.PLOTLYENV || {};window.PLOTLYENV.BASE_URL=\"https://plot.ly\";Plotly.newPlot(\"7f1d0f3a-a9d4-41af-b395-63667a2c1e8c\", [{\"type\": \"scatter3d\", \"marker\": {\"color\": [18.025, 17.024, 17.657, 17.59, 18.656, 18.836, 18.289, 17.858, 18.258, 18.257], \"size\": 8}, \"x\": [6, 9, 12, 15, 18, 21, 24, 27, 30, 33], \"uid\": \"81470b98-e134-11e8-859e-001a7dda7111\", \"y\": [3, 3, 3, 3, 3, 3, 3, 3, 3, 3], \"z\": [18.025, 17.024, 17.657, 17.59, 18.656, 18.836, 18.289, 17.858, 18.258, 18.257], \"line\": {\"color\": \"#1f77b4\", \"width\": 2}}, {\"type\": \"scatter3d\", \"marker\": {\"color\": [18.433, 17.755, 18.27, 18.999, 18.853, 18.53, 18.933, 18.766, 19.203, 19.007], \"size\": 8}, \"x\": [6, 9, 12, 15, 18, 21, 24, 27, 30, 33], \"uid\": \"81470b99-e134-11e8-add4-001a7dda7111\", \"y\": [4, 4, 4, 4, 4, 4, 4, 4, 4, 4], \"z\": [18.433, 17.755, 18.27, 18.999, 18.853, 18.53, 18.933, 18.766, 19.203, 19.007], \"line\": {\"color\": \"#1f77b4\", \"width\": 2}}, {\"type\": \"scatter3d\", \"marker\": {\"color\": [18.863, 17.735, 18.662, 18.826, 18.653, 19.124, 19.048, 19.046, 19.404, 18.895], \"size\": 8}, \"x\": [6, 9, 12, 15, 18, 21, 24, 27, 30, 33], \"uid\": \"81470b9a-e134-11e8-bcaf-001a7dda7111\", \"y\": [5, 5, 5, 5, 5, 5, 5, 5, 5, 5], \"z\": [18.863, 17.735, 18.662, 18.826, 18.653, 19.124, 19.048, 19.046, 19.404, 18.895], \"line\": {\"color\": \"#1f77b4\", \"width\": 2}}, {\"type\": \"surface\", \"opacity\": 0.7, \"colorscale\": \"Jet\", \"z\": [[17.33, 17.33, 17.33, 17.33, 17.33, 17.33, 17.33, 17.33, 17.33, 17.33, 17.33, 17.33, 17.33, 17.33, 17.33, 17.33, 17.33, 17.33, 17.33, 17.33, 17.33, 17.33, 17.33, 17.33, 17.33, 17.33, 17.33, 17.33, 17.33, 17.33], [17.33, 17.33, 17.33, 17.33, 17.33, 17.33, 17.33, 17.33, 17.33, 17.33, 17.33, 17.33, 17.33, 17.33, 17.33, 17.33, 17.33, 17.33, 17.33, 17.33, 17.33, 17.33, 17.33, 17.33, 17.33, 17.33, 17.33, 17.33, 17.33, 17.33], [17.33, 17.33, 17.33, 17.33, 17.33, 17.33, 17.33, 17.33, 17.33, 17.33, 17.33, 17.33, 17.33, 17.33, 17.33, 17.33, 17.33, 17.33, 17.33, 17.33, 17.33, 17.33, 17.33, 17.33, 17.33, 17.33, 17.33, 17.33, 17.33, 17.33], [17.33, 17.33, 17.33, 17.33, 17.33, 17.33, 17.33, 17.33, 17.33, 17.33, 17.33, 17.33, 17.33, 17.33, 17.33, 17.33, 17.33, 17.33, 17.33, 17.33, 17.33, 17.33, 17.33, 17.33, 17.33, 17.33, 17.33, 17.33, 17.33, 17.33], [17.33, 17.33, 17.33, 17.33, 17.33, 17.33, 17.33, 17.33, 17.33, 17.33, 17.33, 17.33, 17.33, 17.33, 17.33, 17.33, 17.33, 17.33, 17.33, 17.33, 17.33, 17.33, 17.33, 17.33, 17.33, 17.33, 17.33, 17.33, 17.33, 17.33], [17.33, 17.33, 17.33, 17.33, 17.33, 17.33, 17.33, 17.33, 17.33, 17.33, 17.33, 17.33, 17.33, 17.33, 17.33, 17.33, 17.33, 17.33, 17.33, 17.33, 17.33, 17.33, 17.33, 17.33, 17.33, 17.33, 17.33, 17.33, 17.33, 17.33], [17.33, 17.33, 17.33, 17.33, 17.33, 17.33, 17.33, 17.33, 17.33, 17.33, 17.33, 17.33, 17.33, 17.33, 17.33, 17.33, 17.33, 17.33, 17.33, 17.33, 17.33, 17.33, 17.33, 17.33, 17.33, 17.33, 17.33, 17.33, 17.33, 17.33]], \"uid\": \"81470b9b-e134-11e8-b1a4-001a7dda7111\", \"showscale\": false}], {\"title\": \"MotoCtoS8 Model Varient (Exp. 75-77) (Test By Random Set 2)\", \"height\": 700, \"width\": 800, \"scene\": {\"xaxis\": {\"gridcolor\": \"rgb(255, 255, 255)\", \"title\": \"Hidden Layer Dim (X)\", \"titlefont\": {\"color\": \"#ff0000\", \"size\": 14}, \"zerolinecolor\": \"rgb(255, 255, 255)\", \"showbackground\": true, \"backgroundcolor\": \"rgb(200, 200, 230)\"}, \"zaxis\": {\"gridcolor\": \"rgb(255, 255, 255)\", \"title\": \"Avg Diff (Z)\", \"titlefont\": {\"color\": \"#ff0000\", \"size\": 10}, \"zerolinecolor\": \"rgb(255, 255, 255)\", \"showbackground\": true, \"backgroundcolor\": \"rgb(230, 230, 200)\"}, \"yaxis\": {\"gridcolor\": \"rgb(255, 255, 255)\", \"title\": \"Dense Layer Num (Y)\", \"nticks\": 5, \"titlefont\": {\"color\": \"#ff0000\", \"size\": 14}, \"zerolinecolor\": \"rgb(255, 255, 255)\", \"showbackground\": true, \"backgroundcolor\": \"rgb(230, 200, 230)\", \"range\": [2, 6]}}}, {\"showLink\": true, \"linkText\": \"Export to plot.ly\"})});</script>"
      ]
     },
     "metadata": {},
     "output_type": "display_data"
    }
   ],
   "source": [
    "trace = go.Scatter3d(\n",
    "    x=x1, y=y1, z=z1,\n",
    "    marker=dict(\n",
    "        size=8,\n",
    "        color=z1\n",
    "    ),\n",
    "    line=dict(\n",
    "        color='#1f77b4',\n",
    "        width=2\n",
    "    )\n",
    ")\n",
    "\n",
    "trace2 = go.Scatter3d(\n",
    "    x=x2, y=y2, z=z2,\n",
    "    marker=dict(\n",
    "        size=8,\n",
    "        color=z2\n",
    "    ),\n",
    "    line=dict(\n",
    "        color='#1f77b4',\n",
    "        width=2\n",
    "    )\n",
    ")\n",
    "\n",
    "trace3 = go.Scatter3d(\n",
    "    x=x3, y=y3, z=z3,\n",
    "    marker=dict(\n",
    "        size=8,\n",
    "        color=z3\n",
    "    ),\n",
    "    line=dict(\n",
    "        color='#1f77b4',\n",
    "        width=2\n",
    "    )\n",
    ")\n",
    "\n",
    "trace4 = go.Surface(\n",
    "    z=polyfit_list,\n",
    "    opacity=0.7,\n",
    "    colorscale='Jet',\n",
    "    showscale=False\n",
    ")\n",
    "\n",
    "data = [trace, trace2, trace3, trace4]\n",
    "layout = go.Layout(\n",
    "    width=800,\n",
    "    height=700,\n",
    "    title= title,\n",
    "    scene=dict(\n",
    "        xaxis=dict(\n",
    "            title='Hidden Layer Dim (X)',\n",
    "            titlefont=dict(\n",
    "                size=14,\n",
    "                color='#ff0000'\n",
    "            ),\n",
    "            gridcolor='rgb(255, 255, 255)',\n",
    "            zerolinecolor='rgb(255, 255, 255)',\n",
    "            showbackground=True,\n",
    "            backgroundcolor='rgb(200, 200, 230)'\n",
    "        ),\n",
    "        yaxis=dict(\n",
    "            nticks = 5,\n",
    "            range = [2, 6],\n",
    "            title='Dense Layer Num (Y)',\n",
    "            titlefont=dict(\n",
    "                size=14,\n",
    "                color='#ff0000'\n",
    "            ),\n",
    "            gridcolor='rgb(255, 255, 255)',\n",
    "            zerolinecolor='rgb(255, 255, 255)',\n",
    "            showbackground=True,\n",
    "            backgroundcolor='rgb(230, 200, 230)'\n",
    "        ),\n",
    "        zaxis=dict(\n",
    "            title='Avg Diff (Z)',\n",
    "            titlefont=dict(\n",
    "                size=10,\n",
    "                color='#ff0000'\n",
    "            ),\n",
    "            gridcolor='rgb(255, 255, 255)',\n",
    "            zerolinecolor='rgb(255, 255, 255)',\n",
    "            showbackground=True,\n",
    "            backgroundcolor='rgb(230, 230, 200)'\n",
    "        ),\n",
    "    )\n",
    ")\n",
    "\n",
    "fig = go.Figure(data=data, layout=layout)\n",
    "plotly.offline.iplot(fig)"
   ]
  },
  {
   "cell_type": "code",
   "execution_count": null,
   "metadata": {},
   "outputs": [],
   "source": []
  },
  {
   "cell_type": "code",
   "execution_count": 9,
   "metadata": {},
   "outputs": [
    {
     "data": {
      "text/plain": [
       "'file://C:\\\\Users\\\\Mig\\\\Documents\\\\Plotly-Practice\\\\experiment75-77-RandomSet_2.html'"
      ]
     },
     "execution_count": 9,
     "metadata": {},
     "output_type": "execute_result"
    }
   ],
   "source": [
    "plotly.offline.plot(fig, filename=filename)"
   ]
  },
  {
   "cell_type": "code",
   "execution_count": null,
   "metadata": {},
   "outputs": [],
   "source": []
  }
 ],
 "metadata": {
  "kernelspec": {
   "display_name": "Python 3",
   "language": "python",
   "name": "python3"
  },
  "language_info": {
   "codemirror_mode": {
    "name": "ipython",
    "version": 3
   },
   "file_extension": ".py",
   "mimetype": "text/x-python",
   "name": "python",
   "nbconvert_exporter": "python",
   "pygments_lexer": "ipython3",
   "version": "3.5.6"
  }
 },
 "nbformat": 4,
 "nbformat_minor": 2
}
