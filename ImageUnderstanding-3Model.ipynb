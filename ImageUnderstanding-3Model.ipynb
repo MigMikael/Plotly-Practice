{
 "cells": [
  {
   "cell_type": "code",
   "execution_count": 1,
   "metadata": {},
   "outputs": [],
   "source": [
    "filename = 'ImageUnderstanding-12Model.html'\n",
    "title = \"CIFAR-10 Image Recognize Accuarcy 12Model VS PCAJ (Test By : Base)\""
   ]
  },
  {
   "cell_type": "code",
   "execution_count": 2,
   "metadata": {},
   "outputs": [],
   "source": [
    "result_file1 = \"D:\\\\Documents\\\\Thesis\\\\ImageUnderstanding-4\\\\result_2018-11-14--09-54-16_3-1.txt\"\n",
    "result_file2 = \"D:\\\\Documents\\\\Thesis\\\\ImageUnderstanding-4\\\\result_2018-11-14--10-34-23_3-2.txt\"\n",
    "result_file3 = \"D:\\\\Documents\\\\Thesis\\\\ImageUnderstanding-4\\\\result_2018-11-14--12-47-26_3-3.txt\"\n",
    "result_file4 = \"D:\\\\Documents\\\\Thesis\\\\ImageUnderstanding-4\\\\result_2018-11-14--22-16-49_3-4.txt\""
   ]
  },
  {
   "cell_type": "code",
   "execution_count": 3,
   "metadata": {},
   "outputs": [
    {
     "data": {
      "text/html": [
       "<script>requirejs.config({paths: { 'plotly': ['https://cdn.plot.ly/plotly-latest.min']},});if(!window.Plotly) {{require(['plotly'],function(plotly) {window.Plotly=plotly;});}}</script>"
      ],
      "text/vnd.plotly.v1+html": [
       "<script>requirejs.config({paths: { 'plotly': ['https://cdn.plot.ly/plotly-latest.min']},});if(!window.Plotly) {{require(['plotly'],function(plotly) {window.Plotly=plotly;});}}</script>"
      ]
     },
     "metadata": {},
     "output_type": "display_data"
    }
   ],
   "source": [
    "import plotly\n",
    "from plotly.offline import download_plotlyjs, init_notebook_mode, plot, iplot\n",
    "import plotly.graph_objs as go\n",
    "\n",
    "init_notebook_mode(connected=True)"
   ]
  },
  {
   "cell_type": "code",
   "execution_count": 4,
   "metadata": {},
   "outputs": [],
   "source": [
    "def load_result_file(result_path):\n",
    "    count = 1\n",
    "    class_list = []\n",
    "    accuracy_list = []\n",
    "    with open(result_path, 'r') as result_file:\n",
    "        for line in result_file:\n",
    "\n",
    "            if count % 7 == 0 and count <= 71:\n",
    "                class_list.append(line.replace(\"\\n\", \"\"))\n",
    "\n",
    "            if \"Accuracy\" in line:\n",
    "                #print(count, line)\n",
    "                temp, accu = line.split(\"= \")\n",
    "                accu = float(accu.replace(\" %\", \"\"))\n",
    "                if accu <= 1:\n",
    "                    accu = accu * 100\n",
    "                accuracy_list.append(round(accu, 3))\n",
    "            count += 1\n",
    "\n",
    "    class_list.append(\"overall\")\n",
    "    return class_list, accuracy_list"
   ]
  },
  {
   "cell_type": "code",
   "execution_count": 5,
   "metadata": {},
   "outputs": [],
   "source": [
    "class_list1, accuracy_list1 = load_result_file(result_file1)\n",
    "class_list2, accuracy_list2 = load_result_file(result_file2)\n",
    "class_list3, accuracy_list3 = load_result_file(result_file3)\n",
    "class_list4, accuracy_list4 = load_result_file(result_file4)"
   ]
  },
  {
   "cell_type": "code",
   "execution_count": 6,
   "metadata": {},
   "outputs": [
    {
     "data": {
      "application/vnd.plotly.v1+json": {
       "data": [
        {
         "mode": "lines+markers",
         "name": "Base",
         "type": "scatter",
         "uid": "eb4377f0-ea7f-11e8-ac70-001a7dda7111",
         "x": [
          "airplane",
          "automobile",
          "bird",
          "cat",
          "deer",
          "dog",
          "frog",
          "horse",
          "ship",
          "truck",
          "overall"
         ],
         "y": [
          87.434,
          92.999,
          86.377,
          88.172,
          90.353,
          90.093,
          91.997,
          93.012,
          92.54,
          93.329,
          90.63
         ]
        },
        {
         "mode": "lines+markers",
         "name": "Base + MY1=>3",
         "type": "scatter",
         "uid": "eb4377f1-ea7f-11e8-baaf-001a7dda7111",
         "x": [
          "airplane",
          "automobile",
          "bird",
          "cat",
          "deer",
          "dog",
          "frog",
          "horse",
          "ship",
          "truck",
          "overall"
         ],
         "y": [
          94.596,
          97.74,
          93.762,
          92.338,
          95.366,
          94.408,
          96.446,
          96.769,
          96.262,
          97.422,
          95.511
         ]
        },
        {
         "mode": "lines+markers",
         "name": "Base + PCAJ",
         "type": "scatter",
         "uid": "eb4377f2-ea7f-11e8-bcb2-001a7dda7111",
         "x": [
          "airplane",
          "automobile",
          "bird",
          "cat",
          "deer",
          "dog",
          "frog",
          "horse",
          "ship",
          "truck",
          "overall"
         ],
         "y": [
          89.486,
          95.922,
          87.75,
          89.691,
          91.756,
          92.007,
          93.407,
          94.005,
          93.955,
          95.739,
          92.372
         ]
        },
        {
         "mode": "lines+markers",
         "name": "Base + MY1=>3 + PCAJ",
         "type": "scatter",
         "uid": "eb4377f3-ea7f-11e8-8e34-001a7dda7111",
         "x": [
          "airplane",
          "automobile",
          "bird",
          "cat",
          "deer",
          "dog",
          "frog",
          "horse",
          "ship",
          "truck",
          "overall"
         ],
         "y": [
          94.681,
          97.452,
          92.791,
          91.81,
          94.726,
          94.402,
          96,
          96.662,
          96.464,
          97.547,
          95.254
         ]
        }
       ],
       "layout": {
        "height": 700,
        "title": "CIFAR-10 Image Recognize Accuarcy 12Model VS PCAJ (Test By : Base)",
        "width": 1000
       }
      },
      "text/html": [
       "<div id=\"c9cc563e-7f68-48bb-a4aa-dffe64c11991\" style=\"height: 700px; width: 1000px;\" class=\"plotly-graph-div\"></div><script type=\"text/javascript\">require([\"plotly\"], function(Plotly) { window.PLOTLYENV=window.PLOTLYENV || {};window.PLOTLYENV.BASE_URL=\"https://plot.ly\";Plotly.newPlot(\"c9cc563e-7f68-48bb-a4aa-dffe64c11991\", [{\"name\": \"Base\", \"y\": [87.434, 92.999, 86.377, 88.172, 90.353, 90.093, 91.997, 93.012, 92.54, 93.329, 90.63], \"uid\": \"eb4377f0-ea7f-11e8-ac70-001a7dda7111\", \"x\": [\"airplane\", \"automobile\", \"bird\", \"cat\", \"deer\", \"dog\", \"frog\", \"horse\", \"ship\", \"truck\", \"overall\"], \"type\": \"scatter\", \"mode\": \"lines+markers\"}, {\"name\": \"Base + MY1=>3\", \"y\": [94.596, 97.74, 93.762, 92.338, 95.366, 94.408, 96.446, 96.769, 96.262, 97.422, 95.511], \"uid\": \"eb4377f1-ea7f-11e8-baaf-001a7dda7111\", \"x\": [\"airplane\", \"automobile\", \"bird\", \"cat\", \"deer\", \"dog\", \"frog\", \"horse\", \"ship\", \"truck\", \"overall\"], \"type\": \"scatter\", \"mode\": \"lines+markers\"}, {\"name\": \"Base + PCAJ\", \"y\": [89.486, 95.922, 87.75, 89.691, 91.756, 92.007, 93.407, 94.005, 93.955, 95.739, 92.372], \"uid\": \"eb4377f2-ea7f-11e8-bcb2-001a7dda7111\", \"x\": [\"airplane\", \"automobile\", \"bird\", \"cat\", \"deer\", \"dog\", \"frog\", \"horse\", \"ship\", \"truck\", \"overall\"], \"type\": \"scatter\", \"mode\": \"lines+markers\"}, {\"name\": \"Base + MY1=>3 + PCAJ\", \"y\": [94.681, 97.452, 92.791, 91.81, 94.726, 94.402, 96.0, 96.662, 96.464, 97.547, 95.254], \"uid\": \"eb4377f3-ea7f-11e8-8e34-001a7dda7111\", \"x\": [\"airplane\", \"automobile\", \"bird\", \"cat\", \"deer\", \"dog\", \"frog\", \"horse\", \"ship\", \"truck\", \"overall\"], \"type\": \"scatter\", \"mode\": \"lines+markers\"}], {\"title\": \"CIFAR-10 Image Recognize Accuarcy 12Model VS PCAJ (Test By : Base)\", \"height\": 700, \"width\": 1000}, {\"showLink\": true, \"linkText\": \"Export to plot.ly\"})});</script>"
      ],
      "text/vnd.plotly.v1+html": [
       "<div id=\"c9cc563e-7f68-48bb-a4aa-dffe64c11991\" style=\"height: 700px; width: 1000px;\" class=\"plotly-graph-div\"></div><script type=\"text/javascript\">require([\"plotly\"], function(Plotly) { window.PLOTLYENV=window.PLOTLYENV || {};window.PLOTLYENV.BASE_URL=\"https://plot.ly\";Plotly.newPlot(\"c9cc563e-7f68-48bb-a4aa-dffe64c11991\", [{\"name\": \"Base\", \"y\": [87.434, 92.999, 86.377, 88.172, 90.353, 90.093, 91.997, 93.012, 92.54, 93.329, 90.63], \"uid\": \"eb4377f0-ea7f-11e8-ac70-001a7dda7111\", \"x\": [\"airplane\", \"automobile\", \"bird\", \"cat\", \"deer\", \"dog\", \"frog\", \"horse\", \"ship\", \"truck\", \"overall\"], \"type\": \"scatter\", \"mode\": \"lines+markers\"}, {\"name\": \"Base + MY1=>3\", \"y\": [94.596, 97.74, 93.762, 92.338, 95.366, 94.408, 96.446, 96.769, 96.262, 97.422, 95.511], \"uid\": \"eb4377f1-ea7f-11e8-baaf-001a7dda7111\", \"x\": [\"airplane\", \"automobile\", \"bird\", \"cat\", \"deer\", \"dog\", \"frog\", \"horse\", \"ship\", \"truck\", \"overall\"], \"type\": \"scatter\", \"mode\": \"lines+markers\"}, {\"name\": \"Base + PCAJ\", \"y\": [89.486, 95.922, 87.75, 89.691, 91.756, 92.007, 93.407, 94.005, 93.955, 95.739, 92.372], \"uid\": \"eb4377f2-ea7f-11e8-bcb2-001a7dda7111\", \"x\": [\"airplane\", \"automobile\", \"bird\", \"cat\", \"deer\", \"dog\", \"frog\", \"horse\", \"ship\", \"truck\", \"overall\"], \"type\": \"scatter\", \"mode\": \"lines+markers\"}, {\"name\": \"Base + MY1=>3 + PCAJ\", \"y\": [94.681, 97.452, 92.791, 91.81, 94.726, 94.402, 96.0, 96.662, 96.464, 97.547, 95.254], \"uid\": \"eb4377f3-ea7f-11e8-8e34-001a7dda7111\", \"x\": [\"airplane\", \"automobile\", \"bird\", \"cat\", \"deer\", \"dog\", \"frog\", \"horse\", \"ship\", \"truck\", \"overall\"], \"type\": \"scatter\", \"mode\": \"lines+markers\"}], {\"title\": \"CIFAR-10 Image Recognize Accuarcy 12Model VS PCAJ (Test By : Base)\", \"height\": 700, \"width\": 1000}, {\"showLink\": true, \"linkText\": \"Export to plot.ly\"})});</script>"
      ]
     },
     "metadata": {},
     "output_type": "display_data"
    }
   ],
   "source": [
    "trace1 = go.Scatter(\n",
    "    x = class_list1,\n",
    "    y = accuracy_list1,\n",
    "    mode = 'lines+markers',\n",
    "    name = 'Base'\n",
    ")\n",
    "\n",
    "trace2 = go.Scatter(\n",
    "    x = class_list2,\n",
    "    y = accuracy_list2,\n",
    "    mode = 'lines+markers',\n",
    "    name = 'Base + MY1=>3'\n",
    ")\n",
    "\n",
    "trace3 = go.Scatter(\n",
    "    x = class_list3,\n",
    "    y = accuracy_list3,\n",
    "    mode = 'lines+markers',\n",
    "    name = 'Base + PCAJ'\n",
    ")\n",
    "\n",
    "trace4 = go.Scatter(\n",
    "    x = class_list4,\n",
    "    y = accuracy_list4,\n",
    "    mode = 'lines+markers',\n",
    "    name = 'Base + MY1=>3 + PCAJ'\n",
    ")\n",
    "\n",
    "layout = go.Layout(\n",
    "    width=1000,\n",
    "    height=700,\n",
    "    title= title\n",
    ")\n",
    "data = [trace1, trace2, trace3, trace4]\n",
    "fig = go.Figure(data=data, layout=layout)\n",
    "plotly.offline.iplot(fig)"
   ]
  },
  {
   "cell_type": "code",
   "execution_count": 7,
   "metadata": {},
   "outputs": [
    {
     "data": {
      "text/plain": [
       "'file://C:\\\\Users\\\\Mig\\\\Documents\\\\Plotly-Practice\\\\ImageUnderstanding-12Model.html'"
      ]
     },
     "execution_count": 7,
     "metadata": {},
     "output_type": "execute_result"
    }
   ],
   "source": [
    "plotly.offline.plot(fig, filename=filename)"
   ]
  },
  {
   "cell_type": "code",
   "execution_count": null,
   "metadata": {},
   "outputs": [],
   "source": []
  }
 ],
 "metadata": {
  "kernelspec": {
   "display_name": "Python 3",
   "language": "python",
   "name": "python3"
  },
  "language_info": {
   "codemirror_mode": {
    "name": "ipython",
    "version": 3
   },
   "file_extension": ".py",
   "mimetype": "text/x-python",
   "name": "python",
   "nbconvert_exporter": "python",
   "pygments_lexer": "ipython3",
   "version": "3.5.6"
  }
 },
 "nbformat": 4,
 "nbformat_minor": 2
}
