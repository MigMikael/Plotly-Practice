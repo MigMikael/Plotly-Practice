{
 "cells": [
  {
   "cell_type": "code",
   "execution_count": 1,
   "metadata": {},
   "outputs": [],
   "source": [
    "title = \"CIFAR-10\"\n",
    "filename = 'imageunderstanding.html'"
   ]
  },
  {
   "cell_type": "code",
   "execution_count": 2,
   "metadata": {},
   "outputs": [
    {
     "data": {
      "text/html": [
       "<script>requirejs.config({paths: { 'plotly': ['https://cdn.plot.ly/plotly-latest.min']},});if(!window.Plotly) {{require(['plotly'],function(plotly) {window.Plotly=plotly;});}}</script>"
      ],
      "text/vnd.plotly.v1+html": [
       "<script>requirejs.config({paths: { 'plotly': ['https://cdn.plot.ly/plotly-latest.min']},});if(!window.Plotly) {{require(['plotly'],function(plotly) {window.Plotly=plotly;});}}</script>"
      ]
     },
     "metadata": {},
     "output_type": "display_data"
    }
   ],
   "source": [
    "import plotly\n",
    "from plotly.offline import download_plotlyjs, init_notebook_mode, plot, iplot\n",
    "import plotly.graph_objs as go\n",
    "import numpy as np\n",
    "\n",
    "init_notebook_mode(connected=True)"
   ]
  },
  {
   "cell_type": "code",
   "execution_count": 3,
   "metadata": {},
   "outputs": [],
   "source": [
    "N = 500\n",
    "random_x = np.linspace(0, 1, N)\n",
    "random_y = np.random.randn(N)"
   ]
  },
  {
   "cell_type": "code",
   "execution_count": null,
   "metadata": {},
   "outputs": [],
   "source": [
    "print(random_y)"
   ]
  },
  {
   "cell_type": "code",
   "execution_count": 8,
   "metadata": {},
   "outputs": [
    {
     "data": {
      "application/vnd.plotly.v1+json": {
       "data": [
        {
         "marker": {
          "color": "rgb(49,130,189)"
         },
         "name": "Total 9M",
         "type": "bar",
         "uid": "eafdd6fa-e7d0-11e8-8823-001a7dda7111",
         "x": [
          "Base",
          "Base+My",
          "Base+PCAJ",
          "Base+My+PCAJ"
         ],
         "y": [
          89.63,
          93.93,
          91.68,
          94.71
         ]
        },
        {
         "marker": {
          "color": "rgb(204,204,204)"
         },
         "name": "Total 14M",
         "type": "bar",
         "uid": "eafdd6fb-e7d0-11e8-bb33-001a7dda7111",
         "x": [
          "Base",
          "Base+My",
          "Base+PCAJ",
          "Base+My+PCAJ"
         ],
         "y": [
          90.96,
          94.21,
          92.04,
          93
         ]
        }
       ],
       "layout": {}
      },
      "text/html": [
       "<div id=\"c119b5fa-8e03-44c4-a88e-6d6648224956\" style=\"height: 525px; width: 100%;\" class=\"plotly-graph-div\"></div><script type=\"text/javascript\">require([\"plotly\"], function(Plotly) { window.PLOTLYENV=window.PLOTLYENV || {};window.PLOTLYENV.BASE_URL=\"https://plot.ly\";Plotly.newPlot(\"c119b5fa-8e03-44c4-a88e-6d6648224956\", [{\"x\": [\"Base\", \"Base+My\", \"Base+PCAJ\", \"Base+My+PCAJ\"], \"name\": \"Total 9M\", \"type\": \"bar\", \"y\": [89.63, 93.93, 91.68, 94.71], \"marker\": {\"color\": \"rgb(49,130,189)\"}, \"uid\": \"eafdd6fa-e7d0-11e8-8823-001a7dda7111\"}, {\"x\": [\"Base\", \"Base+My\", \"Base+PCAJ\", \"Base+My+PCAJ\"], \"name\": \"Total 14M\", \"type\": \"bar\", \"y\": [90.96, 94.21, 92.04, 93.0], \"marker\": {\"color\": \"rgb(204,204,204)\"}, \"uid\": \"eafdd6fb-e7d0-11e8-bb33-001a7dda7111\"}], {}, {\"linkText\": \"Export to plot.ly\", \"showLink\": true})});</script>"
      ],
      "text/vnd.plotly.v1+html": [
       "<div id=\"c119b5fa-8e03-44c4-a88e-6d6648224956\" style=\"height: 525px; width: 100%;\" class=\"plotly-graph-div\"></div><script type=\"text/javascript\">require([\"plotly\"], function(Plotly) { window.PLOTLYENV=window.PLOTLYENV || {};window.PLOTLYENV.BASE_URL=\"https://plot.ly\";Plotly.newPlot(\"c119b5fa-8e03-44c4-a88e-6d6648224956\", [{\"x\": [\"Base\", \"Base+My\", \"Base+PCAJ\", \"Base+My+PCAJ\"], \"name\": \"Total 9M\", \"type\": \"bar\", \"y\": [89.63, 93.93, 91.68, 94.71], \"marker\": {\"color\": \"rgb(49,130,189)\"}, \"uid\": \"eafdd6fa-e7d0-11e8-8823-001a7dda7111\"}, {\"x\": [\"Base\", \"Base+My\", \"Base+PCAJ\", \"Base+My+PCAJ\"], \"name\": \"Total 14M\", \"type\": \"bar\", \"y\": [90.96, 94.21, 92.04, 93.0], \"marker\": {\"color\": \"rgb(204,204,204)\"}, \"uid\": \"eafdd6fb-e7d0-11e8-bb33-001a7dda7111\"}], {}, {\"linkText\": \"Export to plot.ly\", \"showLink\": true})});</script>"
      ]
     },
     "metadata": {},
     "output_type": "display_data"
    }
   ],
   "source": [
    "base_x = [\"Base\", \"Base+My\", \"Base+PCAJ\", \"Base+My+PCAJ\"]\n",
    "\n",
    "trace0 = go.Bar(\n",
    "    x=base_x,\n",
    "    y=[89.63, 93.93, 91.68, 94.71],\n",
    "    name='Total 9M',\n",
    "    marker=dict(\n",
    "        color='rgb(49,130,189)'\n",
    "    )\n",
    ")\n",
    "trace1 = go.Bar(\n",
    "    x=base_x,\n",
    "    y=[90.96, 94.21, 92.04, 93.00],\n",
    "    name='Total 14M',\n",
    "    marker=dict(\n",
    "        color='rgb(204,204,204)',\n",
    "    )\n",
    ")\n",
    "\n",
    "data = [trace0, trace1]\n",
    "\n",
    "#py.iplot(data, filename='basic-line')\n",
    "fig = go.Figure(data=data)\n",
    "plotly.offline.iplot(fig)"
   ]
  },
  {
   "cell_type": "code",
   "execution_count": 9,
   "metadata": {},
   "outputs": [
    {
     "data": {
      "text/plain": [
       "'file://C:\\\\Users\\\\Mig\\\\Documents\\\\Plotly-Practice\\\\imageunderstanding.html'"
      ]
     },
     "execution_count": 9,
     "metadata": {},
     "output_type": "execute_result"
    }
   ],
   "source": [
    "plotly.offline.plot(fig, filename=filename)"
   ]
  },
  {
   "cell_type": "code",
   "execution_count": null,
   "metadata": {},
   "outputs": [],
   "source": []
  }
 ],
 "metadata": {
  "kernelspec": {
   "display_name": "Python 3",
   "language": "python",
   "name": "python3"
  },
  "language_info": {
   "codemirror_mode": {
    "name": "ipython",
    "version": 3
   },
   "file_extension": ".py",
   "mimetype": "text/x-python",
   "name": "python",
   "nbconvert_exporter": "python",
   "pygments_lexer": "ipython3",
   "version": "3.5.6"
  }
 },
 "nbformat": 4,
 "nbformat_minor": 2
}
