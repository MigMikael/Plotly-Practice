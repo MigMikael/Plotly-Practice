{
 "cells": [
  {
   "cell_type": "code",
   "execution_count": 1,
   "metadata": {},
   "outputs": [
    {
     "data": {
      "text/html": [
       "<script>requirejs.config({paths: { 'plotly': ['https://cdn.plot.ly/plotly-latest.min']},});if(!window.Plotly) {{require(['plotly'],function(plotly) {window.Plotly=plotly;});}}</script>"
      ],
      "text/vnd.plotly.v1+html": [
       "<script>requirejs.config({paths: { 'plotly': ['https://cdn.plot.ly/plotly-latest.min']},});if(!window.Plotly) {{require(['plotly'],function(plotly) {window.Plotly=plotly;});}}</script>"
      ]
     },
     "metadata": {},
     "output_type": "display_data"
    }
   ],
   "source": [
    "import plotly\n",
    "from plotly.offline import download_plotlyjs, init_notebook_mode, plot, iplot\n",
    "import plotly.graph_objs as go\n",
    "import pandas as pd\n",
    "import numpy as np\n",
    "\n",
    "init_notebook_mode(connected=True)\n",
    "# print(plotly.__version__) "
   ]
  },
  {
   "cell_type": "code",
   "execution_count": 5,
   "metadata": {},
   "outputs": [
    {
     "name": "stdout",
     "output_type": "stream",
     "text": [
      "6     5\n",
      "9     5\n",
      "12    5\n",
      "15    5\n",
      "18    5\n",
      "21    5\n",
      "24    5\n",
      "27    5\n",
      "30    5\n",
      "33    5\n",
      "dtype: int64\n",
      "6     16.031254\n",
      "9     15.208715\n",
      "12    15.748302\n",
      "15    14.747761\n",
      "18    15.772086\n",
      "21    16.352751\n",
      "24    15.441187\n",
      "27    15.103126\n",
      "30    15.922154\n",
      "33    16.036871\n",
      "dtype: float64\n"
     ]
    }
   ],
   "source": [
    "x = [6, 9, 12, 15, 18, 21, 24, 27, 30, 33]\n",
    "y = [5] * 10\n",
    "y = pd.Series(y, index=x)\n",
    "print(y)\n",
    "z = [16.031254289210725, 15.208714527291558, 15.748302192973492, 14.747761385175243, 15.772085679081844, 16.352750927367822, 15.441187428949691, 15.103125534149871, 15.922154480675175, 16.03687067944525]\n",
    "z = pd.Series(z, index=x)\n",
    "print(z)"
   ]
  },
  {
   "cell_type": "code",
   "execution_count": 6,
   "metadata": {},
   "outputs": [
    {
     "data": {
      "application/vnd.plotly.v1+json": {
       "data": [
        {
         "line": {
          "color": "#1f77b4",
          "width": 1
         },
         "marker": {
          "color": [
           16.031254289210725,
           15.208714527291558,
           15.748302192973492,
           14.747761385175243,
           15.772085679081844,
           16.352750927367822,
           15.441187428949691,
           15.103125534149871,
           15.922154480675175,
           16.03687067944525
          ],
          "colorscale": "Jet",
          "size": 8
         },
         "type": "scatter3d",
         "uid": "219359c8-dc51-11e8-89fe-001a7dda7111",
         "x": [
          6,
          9,
          12,
          15,
          18,
          21,
          24,
          27,
          30,
          33
         ],
         "y": [
          5,
          5,
          5,
          5,
          5,
          5,
          5,
          5,
          5,
          5
         ],
         "z": [
          16.031254289210725,
          15.208714527291558,
          15.748302192973492,
          14.747761385175243,
          15.772085679081844,
          16.352750927367822,
          15.441187428949691,
          15.103125534149871,
          15.922154480675175,
          16.03687067944525
         ]
        }
       ],
       "layout": {
        "height": 700,
        "scene": {
         "xaxis": {
          "backgroundcolor": "rgb(230, 230,230)",
          "gridcolor": "rgb(255, 255, 255)",
          "showbackground": true,
          "title": "Hidden Layer Dimension",
          "titlefont": {
           "color": "#ff0000",
           "size": 14
          },
          "zerolinecolor": "rgb(255, 255, 255)"
         },
         "yaxis": {
          "backgroundcolor": "rgb(230, 230,230)",
          "gridcolor": "rgb(255, 255, 255)",
          "showbackground": true,
          "title": "Minibatch Size",
          "titlefont": {
           "color": "#ff0000",
           "size": 14
          },
          "zerolinecolor": "rgb(255, 255, 255)"
         },
         "zaxis": {
          "backgroundcolor": "rgb(230, 230,230)",
          "gridcolor": "rgb(255, 255, 255)",
          "showbackground": true,
          "title": "Avg Diff Between Label-Predict",
          "titlefont": {
           "color": "#ff0000",
           "size": 10
          },
          "zerolinecolor": "rgb(255, 255, 255)"
         }
        },
        "title": "Model Varient in Experiment 43",
        "width": 800
       }
      },
      "text/html": [
       "<div id=\"9a0704ef-6fef-427a-b773-0fd44abfcd21\" style=\"height: 700px; width: 800px;\" class=\"plotly-graph-div\"></div><script type=\"text/javascript\">require([\"plotly\"], function(Plotly) { window.PLOTLYENV=window.PLOTLYENV || {};window.PLOTLYENV.BASE_URL=\"https://plot.ly\";Plotly.newPlot(\"9a0704ef-6fef-427a-b773-0fd44abfcd21\", [{\"marker\": {\"size\": 8, \"colorscale\": \"Jet\", \"color\": [16.031254289210725, 15.208714527291558, 15.748302192973492, 14.747761385175243, 15.772085679081844, 16.352750927367822, 15.441187428949691, 15.103125534149871, 15.922154480675175, 16.03687067944525]}, \"x\": [6, 9, 12, 15, 18, 21, 24, 27, 30, 33], \"z\": [16.031254289210725, 15.208714527291558, 15.748302192973492, 14.747761385175243, 15.772085679081844, 16.352750927367822, 15.441187428949691, 15.103125534149871, 15.922154480675175, 16.03687067944525], \"y\": [5, 5, 5, 5, 5, 5, 5, 5, 5, 5], \"line\": {\"width\": 1, \"color\": \"#1f77b4\"}, \"uid\": \"219359c8-dc51-11e8-89fe-001a7dda7111\", \"type\": \"scatter3d\"}], {\"width\": 800, \"title\": \"Model Varient in Experiment 43\", \"height\": 700, \"scene\": {\"zaxis\": {\"gridcolor\": \"rgb(255, 255, 255)\", \"zerolinecolor\": \"rgb(255, 255, 255)\", \"titlefont\": {\"size\": 10, \"color\": \"#ff0000\"}, \"title\": \"Avg Diff Between Label-Predict\", \"backgroundcolor\": \"rgb(230, 230,230)\", \"showbackground\": true}, \"xaxis\": {\"gridcolor\": \"rgb(255, 255, 255)\", \"zerolinecolor\": \"rgb(255, 255, 255)\", \"titlefont\": {\"size\": 14, \"color\": \"#ff0000\"}, \"title\": \"Hidden Layer Dimension\", \"backgroundcolor\": \"rgb(230, 230,230)\", \"showbackground\": true}, \"yaxis\": {\"gridcolor\": \"rgb(255, 255, 255)\", \"zerolinecolor\": \"rgb(255, 255, 255)\", \"titlefont\": {\"size\": 14, \"color\": \"#ff0000\"}, \"title\": \"Minibatch Size\", \"backgroundcolor\": \"rgb(230, 230,230)\", \"showbackground\": true}}}, {\"linkText\": \"Export to plot.ly\", \"showLink\": true})});</script>"
      ],
      "text/vnd.plotly.v1+html": [
       "<div id=\"9a0704ef-6fef-427a-b773-0fd44abfcd21\" style=\"height: 700px; width: 800px;\" class=\"plotly-graph-div\"></div><script type=\"text/javascript\">require([\"plotly\"], function(Plotly) { window.PLOTLYENV=window.PLOTLYENV || {};window.PLOTLYENV.BASE_URL=\"https://plot.ly\";Plotly.newPlot(\"9a0704ef-6fef-427a-b773-0fd44abfcd21\", [{\"marker\": {\"size\": 8, \"colorscale\": \"Jet\", \"color\": [16.031254289210725, 15.208714527291558, 15.748302192973492, 14.747761385175243, 15.772085679081844, 16.352750927367822, 15.441187428949691, 15.103125534149871, 15.922154480675175, 16.03687067944525]}, \"x\": [6, 9, 12, 15, 18, 21, 24, 27, 30, 33], \"z\": [16.031254289210725, 15.208714527291558, 15.748302192973492, 14.747761385175243, 15.772085679081844, 16.352750927367822, 15.441187428949691, 15.103125534149871, 15.922154480675175, 16.03687067944525], \"y\": [5, 5, 5, 5, 5, 5, 5, 5, 5, 5], \"line\": {\"width\": 1, \"color\": \"#1f77b4\"}, \"uid\": \"219359c8-dc51-11e8-89fe-001a7dda7111\", \"type\": \"scatter3d\"}], {\"width\": 800, \"title\": \"Model Varient in Experiment 43\", \"height\": 700, \"scene\": {\"zaxis\": {\"gridcolor\": \"rgb(255, 255, 255)\", \"zerolinecolor\": \"rgb(255, 255, 255)\", \"titlefont\": {\"size\": 10, \"color\": \"#ff0000\"}, \"title\": \"Avg Diff Between Label-Predict\", \"backgroundcolor\": \"rgb(230, 230,230)\", \"showbackground\": true}, \"xaxis\": {\"gridcolor\": \"rgb(255, 255, 255)\", \"zerolinecolor\": \"rgb(255, 255, 255)\", \"titlefont\": {\"size\": 14, \"color\": \"#ff0000\"}, \"title\": \"Hidden Layer Dimension\", \"backgroundcolor\": \"rgb(230, 230,230)\", \"showbackground\": true}, \"yaxis\": {\"gridcolor\": \"rgb(255, 255, 255)\", \"zerolinecolor\": \"rgb(255, 255, 255)\", \"titlefont\": {\"size\": 14, \"color\": \"#ff0000\"}, \"title\": \"Minibatch Size\", \"backgroundcolor\": \"rgb(230, 230,230)\", \"showbackground\": true}}}, {\"linkText\": \"Export to plot.ly\", \"showLink\": true})});</script>"
      ]
     },
     "metadata": {},
     "output_type": "display_data"
    }
   ],
   "source": [
    "trace = go.Scatter3d(\n",
    "    x=x, y=y, z=z,\n",
    "    marker=dict(\n",
    "        size=8,\n",
    "        color=z,\n",
    "        colorscale='Jet',\n",
    "    ),\n",
    "    line=dict(\n",
    "        color='#1f77b4',\n",
    "        width=1\n",
    "    )\n",
    ")\n",
    "\n",
    "data = [trace]\n",
    "layout = go.Layout(\n",
    "    width=800,\n",
    "    height=700,\n",
    "    title='Model Varient in Experiment 43',\n",
    "    scene=dict(\n",
    "        xaxis=dict(\n",
    "            title='Hidden Layer Dimension',\n",
    "            titlefont=dict(\n",
    "                size=14,\n",
    "                color='#ff0000'\n",
    "            ),\n",
    "            gridcolor='rgb(255, 255, 255)',\n",
    "            zerolinecolor='rgb(255, 255, 255)',\n",
    "            showbackground=True,\n",
    "            backgroundcolor='rgb(230, 230,230)'\n",
    "        ),\n",
    "        yaxis=dict(\n",
    "            title='Dense Layer Num',\n",
    "            titlefont=dict(\n",
    "                size=14,\n",
    "                color='#ff0000'\n",
    "            ),\n",
    "            gridcolor='rgb(255, 255, 255)',\n",
    "            zerolinecolor='rgb(255, 255, 255)',\n",
    "            showbackground=True,\n",
    "            backgroundcolor='rgb(230, 230,230)'\n",
    "        ),\n",
    "        zaxis=dict(\n",
    "            title='Avg Diff Between Label-Predict',\n",
    "            titlefont=dict(\n",
    "                size=10,\n",
    "                color='#ff0000'\n",
    "            ),\n",
    "            gridcolor='rgb(255, 255, 255)',\n",
    "            zerolinecolor='rgb(255, 255, 255)',\n",
    "            showbackground=True,\n",
    "            backgroundcolor='rgb(230, 230,230)'\n",
    "        ),\n",
    "    )\n",
    ")\n",
    "\n",
    "fig = go.Figure(data=data, layout=layout)\n",
    "plotly.offline.iplot(fig, filename='simple-3d-scatter.html')"
   ]
  },
  {
   "cell_type": "code",
   "execution_count": null,
   "metadata": {},
   "outputs": [],
   "source": []
  },
  {
   "cell_type": "code",
   "execution_count": null,
   "metadata": {},
   "outputs": [],
   "source": []
  }
 ],
 "metadata": {
  "kernelspec": {
   "display_name": "Python 3",
   "language": "python",
   "name": "python3"
  },
  "language_info": {
   "codemirror_mode": {
    "name": "ipython",
    "version": 3
   },
   "file_extension": ".py",
   "mimetype": "text/x-python",
   "name": "python",
   "nbconvert_exporter": "python",
   "pygments_lexer": "ipython3",
   "version": "3.5.6"
  }
 },
 "nbformat": 4,
 "nbformat_minor": 2
}
