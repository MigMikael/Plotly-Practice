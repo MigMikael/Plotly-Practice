{
 "cells": [
  {
   "cell_type": "code",
   "execution_count": 1,
   "metadata": {},
   "outputs": [],
   "source": [
    "title = \"iPadtoMotoC Model Varient (Exp. 60-62) (Test By Random Set)\"\n",
    "filename = 'experiment60-62-RandomSet.html'\n",
    "polyfit_diff = 17.757\n",
    "\n",
    "hidden_layer = [6, 9, 12, 15, 18, 21, 24, 27, 30, 33]"
   ]
  },
  {
   "cell_type": "code",
   "execution_count": 2,
   "metadata": {},
   "outputs": [],
   "source": [
    "# 3 Dense Layer \n",
    "# z1 = [15.792, 15.614, 15.351, 15.43, 15.104, 15.103, 15.091, 15.068, 15.007, 15.008]\n",
    "z1 = [18.429, 18.04, 17.755, 18.136, 17.91, 18.098, 18.353, 18.008, 18.289, 18.378]\n",
    "\n",
    "# 4 Dense Layer \n",
    "# z2 = [15.558, 15.349, 15.127, 14.94, 14.818, 14.798, 14.649, 14.58, 14.57, 14.618]\n",
    "z2 = [18.132, 17.949, 18.007, 18.519, 18.652, 18.589, 19.052, 18.674, 18.546, 18.459]\n",
    "\n",
    "# 5 Dense Layer \n",
    "# z3 = [15.557, 15.075, 15.007, 14.709, 14.682, 14.555, 14.457, 14.426, 14.416, 14.302]\n",
    "z3 = [18.067, 18.245, 18.444, 18.5, 18.887, 18.563, 18.418, 18.307, 18.972, 18.709]"
   ]
  },
  {
   "cell_type": "code",
   "execution_count": 3,
   "metadata": {},
   "outputs": [
    {
     "data": {
      "text/html": [
       "<script>requirejs.config({paths: { 'plotly': ['https://cdn.plot.ly/plotly-latest.min']},});if(!window.Plotly) {{require(['plotly'],function(plotly) {window.Plotly=plotly;});}}</script>"
      ],
      "text/vnd.plotly.v1+html": [
       "<script>requirejs.config({paths: { 'plotly': ['https://cdn.plot.ly/plotly-latest.min']},});if(!window.Plotly) {{require(['plotly'],function(plotly) {window.Plotly=plotly;});}}</script>"
      ]
     },
     "metadata": {},
     "output_type": "display_data"
    }
   ],
   "source": [
    "import plotly\n",
    "from plotly.offline import download_plotlyjs, init_notebook_mode, plot, iplot\n",
    "import plotly.graph_objs as go\n",
    "import pandas as pd\n",
    "import numpy as np\n",
    "\n",
    "init_notebook_mode(connected=True)\n",
    "# print(plotly.__version__) "
   ]
  },
  {
   "cell_type": "code",
   "execution_count": 4,
   "metadata": {},
   "outputs": [
    {
     "name": "stdout",
     "output_type": "stream",
     "text": [
      "6     18.429\n",
      "9     18.040\n",
      "12    17.755\n",
      "15    18.136\n",
      "18    17.910\n",
      "21    18.098\n",
      "24    18.353\n",
      "27    18.008\n",
      "30    18.289\n",
      "33    18.378\n",
      "dtype: float64\n"
     ]
    }
   ],
   "source": [
    "# 3 Dense Layer \n",
    "x1 = hidden_layer\n",
    "y1 = [3] * 10\n",
    "y1 = pd.Series(y1, index=x1)\n",
    "#print(y1)\n",
    "z1 = pd.Series(z1, index=x1)\n",
    "print(z1)"
   ]
  },
  {
   "cell_type": "code",
   "execution_count": 5,
   "metadata": {},
   "outputs": [
    {
     "name": "stdout",
     "output_type": "stream",
     "text": [
      "6     18.132\n",
      "9     17.949\n",
      "12    18.007\n",
      "15    18.519\n",
      "18    18.652\n",
      "21    18.589\n",
      "24    19.052\n",
      "27    18.674\n",
      "30    18.546\n",
      "33    18.459\n",
      "dtype: float64\n"
     ]
    }
   ],
   "source": [
    "# 4 Dense Layer\n",
    "x2 = hidden_layer\n",
    "y2 = [4] * 10\n",
    "y2 = pd.Series(y2, index=x2)\n",
    "#print(y2)\n",
    "z2 = pd.Series(z2, index=x2)\n",
    "print(z2)"
   ]
  },
  {
   "cell_type": "code",
   "execution_count": 6,
   "metadata": {},
   "outputs": [
    {
     "name": "stdout",
     "output_type": "stream",
     "text": [
      "6     18.067\n",
      "9     18.245\n",
      "12    18.444\n",
      "15    18.500\n",
      "18    18.887\n",
      "21    18.563\n",
      "24    18.418\n",
      "27    18.307\n",
      "30    18.972\n",
      "33    18.709\n",
      "dtype: float64\n"
     ]
    }
   ],
   "source": [
    "# 5 Dense Layer\n",
    "x3 = hidden_layer\n",
    "y3 = [5] * 10\n",
    "y3 = pd.Series(y3, index=x3)\n",
    "#print(y3)\n",
    "z3 = pd.Series(z3, index=x3)\n",
    "print(z3)"
   ]
  },
  {
   "cell_type": "code",
   "execution_count": 7,
   "metadata": {},
   "outputs": [],
   "source": [
    "polyfit = polyfit_diff\n",
    "polyfit_list = [[polyfit_diff] * 30] * 7\n",
    "#print(polyfit_list)"
   ]
  },
  {
   "cell_type": "code",
   "execution_count": 8,
   "metadata": {},
   "outputs": [
    {
     "data": {
      "application/vnd.plotly.v1+json": {
       "data": [
        {
         "line": {
          "color": "#1f77b4",
          "width": 2
         },
         "marker": {
          "color": [
           18.429,
           18.04,
           17.755,
           18.136,
           17.91,
           18.098,
           18.353,
           18.008,
           18.289,
           18.378
          ],
          "size": 8
         },
         "type": "scatter3d",
         "uid": "e4a67d3a-ea7e-11e8-a81a-001a7dda7111",
         "x": [
          6,
          9,
          12,
          15,
          18,
          21,
          24,
          27,
          30,
          33
         ],
         "y": [
          3,
          3,
          3,
          3,
          3,
          3,
          3,
          3,
          3,
          3
         ],
         "z": [
          18.429,
          18.04,
          17.755,
          18.136,
          17.91,
          18.098,
          18.353,
          18.008,
          18.289,
          18.378
         ]
        },
        {
         "line": {
          "color": "#1f77b4",
          "width": 2
         },
         "marker": {
          "color": [
           18.132,
           17.949,
           18.007,
           18.519,
           18.652,
           18.589,
           19.052,
           18.674,
           18.546,
           18.459
          ],
          "size": 8
         },
         "type": "scatter3d",
         "uid": "e4a67d3b-ea7e-11e8-8a9e-001a7dda7111",
         "x": [
          6,
          9,
          12,
          15,
          18,
          21,
          24,
          27,
          30,
          33
         ],
         "y": [
          4,
          4,
          4,
          4,
          4,
          4,
          4,
          4,
          4,
          4
         ],
         "z": [
          18.132,
          17.949,
          18.007,
          18.519,
          18.652,
          18.589,
          19.052,
          18.674,
          18.546,
          18.459
         ]
        },
        {
         "line": {
          "color": "#1f77b4",
          "width": 2
         },
         "marker": {
          "color": [
           18.067,
           18.245,
           18.444,
           18.5,
           18.887,
           18.563,
           18.418,
           18.307,
           18.972,
           18.709
          ],
          "size": 8
         },
         "type": "scatter3d",
         "uid": "e4a67d3c-ea7e-11e8-aa07-001a7dda7111",
         "x": [
          6,
          9,
          12,
          15,
          18,
          21,
          24,
          27,
          30,
          33
         ],
         "y": [
          5,
          5,
          5,
          5,
          5,
          5,
          5,
          5,
          5,
          5
         ],
         "z": [
          18.067,
          18.245,
          18.444,
          18.5,
          18.887,
          18.563,
          18.418,
          18.307,
          18.972,
          18.709
         ]
        },
        {
         "colorscale": "Jet",
         "opacity": 0.7,
         "showscale": false,
         "type": "surface",
         "uid": "e4a67d3d-ea7e-11e8-84b4-001a7dda7111",
         "z": [
          [
           17.757,
           17.757,
           17.757,
           17.757,
           17.757,
           17.757,
           17.757,
           17.757,
           17.757,
           17.757,
           17.757,
           17.757,
           17.757,
           17.757,
           17.757,
           17.757,
           17.757,
           17.757,
           17.757,
           17.757,
           17.757,
           17.757,
           17.757,
           17.757,
           17.757,
           17.757,
           17.757,
           17.757,
           17.757,
           17.757
          ],
          [
           17.757,
           17.757,
           17.757,
           17.757,
           17.757,
           17.757,
           17.757,
           17.757,
           17.757,
           17.757,
           17.757,
           17.757,
           17.757,
           17.757,
           17.757,
           17.757,
           17.757,
           17.757,
           17.757,
           17.757,
           17.757,
           17.757,
           17.757,
           17.757,
           17.757,
           17.757,
           17.757,
           17.757,
           17.757,
           17.757
          ],
          [
           17.757,
           17.757,
           17.757,
           17.757,
           17.757,
           17.757,
           17.757,
           17.757,
           17.757,
           17.757,
           17.757,
           17.757,
           17.757,
           17.757,
           17.757,
           17.757,
           17.757,
           17.757,
           17.757,
           17.757,
           17.757,
           17.757,
           17.757,
           17.757,
           17.757,
           17.757,
           17.757,
           17.757,
           17.757,
           17.757
          ],
          [
           17.757,
           17.757,
           17.757,
           17.757,
           17.757,
           17.757,
           17.757,
           17.757,
           17.757,
           17.757,
           17.757,
           17.757,
           17.757,
           17.757,
           17.757,
           17.757,
           17.757,
           17.757,
           17.757,
           17.757,
           17.757,
           17.757,
           17.757,
           17.757,
           17.757,
           17.757,
           17.757,
           17.757,
           17.757,
           17.757
          ],
          [
           17.757,
           17.757,
           17.757,
           17.757,
           17.757,
           17.757,
           17.757,
           17.757,
           17.757,
           17.757,
           17.757,
           17.757,
           17.757,
           17.757,
           17.757,
           17.757,
           17.757,
           17.757,
           17.757,
           17.757,
           17.757,
           17.757,
           17.757,
           17.757,
           17.757,
           17.757,
           17.757,
           17.757,
           17.757,
           17.757
          ],
          [
           17.757,
           17.757,
           17.757,
           17.757,
           17.757,
           17.757,
           17.757,
           17.757,
           17.757,
           17.757,
           17.757,
           17.757,
           17.757,
           17.757,
           17.757,
           17.757,
           17.757,
           17.757,
           17.757,
           17.757,
           17.757,
           17.757,
           17.757,
           17.757,
           17.757,
           17.757,
           17.757,
           17.757,
           17.757,
           17.757
          ],
          [
           17.757,
           17.757,
           17.757,
           17.757,
           17.757,
           17.757,
           17.757,
           17.757,
           17.757,
           17.757,
           17.757,
           17.757,
           17.757,
           17.757,
           17.757,
           17.757,
           17.757,
           17.757,
           17.757,
           17.757,
           17.757,
           17.757,
           17.757,
           17.757,
           17.757,
           17.757,
           17.757,
           17.757,
           17.757,
           17.757
          ]
         ]
        }
       ],
       "layout": {
        "height": 700,
        "scene": {
         "xaxis": {
          "backgroundcolor": "rgb(200, 200, 230)",
          "gridcolor": "rgb(255, 255, 255)",
          "showbackground": true,
          "title": "Hidden Layer Dim (X)",
          "titlefont": {
           "color": "#ff0000",
           "size": 14
          },
          "zerolinecolor": "rgb(255, 255, 255)"
         },
         "yaxis": {
          "backgroundcolor": "rgb(230, 200, 230)",
          "gridcolor": "rgb(255, 255, 255)",
          "nticks": 5,
          "range": [
           2,
           6
          ],
          "showbackground": true,
          "title": "Dense Layer Num (Y)",
          "titlefont": {
           "color": "#ff0000",
           "size": 14
          },
          "zerolinecolor": "rgb(255, 255, 255)"
         },
         "zaxis": {
          "backgroundcolor": "rgb(230, 230, 200)",
          "gridcolor": "rgb(255, 255, 255)",
          "showbackground": true,
          "title": "Avg Diff (Z)",
          "titlefont": {
           "color": "#ff0000",
           "size": 10
          },
          "zerolinecolor": "rgb(255, 255, 255)"
         }
        },
        "title": "iPadtoMotoC Model Varient (Exp. 60-62) (Test By Random Set)",
        "width": 800
       }
      },
      "text/html": [
       "<div id=\"076dd79e-8f9b-4318-8126-17eedbc0072b\" style=\"height: 700px; width: 800px;\" class=\"plotly-graph-div\"></div><script type=\"text/javascript\">require([\"plotly\"], function(Plotly) { window.PLOTLYENV=window.PLOTLYENV || {};window.PLOTLYENV.BASE_URL=\"https://plot.ly\";Plotly.newPlot(\"076dd79e-8f9b-4318-8126-17eedbc0072b\", [{\"type\": \"scatter3d\", \"uid\": \"e4a67d3a-ea7e-11e8-a81a-001a7dda7111\", \"marker\": {\"size\": 8, \"color\": [18.429, 18.04, 17.755, 18.136, 17.91, 18.098, 18.353, 18.008, 18.289, 18.378]}, \"line\": {\"width\": 2, \"color\": \"#1f77b4\"}, \"z\": [18.429, 18.04, 17.755, 18.136, 17.91, 18.098, 18.353, 18.008, 18.289, 18.378], \"y\": [3, 3, 3, 3, 3, 3, 3, 3, 3, 3], \"x\": [6, 9, 12, 15, 18, 21, 24, 27, 30, 33]}, {\"type\": \"scatter3d\", \"uid\": \"e4a67d3b-ea7e-11e8-8a9e-001a7dda7111\", \"marker\": {\"size\": 8, \"color\": [18.132, 17.949, 18.007, 18.519, 18.652, 18.589, 19.052, 18.674, 18.546, 18.459]}, \"line\": {\"width\": 2, \"color\": \"#1f77b4\"}, \"z\": [18.132, 17.949, 18.007, 18.519, 18.652, 18.589, 19.052, 18.674, 18.546, 18.459], \"y\": [4, 4, 4, 4, 4, 4, 4, 4, 4, 4], \"x\": [6, 9, 12, 15, 18, 21, 24, 27, 30, 33]}, {\"type\": \"scatter3d\", \"uid\": \"e4a67d3c-ea7e-11e8-aa07-001a7dda7111\", \"marker\": {\"size\": 8, \"color\": [18.067, 18.245, 18.444, 18.5, 18.887, 18.563, 18.418, 18.307, 18.972, 18.709]}, \"line\": {\"width\": 2, \"color\": \"#1f77b4\"}, \"z\": [18.067, 18.245, 18.444, 18.5, 18.887, 18.563, 18.418, 18.307, 18.972, 18.709], \"y\": [5, 5, 5, 5, 5, 5, 5, 5, 5, 5], \"x\": [6, 9, 12, 15, 18, 21, 24, 27, 30, 33]}, {\"type\": \"surface\", \"opacity\": 0.7, \"colorscale\": \"Jet\", \"uid\": \"e4a67d3d-ea7e-11e8-84b4-001a7dda7111\", \"showscale\": false, \"z\": [[17.757, 17.757, 17.757, 17.757, 17.757, 17.757, 17.757, 17.757, 17.757, 17.757, 17.757, 17.757, 17.757, 17.757, 17.757, 17.757, 17.757, 17.757, 17.757, 17.757, 17.757, 17.757, 17.757, 17.757, 17.757, 17.757, 17.757, 17.757, 17.757, 17.757], [17.757, 17.757, 17.757, 17.757, 17.757, 17.757, 17.757, 17.757, 17.757, 17.757, 17.757, 17.757, 17.757, 17.757, 17.757, 17.757, 17.757, 17.757, 17.757, 17.757, 17.757, 17.757, 17.757, 17.757, 17.757, 17.757, 17.757, 17.757, 17.757, 17.757], [17.757, 17.757, 17.757, 17.757, 17.757, 17.757, 17.757, 17.757, 17.757, 17.757, 17.757, 17.757, 17.757, 17.757, 17.757, 17.757, 17.757, 17.757, 17.757, 17.757, 17.757, 17.757, 17.757, 17.757, 17.757, 17.757, 17.757, 17.757, 17.757, 17.757], [17.757, 17.757, 17.757, 17.757, 17.757, 17.757, 17.757, 17.757, 17.757, 17.757, 17.757, 17.757, 17.757, 17.757, 17.757, 17.757, 17.757, 17.757, 17.757, 17.757, 17.757, 17.757, 17.757, 17.757, 17.757, 17.757, 17.757, 17.757, 17.757, 17.757], [17.757, 17.757, 17.757, 17.757, 17.757, 17.757, 17.757, 17.757, 17.757, 17.757, 17.757, 17.757, 17.757, 17.757, 17.757, 17.757, 17.757, 17.757, 17.757, 17.757, 17.757, 17.757, 17.757, 17.757, 17.757, 17.757, 17.757, 17.757, 17.757, 17.757], [17.757, 17.757, 17.757, 17.757, 17.757, 17.757, 17.757, 17.757, 17.757, 17.757, 17.757, 17.757, 17.757, 17.757, 17.757, 17.757, 17.757, 17.757, 17.757, 17.757, 17.757, 17.757, 17.757, 17.757, 17.757, 17.757, 17.757, 17.757, 17.757, 17.757], [17.757, 17.757, 17.757, 17.757, 17.757, 17.757, 17.757, 17.757, 17.757, 17.757, 17.757, 17.757, 17.757, 17.757, 17.757, 17.757, 17.757, 17.757, 17.757, 17.757, 17.757, 17.757, 17.757, 17.757, 17.757, 17.757, 17.757, 17.757, 17.757, 17.757]]}], {\"height\": 700, \"scene\": {\"zaxis\": {\"zerolinecolor\": \"rgb(255, 255, 255)\", \"showbackground\": true, \"backgroundcolor\": \"rgb(230, 230, 200)\", \"gridcolor\": \"rgb(255, 255, 255)\", \"titlefont\": {\"size\": 10, \"color\": \"#ff0000\"}, \"title\": \"Avg Diff (Z)\"}, \"xaxis\": {\"zerolinecolor\": \"rgb(255, 255, 255)\", \"showbackground\": true, \"backgroundcolor\": \"rgb(200, 200, 230)\", \"gridcolor\": \"rgb(255, 255, 255)\", \"titlefont\": {\"size\": 14, \"color\": \"#ff0000\"}, \"title\": \"Hidden Layer Dim (X)\"}, \"yaxis\": {\"range\": [2, 6], \"zerolinecolor\": \"rgb(255, 255, 255)\", \"showbackground\": true, \"backgroundcolor\": \"rgb(230, 200, 230)\", \"gridcolor\": \"rgb(255, 255, 255)\", \"nticks\": 5, \"title\": \"Dense Layer Num (Y)\", \"titlefont\": {\"size\": 14, \"color\": \"#ff0000\"}}}, \"width\": 800, \"title\": \"iPadtoMotoC Model Varient (Exp. 60-62) (Test By Random Set)\"}, {\"showLink\": true, \"linkText\": \"Export to plot.ly\"})});</script>"
      ],
      "text/vnd.plotly.v1+html": [
       "<div id=\"076dd79e-8f9b-4318-8126-17eedbc0072b\" style=\"height: 700px; width: 800px;\" class=\"plotly-graph-div\"></div><script type=\"text/javascript\">require([\"plotly\"], function(Plotly) { window.PLOTLYENV=window.PLOTLYENV || {};window.PLOTLYENV.BASE_URL=\"https://plot.ly\";Plotly.newPlot(\"076dd79e-8f9b-4318-8126-17eedbc0072b\", [{\"type\": \"scatter3d\", \"uid\": \"e4a67d3a-ea7e-11e8-a81a-001a7dda7111\", \"marker\": {\"size\": 8, \"color\": [18.429, 18.04, 17.755, 18.136, 17.91, 18.098, 18.353, 18.008, 18.289, 18.378]}, \"line\": {\"width\": 2, \"color\": \"#1f77b4\"}, \"z\": [18.429, 18.04, 17.755, 18.136, 17.91, 18.098, 18.353, 18.008, 18.289, 18.378], \"y\": [3, 3, 3, 3, 3, 3, 3, 3, 3, 3], \"x\": [6, 9, 12, 15, 18, 21, 24, 27, 30, 33]}, {\"type\": \"scatter3d\", \"uid\": \"e4a67d3b-ea7e-11e8-8a9e-001a7dda7111\", \"marker\": {\"size\": 8, \"color\": [18.132, 17.949, 18.007, 18.519, 18.652, 18.589, 19.052, 18.674, 18.546, 18.459]}, \"line\": {\"width\": 2, \"color\": \"#1f77b4\"}, \"z\": [18.132, 17.949, 18.007, 18.519, 18.652, 18.589, 19.052, 18.674, 18.546, 18.459], \"y\": [4, 4, 4, 4, 4, 4, 4, 4, 4, 4], \"x\": [6, 9, 12, 15, 18, 21, 24, 27, 30, 33]}, {\"type\": \"scatter3d\", \"uid\": \"e4a67d3c-ea7e-11e8-aa07-001a7dda7111\", \"marker\": {\"size\": 8, \"color\": [18.067, 18.245, 18.444, 18.5, 18.887, 18.563, 18.418, 18.307, 18.972, 18.709]}, \"line\": {\"width\": 2, \"color\": \"#1f77b4\"}, \"z\": [18.067, 18.245, 18.444, 18.5, 18.887, 18.563, 18.418, 18.307, 18.972, 18.709], \"y\": [5, 5, 5, 5, 5, 5, 5, 5, 5, 5], \"x\": [6, 9, 12, 15, 18, 21, 24, 27, 30, 33]}, {\"type\": \"surface\", \"opacity\": 0.7, \"colorscale\": \"Jet\", \"uid\": \"e4a67d3d-ea7e-11e8-84b4-001a7dda7111\", \"showscale\": false, \"z\": [[17.757, 17.757, 17.757, 17.757, 17.757, 17.757, 17.757, 17.757, 17.757, 17.757, 17.757, 17.757, 17.757, 17.757, 17.757, 17.757, 17.757, 17.757, 17.757, 17.757, 17.757, 17.757, 17.757, 17.757, 17.757, 17.757, 17.757, 17.757, 17.757, 17.757], [17.757, 17.757, 17.757, 17.757, 17.757, 17.757, 17.757, 17.757, 17.757, 17.757, 17.757, 17.757, 17.757, 17.757, 17.757, 17.757, 17.757, 17.757, 17.757, 17.757, 17.757, 17.757, 17.757, 17.757, 17.757, 17.757, 17.757, 17.757, 17.757, 17.757], [17.757, 17.757, 17.757, 17.757, 17.757, 17.757, 17.757, 17.757, 17.757, 17.757, 17.757, 17.757, 17.757, 17.757, 17.757, 17.757, 17.757, 17.757, 17.757, 17.757, 17.757, 17.757, 17.757, 17.757, 17.757, 17.757, 17.757, 17.757, 17.757, 17.757], [17.757, 17.757, 17.757, 17.757, 17.757, 17.757, 17.757, 17.757, 17.757, 17.757, 17.757, 17.757, 17.757, 17.757, 17.757, 17.757, 17.757, 17.757, 17.757, 17.757, 17.757, 17.757, 17.757, 17.757, 17.757, 17.757, 17.757, 17.757, 17.757, 17.757], [17.757, 17.757, 17.757, 17.757, 17.757, 17.757, 17.757, 17.757, 17.757, 17.757, 17.757, 17.757, 17.757, 17.757, 17.757, 17.757, 17.757, 17.757, 17.757, 17.757, 17.757, 17.757, 17.757, 17.757, 17.757, 17.757, 17.757, 17.757, 17.757, 17.757], [17.757, 17.757, 17.757, 17.757, 17.757, 17.757, 17.757, 17.757, 17.757, 17.757, 17.757, 17.757, 17.757, 17.757, 17.757, 17.757, 17.757, 17.757, 17.757, 17.757, 17.757, 17.757, 17.757, 17.757, 17.757, 17.757, 17.757, 17.757, 17.757, 17.757], [17.757, 17.757, 17.757, 17.757, 17.757, 17.757, 17.757, 17.757, 17.757, 17.757, 17.757, 17.757, 17.757, 17.757, 17.757, 17.757, 17.757, 17.757, 17.757, 17.757, 17.757, 17.757, 17.757, 17.757, 17.757, 17.757, 17.757, 17.757, 17.757, 17.757]]}], {\"height\": 700, \"scene\": {\"zaxis\": {\"zerolinecolor\": \"rgb(255, 255, 255)\", \"showbackground\": true, \"backgroundcolor\": \"rgb(230, 230, 200)\", \"gridcolor\": \"rgb(255, 255, 255)\", \"titlefont\": {\"size\": 10, \"color\": \"#ff0000\"}, \"title\": \"Avg Diff (Z)\"}, \"xaxis\": {\"zerolinecolor\": \"rgb(255, 255, 255)\", \"showbackground\": true, \"backgroundcolor\": \"rgb(200, 200, 230)\", \"gridcolor\": \"rgb(255, 255, 255)\", \"titlefont\": {\"size\": 14, \"color\": \"#ff0000\"}, \"title\": \"Hidden Layer Dim (X)\"}, \"yaxis\": {\"range\": [2, 6], \"zerolinecolor\": \"rgb(255, 255, 255)\", \"showbackground\": true, \"backgroundcolor\": \"rgb(230, 200, 230)\", \"gridcolor\": \"rgb(255, 255, 255)\", \"nticks\": 5, \"title\": \"Dense Layer Num (Y)\", \"titlefont\": {\"size\": 14, \"color\": \"#ff0000\"}}}, \"width\": 800, \"title\": \"iPadtoMotoC Model Varient (Exp. 60-62) (Test By Random Set)\"}, {\"showLink\": true, \"linkText\": \"Export to plot.ly\"})});</script>"
      ]
     },
     "metadata": {},
     "output_type": "display_data"
    }
   ],
   "source": [
    "trace = go.Scatter3d(\n",
    "    x=x1, y=y1, z=z1,\n",
    "    marker=dict(\n",
    "        size=8,\n",
    "        color=z1\n",
    "    ),\n",
    "    line=dict(\n",
    "        color='#1f77b4',\n",
    "        width=2\n",
    "    )\n",
    ")\n",
    "\n",
    "trace2 = go.Scatter3d(\n",
    "    x=x2, y=y2, z=z2,\n",
    "    marker=dict(\n",
    "        size=8,\n",
    "        color=z2\n",
    "    ),\n",
    "    line=dict(\n",
    "        color='#1f77b4',\n",
    "        width=2\n",
    "    )\n",
    ")\n",
    "\n",
    "trace3 = go.Scatter3d(\n",
    "    x=x3, y=y3, z=z3,\n",
    "    marker=dict(\n",
    "        size=8,\n",
    "        color=z3\n",
    "    ),\n",
    "    line=dict(\n",
    "        color='#1f77b4',\n",
    "        width=2\n",
    "    )\n",
    ")\n",
    "\n",
    "trace4 = go.Surface(\n",
    "    z=polyfit_list,\n",
    "    opacity=0.7,\n",
    "    colorscale='Jet',\n",
    "    showscale=False\n",
    ")\n",
    "\n",
    "data = [trace, trace2, trace3, trace4]\n",
    "layout = go.Layout(\n",
    "    width=800,\n",
    "    height=700,\n",
    "    title= title,\n",
    "    scene=dict(\n",
    "        xaxis=dict(\n",
    "            title='Hidden Layer Dim (X)',\n",
    "            titlefont=dict(\n",
    "                size=14,\n",
    "                color='#ff0000'\n",
    "            ),\n",
    "            gridcolor='rgb(255, 255, 255)',\n",
    "            zerolinecolor='rgb(255, 255, 255)',\n",
    "            showbackground=True,\n",
    "            backgroundcolor='rgb(200, 200, 230)'\n",
    "        ),\n",
    "        yaxis=dict(\n",
    "            nticks = 5,\n",
    "            range = [2, 6],\n",
    "            title='Dense Layer Num (Y)',\n",
    "            titlefont=dict(\n",
    "                size=14,\n",
    "                color='#ff0000'\n",
    "            ),\n",
    "            gridcolor='rgb(255, 255, 255)',\n",
    "            zerolinecolor='rgb(255, 255, 255)',\n",
    "            showbackground=True,\n",
    "            backgroundcolor='rgb(230, 200, 230)'\n",
    "        ),\n",
    "        zaxis=dict(\n",
    "            title='Avg Diff (Z)',\n",
    "            titlefont=dict(\n",
    "                size=10,\n",
    "                color='#ff0000'\n",
    "            ),\n",
    "            gridcolor='rgb(255, 255, 255)',\n",
    "            zerolinecolor='rgb(255, 255, 255)',\n",
    "            showbackground=True,\n",
    "            backgroundcolor='rgb(230, 230, 200)'\n",
    "        ),\n",
    "    )\n",
    ")\n",
    "\n",
    "fig = go.Figure(data=data, layout=layout)\n",
    "plotly.offline.iplot(fig)"
   ]
  },
  {
   "cell_type": "code",
   "execution_count": null,
   "metadata": {},
   "outputs": [],
   "source": []
  },
  {
   "cell_type": "code",
   "execution_count": 9,
   "metadata": {},
   "outputs": [
    {
     "data": {
      "text/plain": [
       "'file://C:\\\\Users\\\\Mig\\\\Documents\\\\Plotly-Practice\\\\experiment60-62-RandomSet.html'"
      ]
     },
     "execution_count": 9,
     "metadata": {},
     "output_type": "execute_result"
    }
   ],
   "source": [
    "plotly.offline.plot(fig, filename=filename)"
   ]
  },
  {
   "cell_type": "code",
   "execution_count": null,
   "metadata": {},
   "outputs": [],
   "source": []
  }
 ],
 "metadata": {
  "kernelspec": {
   "display_name": "Python 3",
   "language": "python",
   "name": "python3"
  },
  "language_info": {
   "codemirror_mode": {
    "name": "ipython",
    "version": 3
   },
   "file_extension": ".py",
   "mimetype": "text/x-python",
   "name": "python",
   "nbconvert_exporter": "python",
   "pygments_lexer": "ipython3",
   "version": "3.5.6"
  }
 },
 "nbformat": 4,
 "nbformat_minor": 2
}
