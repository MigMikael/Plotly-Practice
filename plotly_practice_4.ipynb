{
 "cells": [
  {
   "cell_type": "code",
   "execution_count": 1,
   "metadata": {},
   "outputs": [],
   "source": [
    "title = \"iPadtoS8 Model Varient (Exp. 66-68) (Test By Generated Set)\"\n",
    "filename = 'experiment66-68-GeneratedSet.html'\n",
    "polyfit_diff = 13.878\n",
    "\n",
    "hidden_layer = [6, 9, 12, 15, 18, 21, 24, 27, 30, 33]"
   ]
  },
  {
   "cell_type": "code",
   "execution_count": 2,
   "metadata": {},
   "outputs": [],
   "source": [
    "# 3 Dense Layer \n",
    "z1 = [13.933, 13.595, 13.303, 13.261, 13.008, 12.902, 12.621, 12.678, 12.58, 12.384]\n",
    "\n",
    "# 4 Dense Layer \n",
    "z2 = [13.677, 13.226, 12.73, 12.475, 12.412, 12.227, 12.125, 12.118, 12.047, 11.94]\n",
    "\n",
    "# 5 Dense Layer \n",
    "z3 = [13.301, 12.725, 12.511, 12.263, 12.145, 12.053, 11.942, 11.914, 11.806, 11.718]"
   ]
  },
  {
   "cell_type": "code",
   "execution_count": 3,
   "metadata": {},
   "outputs": [
    {
     "data": {
      "text/html": [
       "<script>requirejs.config({paths: { 'plotly': ['https://cdn.plot.ly/plotly-latest.min']},});if(!window.Plotly) {{require(['plotly'],function(plotly) {window.Plotly=plotly;});}}</script>"
      ],
      "text/vnd.plotly.v1+html": [
       "<script>requirejs.config({paths: { 'plotly': ['https://cdn.plot.ly/plotly-latest.min']},});if(!window.Plotly) {{require(['plotly'],function(plotly) {window.Plotly=plotly;});}}</script>"
      ]
     },
     "metadata": {},
     "output_type": "display_data"
    }
   ],
   "source": [
    "import plotly\n",
    "from plotly.offline import download_plotlyjs, init_notebook_mode, plot, iplot\n",
    "import plotly.graph_objs as go\n",
    "import pandas as pd\n",
    "import numpy as np\n",
    "\n",
    "init_notebook_mode(connected=True)\n",
    "# print(plotly.__version__) "
   ]
  },
  {
   "cell_type": "code",
   "execution_count": 4,
   "metadata": {},
   "outputs": [
    {
     "name": "stdout",
     "output_type": "stream",
     "text": [
      "6     13.933\n",
      "9     13.595\n",
      "12    13.303\n",
      "15    13.261\n",
      "18    13.008\n",
      "21    12.902\n",
      "24    12.621\n",
      "27    12.678\n",
      "30    12.580\n",
      "33    12.384\n",
      "dtype: float64\n"
     ]
    }
   ],
   "source": [
    "# 3 Dense Layer \n",
    "x1 = hidden_layer\n",
    "y1 = [3] * 10\n",
    "y1 = pd.Series(y1, index=x1)\n",
    "#print(y1)\n",
    "z1 = pd.Series(z1, index=x1)\n",
    "print(z1)"
   ]
  },
  {
   "cell_type": "code",
   "execution_count": 5,
   "metadata": {},
   "outputs": [
    {
     "name": "stdout",
     "output_type": "stream",
     "text": [
      "6     13.677\n",
      "9     13.226\n",
      "12    12.730\n",
      "15    12.475\n",
      "18    12.412\n",
      "21    12.227\n",
      "24    12.125\n",
      "27    12.118\n",
      "30    12.047\n",
      "33    11.940\n",
      "dtype: float64\n"
     ]
    }
   ],
   "source": [
    "# 4 Dense Layer\n",
    "x2 = hidden_layer\n",
    "y2 = [4] * 10\n",
    "y2 = pd.Series(y2, index=x2)\n",
    "#print(y2)\n",
    "z2 = pd.Series(z2, index=x2)\n",
    "print(z2)"
   ]
  },
  {
   "cell_type": "code",
   "execution_count": 6,
   "metadata": {},
   "outputs": [
    {
     "name": "stdout",
     "output_type": "stream",
     "text": [
      "6     13.301\n",
      "9     12.725\n",
      "12    12.511\n",
      "15    12.263\n",
      "18    12.145\n",
      "21    12.053\n",
      "24    11.942\n",
      "27    11.914\n",
      "30    11.806\n",
      "33    11.718\n",
      "dtype: float64\n"
     ]
    }
   ],
   "source": [
    "# 5 Dense Layer\n",
    "x3 = hidden_layer\n",
    "y3 = [5] * 10\n",
    "y3 = pd.Series(y3, index=x3)\n",
    "#print(y3)\n",
    "z3 = pd.Series(z3, index=x3)\n",
    "print(z3)"
   ]
  },
  {
   "cell_type": "code",
   "execution_count": 7,
   "metadata": {},
   "outputs": [],
   "source": [
    "polyfit = polyfit_diff\n",
    "polyfit_list = [[polyfit_diff] * 30] * 7\n",
    "#print(polyfit_list)"
   ]
  },
  {
   "cell_type": "code",
   "execution_count": 8,
   "metadata": {},
   "outputs": [
    {
     "data": {
      "application/vnd.plotly.v1+json": {
       "data": [
        {
         "line": {
          "color": "#1f77b4",
          "width": 2
         },
         "marker": {
          "color": [
           13.933,
           13.595,
           13.303,
           13.261,
           13.008,
           12.902,
           12.621,
           12.678,
           12.58,
           12.384
          ],
          "size": 8
         },
         "type": "scatter3d",
         "uid": "b06d44a2-e062-11e8-bded-001a7dda7111",
         "x": [
          6,
          9,
          12,
          15,
          18,
          21,
          24,
          27,
          30,
          33
         ],
         "y": [
          3,
          3,
          3,
          3,
          3,
          3,
          3,
          3,
          3,
          3
         ],
         "z": [
          13.933,
          13.595,
          13.303,
          13.261,
          13.008,
          12.902,
          12.621,
          12.678,
          12.58,
          12.384
         ]
        },
        {
         "line": {
          "color": "#1f77b4",
          "width": 2
         },
         "marker": {
          "color": [
           13.677,
           13.226,
           12.73,
           12.475,
           12.412,
           12.227,
           12.125,
           12.118,
           12.047,
           11.94
          ],
          "size": 8
         },
         "type": "scatter3d",
         "uid": "b06d44a3-e062-11e8-81b5-001a7dda7111",
         "x": [
          6,
          9,
          12,
          15,
          18,
          21,
          24,
          27,
          30,
          33
         ],
         "y": [
          4,
          4,
          4,
          4,
          4,
          4,
          4,
          4,
          4,
          4
         ],
         "z": [
          13.677,
          13.226,
          12.73,
          12.475,
          12.412,
          12.227,
          12.125,
          12.118,
          12.047,
          11.94
         ]
        },
        {
         "line": {
          "color": "#1f77b4",
          "width": 2
         },
         "marker": {
          "color": [
           13.301,
           12.725,
           12.511,
           12.263,
           12.145,
           12.053,
           11.942,
           11.914,
           11.806,
           11.718
          ],
          "size": 8
         },
         "type": "scatter3d",
         "uid": "b06d44a4-e062-11e8-815a-001a7dda7111",
         "x": [
          6,
          9,
          12,
          15,
          18,
          21,
          24,
          27,
          30,
          33
         ],
         "y": [
          5,
          5,
          5,
          5,
          5,
          5,
          5,
          5,
          5,
          5
         ],
         "z": [
          13.301,
          12.725,
          12.511,
          12.263,
          12.145,
          12.053,
          11.942,
          11.914,
          11.806,
          11.718
         ]
        },
        {
         "colorscale": "Jet",
         "opacity": 0.7,
         "showscale": false,
         "type": "surface",
         "uid": "b06d44a5-e062-11e8-b15c-001a7dda7111",
         "z": [
          [
           13.878,
           13.878,
           13.878,
           13.878,
           13.878,
           13.878,
           13.878,
           13.878,
           13.878,
           13.878,
           13.878,
           13.878,
           13.878,
           13.878,
           13.878,
           13.878,
           13.878,
           13.878,
           13.878,
           13.878,
           13.878,
           13.878,
           13.878,
           13.878,
           13.878,
           13.878,
           13.878,
           13.878,
           13.878,
           13.878
          ],
          [
           13.878,
           13.878,
           13.878,
           13.878,
           13.878,
           13.878,
           13.878,
           13.878,
           13.878,
           13.878,
           13.878,
           13.878,
           13.878,
           13.878,
           13.878,
           13.878,
           13.878,
           13.878,
           13.878,
           13.878,
           13.878,
           13.878,
           13.878,
           13.878,
           13.878,
           13.878,
           13.878,
           13.878,
           13.878,
           13.878
          ],
          [
           13.878,
           13.878,
           13.878,
           13.878,
           13.878,
           13.878,
           13.878,
           13.878,
           13.878,
           13.878,
           13.878,
           13.878,
           13.878,
           13.878,
           13.878,
           13.878,
           13.878,
           13.878,
           13.878,
           13.878,
           13.878,
           13.878,
           13.878,
           13.878,
           13.878,
           13.878,
           13.878,
           13.878,
           13.878,
           13.878
          ],
          [
           13.878,
           13.878,
           13.878,
           13.878,
           13.878,
           13.878,
           13.878,
           13.878,
           13.878,
           13.878,
           13.878,
           13.878,
           13.878,
           13.878,
           13.878,
           13.878,
           13.878,
           13.878,
           13.878,
           13.878,
           13.878,
           13.878,
           13.878,
           13.878,
           13.878,
           13.878,
           13.878,
           13.878,
           13.878,
           13.878
          ],
          [
           13.878,
           13.878,
           13.878,
           13.878,
           13.878,
           13.878,
           13.878,
           13.878,
           13.878,
           13.878,
           13.878,
           13.878,
           13.878,
           13.878,
           13.878,
           13.878,
           13.878,
           13.878,
           13.878,
           13.878,
           13.878,
           13.878,
           13.878,
           13.878,
           13.878,
           13.878,
           13.878,
           13.878,
           13.878,
           13.878
          ],
          [
           13.878,
           13.878,
           13.878,
           13.878,
           13.878,
           13.878,
           13.878,
           13.878,
           13.878,
           13.878,
           13.878,
           13.878,
           13.878,
           13.878,
           13.878,
           13.878,
           13.878,
           13.878,
           13.878,
           13.878,
           13.878,
           13.878,
           13.878,
           13.878,
           13.878,
           13.878,
           13.878,
           13.878,
           13.878,
           13.878
          ],
          [
           13.878,
           13.878,
           13.878,
           13.878,
           13.878,
           13.878,
           13.878,
           13.878,
           13.878,
           13.878,
           13.878,
           13.878,
           13.878,
           13.878,
           13.878,
           13.878,
           13.878,
           13.878,
           13.878,
           13.878,
           13.878,
           13.878,
           13.878,
           13.878,
           13.878,
           13.878,
           13.878,
           13.878,
           13.878,
           13.878
          ]
         ]
        }
       ],
       "layout": {
        "height": 700,
        "scene": {
         "xaxis": {
          "backgroundcolor": "rgb(200, 200, 230)",
          "gridcolor": "rgb(255, 255, 255)",
          "showbackground": true,
          "title": "Hidden Layer Dim (X)",
          "titlefont": {
           "color": "#ff0000",
           "size": 14
          },
          "zerolinecolor": "rgb(255, 255, 255)"
         },
         "yaxis": {
          "backgroundcolor": "rgb(230, 200, 230)",
          "gridcolor": "rgb(255, 255, 255)",
          "nticks": 5,
          "range": [
           2,
           6
          ],
          "showbackground": true,
          "title": "Dense Layer Num (Y)",
          "titlefont": {
           "color": "#ff0000",
           "size": 14
          },
          "zerolinecolor": "rgb(255, 255, 255)"
         },
         "zaxis": {
          "backgroundcolor": "rgb(230, 230, 200)",
          "gridcolor": "rgb(255, 255, 255)",
          "showbackground": true,
          "title": "Avg Diff (Z)",
          "titlefont": {
           "color": "#ff0000",
           "size": 10
          },
          "zerolinecolor": "rgb(255, 255, 255)"
         }
        },
        "title": "iPadtoS8 Model Varient (Exp. 66-68) (Test By Generated Set)",
        "width": 800
       }
      },
      "text/html": [
       "<div id=\"ad8e8aeb-f6cc-4788-82c5-710790b88add\" style=\"height: 700px; width: 800px;\" class=\"plotly-graph-div\"></div><script type=\"text/javascript\">require([\"plotly\"], function(Plotly) { window.PLOTLYENV=window.PLOTLYENV || {};window.PLOTLYENV.BASE_URL=\"https://plot.ly\";Plotly.newPlot(\"ad8e8aeb-f6cc-4788-82c5-710790b88add\", [{\"x\": [6, 9, 12, 15, 18, 21, 24, 27, 30, 33], \"uid\": \"b06d44a2-e062-11e8-bded-001a7dda7111\", \"z\": [13.933, 13.595, 13.303, 13.261, 13.008, 12.902, 12.621, 12.678, 12.58, 12.384], \"y\": [3, 3, 3, 3, 3, 3, 3, 3, 3, 3], \"type\": \"scatter3d\", \"marker\": {\"color\": [13.933, 13.595, 13.303, 13.261, 13.008, 12.902, 12.621, 12.678, 12.58, 12.384], \"size\": 8}, \"line\": {\"color\": \"#1f77b4\", \"width\": 2}}, {\"x\": [6, 9, 12, 15, 18, 21, 24, 27, 30, 33], \"uid\": \"b06d44a3-e062-11e8-81b5-001a7dda7111\", \"z\": [13.677, 13.226, 12.73, 12.475, 12.412, 12.227, 12.125, 12.118, 12.047, 11.94], \"y\": [4, 4, 4, 4, 4, 4, 4, 4, 4, 4], \"type\": \"scatter3d\", \"marker\": {\"color\": [13.677, 13.226, 12.73, 12.475, 12.412, 12.227, 12.125, 12.118, 12.047, 11.94], \"size\": 8}, \"line\": {\"color\": \"#1f77b4\", \"width\": 2}}, {\"x\": [6, 9, 12, 15, 18, 21, 24, 27, 30, 33], \"uid\": \"b06d44a4-e062-11e8-815a-001a7dda7111\", \"z\": [13.301, 12.725, 12.511, 12.263, 12.145, 12.053, 11.942, 11.914, 11.806, 11.718], \"y\": [5, 5, 5, 5, 5, 5, 5, 5, 5, 5], \"type\": \"scatter3d\", \"marker\": {\"color\": [13.301, 12.725, 12.511, 12.263, 12.145, 12.053, 11.942, 11.914, 11.806, 11.718], \"size\": 8}, \"line\": {\"color\": \"#1f77b4\", \"width\": 2}}, {\"colorscale\": \"Jet\", \"uid\": \"b06d44a5-e062-11e8-b15c-001a7dda7111\", \"z\": [[13.878, 13.878, 13.878, 13.878, 13.878, 13.878, 13.878, 13.878, 13.878, 13.878, 13.878, 13.878, 13.878, 13.878, 13.878, 13.878, 13.878, 13.878, 13.878, 13.878, 13.878, 13.878, 13.878, 13.878, 13.878, 13.878, 13.878, 13.878, 13.878, 13.878], [13.878, 13.878, 13.878, 13.878, 13.878, 13.878, 13.878, 13.878, 13.878, 13.878, 13.878, 13.878, 13.878, 13.878, 13.878, 13.878, 13.878, 13.878, 13.878, 13.878, 13.878, 13.878, 13.878, 13.878, 13.878, 13.878, 13.878, 13.878, 13.878, 13.878], [13.878, 13.878, 13.878, 13.878, 13.878, 13.878, 13.878, 13.878, 13.878, 13.878, 13.878, 13.878, 13.878, 13.878, 13.878, 13.878, 13.878, 13.878, 13.878, 13.878, 13.878, 13.878, 13.878, 13.878, 13.878, 13.878, 13.878, 13.878, 13.878, 13.878], [13.878, 13.878, 13.878, 13.878, 13.878, 13.878, 13.878, 13.878, 13.878, 13.878, 13.878, 13.878, 13.878, 13.878, 13.878, 13.878, 13.878, 13.878, 13.878, 13.878, 13.878, 13.878, 13.878, 13.878, 13.878, 13.878, 13.878, 13.878, 13.878, 13.878], [13.878, 13.878, 13.878, 13.878, 13.878, 13.878, 13.878, 13.878, 13.878, 13.878, 13.878, 13.878, 13.878, 13.878, 13.878, 13.878, 13.878, 13.878, 13.878, 13.878, 13.878, 13.878, 13.878, 13.878, 13.878, 13.878, 13.878, 13.878, 13.878, 13.878], [13.878, 13.878, 13.878, 13.878, 13.878, 13.878, 13.878, 13.878, 13.878, 13.878, 13.878, 13.878, 13.878, 13.878, 13.878, 13.878, 13.878, 13.878, 13.878, 13.878, 13.878, 13.878, 13.878, 13.878, 13.878, 13.878, 13.878, 13.878, 13.878, 13.878], [13.878, 13.878, 13.878, 13.878, 13.878, 13.878, 13.878, 13.878, 13.878, 13.878, 13.878, 13.878, 13.878, 13.878, 13.878, 13.878, 13.878, 13.878, 13.878, 13.878, 13.878, 13.878, 13.878, 13.878, 13.878, 13.878, 13.878, 13.878, 13.878, 13.878]], \"type\": \"surface\", \"opacity\": 0.7, \"showscale\": false}], {\"scene\": {\"yaxis\": {\"range\": [2, 6], \"zerolinecolor\": \"rgb(255, 255, 255)\", \"title\": \"Dense Layer Num (Y)\", \"nticks\": 5, \"backgroundcolor\": \"rgb(230, 200, 230)\", \"gridcolor\": \"rgb(255, 255, 255)\", \"showbackground\": true, \"titlefont\": {\"color\": \"#ff0000\", \"size\": 14}}, \"xaxis\": {\"zerolinecolor\": \"rgb(255, 255, 255)\", \"title\": \"Hidden Layer Dim (X)\", \"backgroundcolor\": \"rgb(200, 200, 230)\", \"gridcolor\": \"rgb(255, 255, 255)\", \"showbackground\": true, \"titlefont\": {\"color\": \"#ff0000\", \"size\": 14}}, \"zaxis\": {\"zerolinecolor\": \"rgb(255, 255, 255)\", \"title\": \"Avg Diff (Z)\", \"backgroundcolor\": \"rgb(230, 230, 200)\", \"gridcolor\": \"rgb(255, 255, 255)\", \"showbackground\": true, \"titlefont\": {\"color\": \"#ff0000\", \"size\": 10}}}, \"title\": \"iPadtoS8 Model Varient (Exp. 66-68) (Test By Generated Set)\", \"width\": 800, \"height\": 700}, {\"showLink\": true, \"linkText\": \"Export to plot.ly\"})});</script>"
      ],
      "text/vnd.plotly.v1+html": [
       "<div id=\"ad8e8aeb-f6cc-4788-82c5-710790b88add\" style=\"height: 700px; width: 800px;\" class=\"plotly-graph-div\"></div><script type=\"text/javascript\">require([\"plotly\"], function(Plotly) { window.PLOTLYENV=window.PLOTLYENV || {};window.PLOTLYENV.BASE_URL=\"https://plot.ly\";Plotly.newPlot(\"ad8e8aeb-f6cc-4788-82c5-710790b88add\", [{\"x\": [6, 9, 12, 15, 18, 21, 24, 27, 30, 33], \"uid\": \"b06d44a2-e062-11e8-bded-001a7dda7111\", \"z\": [13.933, 13.595, 13.303, 13.261, 13.008, 12.902, 12.621, 12.678, 12.58, 12.384], \"y\": [3, 3, 3, 3, 3, 3, 3, 3, 3, 3], \"type\": \"scatter3d\", \"marker\": {\"color\": [13.933, 13.595, 13.303, 13.261, 13.008, 12.902, 12.621, 12.678, 12.58, 12.384], \"size\": 8}, \"line\": {\"color\": \"#1f77b4\", \"width\": 2}}, {\"x\": [6, 9, 12, 15, 18, 21, 24, 27, 30, 33], \"uid\": \"b06d44a3-e062-11e8-81b5-001a7dda7111\", \"z\": [13.677, 13.226, 12.73, 12.475, 12.412, 12.227, 12.125, 12.118, 12.047, 11.94], \"y\": [4, 4, 4, 4, 4, 4, 4, 4, 4, 4], \"type\": \"scatter3d\", \"marker\": {\"color\": [13.677, 13.226, 12.73, 12.475, 12.412, 12.227, 12.125, 12.118, 12.047, 11.94], \"size\": 8}, \"line\": {\"color\": \"#1f77b4\", \"width\": 2}}, {\"x\": [6, 9, 12, 15, 18, 21, 24, 27, 30, 33], \"uid\": \"b06d44a4-e062-11e8-815a-001a7dda7111\", \"z\": [13.301, 12.725, 12.511, 12.263, 12.145, 12.053, 11.942, 11.914, 11.806, 11.718], \"y\": [5, 5, 5, 5, 5, 5, 5, 5, 5, 5], \"type\": \"scatter3d\", \"marker\": {\"color\": [13.301, 12.725, 12.511, 12.263, 12.145, 12.053, 11.942, 11.914, 11.806, 11.718], \"size\": 8}, \"line\": {\"color\": \"#1f77b4\", \"width\": 2}}, {\"colorscale\": \"Jet\", \"uid\": \"b06d44a5-e062-11e8-b15c-001a7dda7111\", \"z\": [[13.878, 13.878, 13.878, 13.878, 13.878, 13.878, 13.878, 13.878, 13.878, 13.878, 13.878, 13.878, 13.878, 13.878, 13.878, 13.878, 13.878, 13.878, 13.878, 13.878, 13.878, 13.878, 13.878, 13.878, 13.878, 13.878, 13.878, 13.878, 13.878, 13.878], [13.878, 13.878, 13.878, 13.878, 13.878, 13.878, 13.878, 13.878, 13.878, 13.878, 13.878, 13.878, 13.878, 13.878, 13.878, 13.878, 13.878, 13.878, 13.878, 13.878, 13.878, 13.878, 13.878, 13.878, 13.878, 13.878, 13.878, 13.878, 13.878, 13.878], [13.878, 13.878, 13.878, 13.878, 13.878, 13.878, 13.878, 13.878, 13.878, 13.878, 13.878, 13.878, 13.878, 13.878, 13.878, 13.878, 13.878, 13.878, 13.878, 13.878, 13.878, 13.878, 13.878, 13.878, 13.878, 13.878, 13.878, 13.878, 13.878, 13.878], [13.878, 13.878, 13.878, 13.878, 13.878, 13.878, 13.878, 13.878, 13.878, 13.878, 13.878, 13.878, 13.878, 13.878, 13.878, 13.878, 13.878, 13.878, 13.878, 13.878, 13.878, 13.878, 13.878, 13.878, 13.878, 13.878, 13.878, 13.878, 13.878, 13.878], [13.878, 13.878, 13.878, 13.878, 13.878, 13.878, 13.878, 13.878, 13.878, 13.878, 13.878, 13.878, 13.878, 13.878, 13.878, 13.878, 13.878, 13.878, 13.878, 13.878, 13.878, 13.878, 13.878, 13.878, 13.878, 13.878, 13.878, 13.878, 13.878, 13.878], [13.878, 13.878, 13.878, 13.878, 13.878, 13.878, 13.878, 13.878, 13.878, 13.878, 13.878, 13.878, 13.878, 13.878, 13.878, 13.878, 13.878, 13.878, 13.878, 13.878, 13.878, 13.878, 13.878, 13.878, 13.878, 13.878, 13.878, 13.878, 13.878, 13.878], [13.878, 13.878, 13.878, 13.878, 13.878, 13.878, 13.878, 13.878, 13.878, 13.878, 13.878, 13.878, 13.878, 13.878, 13.878, 13.878, 13.878, 13.878, 13.878, 13.878, 13.878, 13.878, 13.878, 13.878, 13.878, 13.878, 13.878, 13.878, 13.878, 13.878]], \"type\": \"surface\", \"opacity\": 0.7, \"showscale\": false}], {\"scene\": {\"yaxis\": {\"range\": [2, 6], \"zerolinecolor\": \"rgb(255, 255, 255)\", \"title\": \"Dense Layer Num (Y)\", \"nticks\": 5, \"backgroundcolor\": \"rgb(230, 200, 230)\", \"gridcolor\": \"rgb(255, 255, 255)\", \"showbackground\": true, \"titlefont\": {\"color\": \"#ff0000\", \"size\": 14}}, \"xaxis\": {\"zerolinecolor\": \"rgb(255, 255, 255)\", \"title\": \"Hidden Layer Dim (X)\", \"backgroundcolor\": \"rgb(200, 200, 230)\", \"gridcolor\": \"rgb(255, 255, 255)\", \"showbackground\": true, \"titlefont\": {\"color\": \"#ff0000\", \"size\": 14}}, \"zaxis\": {\"zerolinecolor\": \"rgb(255, 255, 255)\", \"title\": \"Avg Diff (Z)\", \"backgroundcolor\": \"rgb(230, 230, 200)\", \"gridcolor\": \"rgb(255, 255, 255)\", \"showbackground\": true, \"titlefont\": {\"color\": \"#ff0000\", \"size\": 10}}}, \"title\": \"iPadtoS8 Model Varient (Exp. 66-68) (Test By Generated Set)\", \"width\": 800, \"height\": 700}, {\"showLink\": true, \"linkText\": \"Export to plot.ly\"})});</script>"
      ]
     },
     "metadata": {},
     "output_type": "display_data"
    }
   ],
   "source": [
    "trace = go.Scatter3d(\n",
    "    x=x1, y=y1, z=z1,\n",
    "    marker=dict(\n",
    "        size=8,\n",
    "        color=z1\n",
    "    ),\n",
    "    line=dict(\n",
    "        color='#1f77b4',\n",
    "        width=2\n",
    "    )\n",
    ")\n",
    "\n",
    "trace2 = go.Scatter3d(\n",
    "    x=x2, y=y2, z=z2,\n",
    "    marker=dict(\n",
    "        size=8,\n",
    "        color=z2\n",
    "    ),\n",
    "    line=dict(\n",
    "        color='#1f77b4',\n",
    "        width=2\n",
    "    )\n",
    ")\n",
    "\n",
    "trace3 = go.Scatter3d(\n",
    "    x=x3, y=y3, z=z3,\n",
    "    marker=dict(\n",
    "        size=8,\n",
    "        color=z3\n",
    "    ),\n",
    "    line=dict(\n",
    "        color='#1f77b4',\n",
    "        width=2\n",
    "    )\n",
    ")\n",
    "\n",
    "trace4 = go.Surface(\n",
    "    z=polyfit_list,\n",
    "    opacity=0.7,\n",
    "    colorscale='Jet',\n",
    "    showscale=False\n",
    ")\n",
    "\n",
    "data = [trace, trace2, trace3, trace4]\n",
    "layout = go.Layout(\n",
    "    width=800,\n",
    "    height=700,\n",
    "    title= title,\n",
    "    scene=dict(\n",
    "        xaxis=dict(\n",
    "            title='Hidden Layer Dim (X)',\n",
    "            titlefont=dict(\n",
    "                size=14,\n",
    "                color='#ff0000'\n",
    "            ),\n",
    "            gridcolor='rgb(255, 255, 255)',\n",
    "            zerolinecolor='rgb(255, 255, 255)',\n",
    "            showbackground=True,\n",
    "            backgroundcolor='rgb(200, 200, 230)'\n",
    "        ),\n",
    "        yaxis=dict(\n",
    "            nticks = 5,\n",
    "            range = [2, 6],\n",
    "            title='Dense Layer Num (Y)',\n",
    "            titlefont=dict(\n",
    "                size=14,\n",
    "                color='#ff0000'\n",
    "            ),\n",
    "            gridcolor='rgb(255, 255, 255)',\n",
    "            zerolinecolor='rgb(255, 255, 255)',\n",
    "            showbackground=True,\n",
    "            backgroundcolor='rgb(230, 200, 230)'\n",
    "        ),\n",
    "        zaxis=dict(\n",
    "            title='Avg Diff (Z)',\n",
    "            titlefont=dict(\n",
    "                size=10,\n",
    "                color='#ff0000'\n",
    "            ),\n",
    "            gridcolor='rgb(255, 255, 255)',\n",
    "            zerolinecolor='rgb(255, 255, 255)',\n",
    "            showbackground=True,\n",
    "            backgroundcolor='rgb(230, 230, 200)'\n",
    "        ),\n",
    "    )\n",
    ")\n",
    "\n",
    "fig = go.Figure(data=data, layout=layout)\n",
    "plotly.offline.iplot(fig)"
   ]
  },
  {
   "cell_type": "code",
   "execution_count": null,
   "metadata": {},
   "outputs": [],
   "source": []
  },
  {
   "cell_type": "code",
   "execution_count": 9,
   "metadata": {},
   "outputs": [
    {
     "data": {
      "text/plain": [
       "'file://C:\\\\Users\\\\Mig\\\\Documents\\\\Plotly-Practice\\\\experiment66-68-GeneratedSet.html'"
      ]
     },
     "execution_count": 9,
     "metadata": {},
     "output_type": "execute_result"
    }
   ],
   "source": [
    "plotly.offline.plot(fig, filename=filename)"
   ]
  },
  {
   "cell_type": "code",
   "execution_count": null,
   "metadata": {},
   "outputs": [],
   "source": []
  }
 ],
 "metadata": {
  "kernelspec": {
   "display_name": "Python 3",
   "language": "python",
   "name": "python3"
  },
  "language_info": {
   "codemirror_mode": {
    "name": "ipython",
    "version": 3
   },
   "file_extension": ".py",
   "mimetype": "text/x-python",
   "name": "python",
   "nbconvert_exporter": "python",
   "pygments_lexer": "ipython3",
   "version": "3.5.6"
  }
 },
 "nbformat": 4,
 "nbformat_minor": 2
}
