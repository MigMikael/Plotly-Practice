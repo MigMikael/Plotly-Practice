{
 "cells": [
  {
   "cell_type": "code",
   "execution_count": 1,
   "metadata": {},
   "outputs": [],
   "source": [
    "title = \"S8toiPad Model Varient (Exp. 69-71) (Test By Generated Set)\"\n",
    "filename = 'experiment69-71-GeneratedSet.html'\n",
    "polyfit_diff = 12.681\n",
    "\n",
    "hidden_layer = [6, 9, 12, 15, 18, 21, 24, 27, 30, 33]"
   ]
  },
  {
   "cell_type": "code",
   "execution_count": 2,
   "metadata": {},
   "outputs": [],
   "source": [
    "# 3 Dense Layer \n",
    "z1 = [12.885, 12.795, 12.417, 12.315, 11.85, 11.946, 11.823, 11.86, 11.696, 11.683]\n",
    "\n",
    "# 4 Dense Layer \n",
    "z2 = [12.713, 12.617, 11.951, 11.668, 11.526, 11.476, 11.283, 11.239, 11.176, 11.147]\n",
    "\n",
    "# 5 Dense Layer \n",
    "z3 = [12.57, 12.054, 11.675, 11.461, 11.321, 11.187, 11.145, 11.113, 11.031, 10.961]"
   ]
  },
  {
   "cell_type": "code",
   "execution_count": 3,
   "metadata": {},
   "outputs": [
    {
     "data": {
      "text/html": [
       "<script>requirejs.config({paths: { 'plotly': ['https://cdn.plot.ly/plotly-latest.min']},});if(!window.Plotly) {{require(['plotly'],function(plotly) {window.Plotly=plotly;});}}</script>"
      ],
      "text/vnd.plotly.v1+html": [
       "<script>requirejs.config({paths: { 'plotly': ['https://cdn.plot.ly/plotly-latest.min']},});if(!window.Plotly) {{require(['plotly'],function(plotly) {window.Plotly=plotly;});}}</script>"
      ]
     },
     "metadata": {},
     "output_type": "display_data"
    }
   ],
   "source": [
    "import plotly\n",
    "from plotly.offline import download_plotlyjs, init_notebook_mode, plot, iplot\n",
    "import plotly.graph_objs as go\n",
    "import pandas as pd\n",
    "import numpy as np\n",
    "\n",
    "init_notebook_mode(connected=True)\n",
    "# print(plotly.__version__) "
   ]
  },
  {
   "cell_type": "code",
   "execution_count": 4,
   "metadata": {},
   "outputs": [
    {
     "name": "stdout",
     "output_type": "stream",
     "text": [
      "6     12.885\n",
      "9     12.795\n",
      "12    12.417\n",
      "15    12.315\n",
      "18    11.850\n",
      "21    11.946\n",
      "24    11.823\n",
      "27    11.860\n",
      "30    11.696\n",
      "33    11.683\n",
      "dtype: float64\n"
     ]
    }
   ],
   "source": [
    "# 3 Dense Layer \n",
    "x1 = hidden_layer\n",
    "y1 = [3] * 10\n",
    "y1 = pd.Series(y1, index=x1)\n",
    "#print(y1)\n",
    "z1 = pd.Series(z1, index=x1)\n",
    "print(z1)"
   ]
  },
  {
   "cell_type": "code",
   "execution_count": 5,
   "metadata": {},
   "outputs": [
    {
     "name": "stdout",
     "output_type": "stream",
     "text": [
      "6     12.713\n",
      "9     12.617\n",
      "12    11.951\n",
      "15    11.668\n",
      "18    11.526\n",
      "21    11.476\n",
      "24    11.283\n",
      "27    11.239\n",
      "30    11.176\n",
      "33    11.147\n",
      "dtype: float64\n"
     ]
    }
   ],
   "source": [
    "# 4 Dense Layer\n",
    "x2 = hidden_layer\n",
    "y2 = [4] * 10\n",
    "y2 = pd.Series(y2, index=x2)\n",
    "#print(y2)\n",
    "z2 = pd.Series(z2, index=x2)\n",
    "print(z2)"
   ]
  },
  {
   "cell_type": "code",
   "execution_count": 6,
   "metadata": {},
   "outputs": [
    {
     "name": "stdout",
     "output_type": "stream",
     "text": [
      "6     12.570\n",
      "9     12.054\n",
      "12    11.675\n",
      "15    11.461\n",
      "18    11.321\n",
      "21    11.187\n",
      "24    11.145\n",
      "27    11.113\n",
      "30    11.031\n",
      "33    10.961\n",
      "dtype: float64\n"
     ]
    }
   ],
   "source": [
    "# 5 Dense Layer\n",
    "x3 = hidden_layer\n",
    "y3 = [5] * 10\n",
    "y3 = pd.Series(y3, index=x3)\n",
    "#print(y3)\n",
    "z3 = pd.Series(z3, index=x3)\n",
    "print(z3)"
   ]
  },
  {
   "cell_type": "code",
   "execution_count": 7,
   "metadata": {},
   "outputs": [],
   "source": [
    "polyfit = polyfit_diff\n",
    "polyfit_list = [[polyfit_diff] * 30] * 7\n",
    "#print(polyfit_list)"
   ]
  },
  {
   "cell_type": "code",
   "execution_count": 8,
   "metadata": {},
   "outputs": [
    {
     "data": {
      "application/vnd.plotly.v1+json": {
       "data": [
        {
         "line": {
          "color": "#1f77b4",
          "width": 2
         },
         "marker": {
          "color": [
           12.885,
           12.795,
           12.417,
           12.315,
           11.85,
           11.946,
           11.823,
           11.86,
           11.696,
           11.683
          ],
          "size": 8
         },
         "type": "scatter3d",
         "uid": "ed3d39fa-e065-11e8-9232-001a7dda7111",
         "x": [
          6,
          9,
          12,
          15,
          18,
          21,
          24,
          27,
          30,
          33
         ],
         "y": [
          3,
          3,
          3,
          3,
          3,
          3,
          3,
          3,
          3,
          3
         ],
         "z": [
          12.885,
          12.795,
          12.417,
          12.315,
          11.85,
          11.946,
          11.823,
          11.86,
          11.696,
          11.683
         ]
        },
        {
         "line": {
          "color": "#1f77b4",
          "width": 2
         },
         "marker": {
          "color": [
           12.713,
           12.617,
           11.951,
           11.668,
           11.526,
           11.476,
           11.283,
           11.239,
           11.176,
           11.147
          ],
          "size": 8
         },
         "type": "scatter3d",
         "uid": "ed3d39fb-e065-11e8-b550-001a7dda7111",
         "x": [
          6,
          9,
          12,
          15,
          18,
          21,
          24,
          27,
          30,
          33
         ],
         "y": [
          4,
          4,
          4,
          4,
          4,
          4,
          4,
          4,
          4,
          4
         ],
         "z": [
          12.713,
          12.617,
          11.951,
          11.668,
          11.526,
          11.476,
          11.283,
          11.239,
          11.176,
          11.147
         ]
        },
        {
         "line": {
          "color": "#1f77b4",
          "width": 2
         },
         "marker": {
          "color": [
           12.57,
           12.054,
           11.675,
           11.461,
           11.321,
           11.187,
           11.145,
           11.113,
           11.031,
           10.961
          ],
          "size": 8
         },
         "type": "scatter3d",
         "uid": "ed3d39fc-e065-11e8-a4d1-001a7dda7111",
         "x": [
          6,
          9,
          12,
          15,
          18,
          21,
          24,
          27,
          30,
          33
         ],
         "y": [
          5,
          5,
          5,
          5,
          5,
          5,
          5,
          5,
          5,
          5
         ],
         "z": [
          12.57,
          12.054,
          11.675,
          11.461,
          11.321,
          11.187,
          11.145,
          11.113,
          11.031,
          10.961
         ]
        },
        {
         "colorscale": "Jet",
         "opacity": 0.7,
         "showscale": false,
         "type": "surface",
         "uid": "ed3d39fd-e065-11e8-8383-001a7dda7111",
         "z": [
          [
           12.681,
           12.681,
           12.681,
           12.681,
           12.681,
           12.681,
           12.681,
           12.681,
           12.681,
           12.681,
           12.681,
           12.681,
           12.681,
           12.681,
           12.681,
           12.681,
           12.681,
           12.681,
           12.681,
           12.681,
           12.681,
           12.681,
           12.681,
           12.681,
           12.681,
           12.681,
           12.681,
           12.681,
           12.681,
           12.681
          ],
          [
           12.681,
           12.681,
           12.681,
           12.681,
           12.681,
           12.681,
           12.681,
           12.681,
           12.681,
           12.681,
           12.681,
           12.681,
           12.681,
           12.681,
           12.681,
           12.681,
           12.681,
           12.681,
           12.681,
           12.681,
           12.681,
           12.681,
           12.681,
           12.681,
           12.681,
           12.681,
           12.681,
           12.681,
           12.681,
           12.681
          ],
          [
           12.681,
           12.681,
           12.681,
           12.681,
           12.681,
           12.681,
           12.681,
           12.681,
           12.681,
           12.681,
           12.681,
           12.681,
           12.681,
           12.681,
           12.681,
           12.681,
           12.681,
           12.681,
           12.681,
           12.681,
           12.681,
           12.681,
           12.681,
           12.681,
           12.681,
           12.681,
           12.681,
           12.681,
           12.681,
           12.681
          ],
          [
           12.681,
           12.681,
           12.681,
           12.681,
           12.681,
           12.681,
           12.681,
           12.681,
           12.681,
           12.681,
           12.681,
           12.681,
           12.681,
           12.681,
           12.681,
           12.681,
           12.681,
           12.681,
           12.681,
           12.681,
           12.681,
           12.681,
           12.681,
           12.681,
           12.681,
           12.681,
           12.681,
           12.681,
           12.681,
           12.681
          ],
          [
           12.681,
           12.681,
           12.681,
           12.681,
           12.681,
           12.681,
           12.681,
           12.681,
           12.681,
           12.681,
           12.681,
           12.681,
           12.681,
           12.681,
           12.681,
           12.681,
           12.681,
           12.681,
           12.681,
           12.681,
           12.681,
           12.681,
           12.681,
           12.681,
           12.681,
           12.681,
           12.681,
           12.681,
           12.681,
           12.681
          ],
          [
           12.681,
           12.681,
           12.681,
           12.681,
           12.681,
           12.681,
           12.681,
           12.681,
           12.681,
           12.681,
           12.681,
           12.681,
           12.681,
           12.681,
           12.681,
           12.681,
           12.681,
           12.681,
           12.681,
           12.681,
           12.681,
           12.681,
           12.681,
           12.681,
           12.681,
           12.681,
           12.681,
           12.681,
           12.681,
           12.681
          ],
          [
           12.681,
           12.681,
           12.681,
           12.681,
           12.681,
           12.681,
           12.681,
           12.681,
           12.681,
           12.681,
           12.681,
           12.681,
           12.681,
           12.681,
           12.681,
           12.681,
           12.681,
           12.681,
           12.681,
           12.681,
           12.681,
           12.681,
           12.681,
           12.681,
           12.681,
           12.681,
           12.681,
           12.681,
           12.681,
           12.681
          ]
         ]
        }
       ],
       "layout": {
        "height": 700,
        "scene": {
         "xaxis": {
          "backgroundcolor": "rgb(200, 200, 230)",
          "gridcolor": "rgb(255, 255, 255)",
          "showbackground": true,
          "title": "Hidden Layer Dim (X)",
          "titlefont": {
           "color": "#ff0000",
           "size": 14
          },
          "zerolinecolor": "rgb(255, 255, 255)"
         },
         "yaxis": {
          "backgroundcolor": "rgb(230, 200, 230)",
          "gridcolor": "rgb(255, 255, 255)",
          "nticks": 5,
          "range": [
           2,
           6
          ],
          "showbackground": true,
          "title": "Dense Layer Num (Y)",
          "titlefont": {
           "color": "#ff0000",
           "size": 14
          },
          "zerolinecolor": "rgb(255, 255, 255)"
         },
         "zaxis": {
          "backgroundcolor": "rgb(230, 230, 200)",
          "gridcolor": "rgb(255, 255, 255)",
          "showbackground": true,
          "title": "Avg Diff (Z)",
          "titlefont": {
           "color": "#ff0000",
           "size": 10
          },
          "zerolinecolor": "rgb(255, 255, 255)"
         }
        },
        "title": "S8toiPad Model Varient (Exp. 69-71) (Test By Generated Set)",
        "width": 800
       }
      },
      "text/html": [
       "<div id=\"b0e293f4-6399-4d6a-aef7-7ac3921f463b\" style=\"height: 700px; width: 800px;\" class=\"plotly-graph-div\"></div><script type=\"text/javascript\">require([\"plotly\"], function(Plotly) { window.PLOTLYENV=window.PLOTLYENV || {};window.PLOTLYENV.BASE_URL=\"https://plot.ly\";Plotly.newPlot(\"b0e293f4-6399-4d6a-aef7-7ac3921f463b\", [{\"marker\": {\"size\": 8, \"color\": [12.885, 12.795, 12.417, 12.315, 11.85, 11.946, 11.823, 11.86, 11.696, 11.683]}, \"type\": \"scatter3d\", \"uid\": \"ed3d39fa-e065-11e8-9232-001a7dda7111\", \"z\": [12.885, 12.795, 12.417, 12.315, 11.85, 11.946, 11.823, 11.86, 11.696, 11.683], \"x\": [6, 9, 12, 15, 18, 21, 24, 27, 30, 33], \"line\": {\"width\": 2, \"color\": \"#1f77b4\"}, \"y\": [3, 3, 3, 3, 3, 3, 3, 3, 3, 3]}, {\"marker\": {\"size\": 8, \"color\": [12.713, 12.617, 11.951, 11.668, 11.526, 11.476, 11.283, 11.239, 11.176, 11.147]}, \"type\": \"scatter3d\", \"uid\": \"ed3d39fb-e065-11e8-b550-001a7dda7111\", \"z\": [12.713, 12.617, 11.951, 11.668, 11.526, 11.476, 11.283, 11.239, 11.176, 11.147], \"x\": [6, 9, 12, 15, 18, 21, 24, 27, 30, 33], \"line\": {\"width\": 2, \"color\": \"#1f77b4\"}, \"y\": [4, 4, 4, 4, 4, 4, 4, 4, 4, 4]}, {\"marker\": {\"size\": 8, \"color\": [12.57, 12.054, 11.675, 11.461, 11.321, 11.187, 11.145, 11.113, 11.031, 10.961]}, \"type\": \"scatter3d\", \"uid\": \"ed3d39fc-e065-11e8-a4d1-001a7dda7111\", \"z\": [12.57, 12.054, 11.675, 11.461, 11.321, 11.187, 11.145, 11.113, 11.031, 10.961], \"x\": [6, 9, 12, 15, 18, 21, 24, 27, 30, 33], \"line\": {\"width\": 2, \"color\": \"#1f77b4\"}, \"y\": [5, 5, 5, 5, 5, 5, 5, 5, 5, 5]}, {\"type\": \"surface\", \"uid\": \"ed3d39fd-e065-11e8-8383-001a7dda7111\", \"colorscale\": \"Jet\", \"opacity\": 0.7, \"z\": [[12.681, 12.681, 12.681, 12.681, 12.681, 12.681, 12.681, 12.681, 12.681, 12.681, 12.681, 12.681, 12.681, 12.681, 12.681, 12.681, 12.681, 12.681, 12.681, 12.681, 12.681, 12.681, 12.681, 12.681, 12.681, 12.681, 12.681, 12.681, 12.681, 12.681], [12.681, 12.681, 12.681, 12.681, 12.681, 12.681, 12.681, 12.681, 12.681, 12.681, 12.681, 12.681, 12.681, 12.681, 12.681, 12.681, 12.681, 12.681, 12.681, 12.681, 12.681, 12.681, 12.681, 12.681, 12.681, 12.681, 12.681, 12.681, 12.681, 12.681], [12.681, 12.681, 12.681, 12.681, 12.681, 12.681, 12.681, 12.681, 12.681, 12.681, 12.681, 12.681, 12.681, 12.681, 12.681, 12.681, 12.681, 12.681, 12.681, 12.681, 12.681, 12.681, 12.681, 12.681, 12.681, 12.681, 12.681, 12.681, 12.681, 12.681], [12.681, 12.681, 12.681, 12.681, 12.681, 12.681, 12.681, 12.681, 12.681, 12.681, 12.681, 12.681, 12.681, 12.681, 12.681, 12.681, 12.681, 12.681, 12.681, 12.681, 12.681, 12.681, 12.681, 12.681, 12.681, 12.681, 12.681, 12.681, 12.681, 12.681], [12.681, 12.681, 12.681, 12.681, 12.681, 12.681, 12.681, 12.681, 12.681, 12.681, 12.681, 12.681, 12.681, 12.681, 12.681, 12.681, 12.681, 12.681, 12.681, 12.681, 12.681, 12.681, 12.681, 12.681, 12.681, 12.681, 12.681, 12.681, 12.681, 12.681], [12.681, 12.681, 12.681, 12.681, 12.681, 12.681, 12.681, 12.681, 12.681, 12.681, 12.681, 12.681, 12.681, 12.681, 12.681, 12.681, 12.681, 12.681, 12.681, 12.681, 12.681, 12.681, 12.681, 12.681, 12.681, 12.681, 12.681, 12.681, 12.681, 12.681], [12.681, 12.681, 12.681, 12.681, 12.681, 12.681, 12.681, 12.681, 12.681, 12.681, 12.681, 12.681, 12.681, 12.681, 12.681, 12.681, 12.681, 12.681, 12.681, 12.681, 12.681, 12.681, 12.681, 12.681, 12.681, 12.681, 12.681, 12.681, 12.681, 12.681]], \"showscale\": false}], {\"width\": 800, \"height\": 700, \"scene\": {\"yaxis\": {\"titlefont\": {\"size\": 14, \"color\": \"#ff0000\"}, \"gridcolor\": \"rgb(255, 255, 255)\", \"zerolinecolor\": \"rgb(255, 255, 255)\", \"backgroundcolor\": \"rgb(230, 200, 230)\", \"range\": [2, 6], \"nticks\": 5, \"showbackground\": true, \"title\": \"Dense Layer Num (Y)\"}, \"zaxis\": {\"titlefont\": {\"size\": 10, \"color\": \"#ff0000\"}, \"gridcolor\": \"rgb(255, 255, 255)\", \"zerolinecolor\": \"rgb(255, 255, 255)\", \"backgroundcolor\": \"rgb(230, 230, 200)\", \"showbackground\": true, \"title\": \"Avg Diff (Z)\"}, \"xaxis\": {\"titlefont\": {\"size\": 14, \"color\": \"#ff0000\"}, \"gridcolor\": \"rgb(255, 255, 255)\", \"zerolinecolor\": \"rgb(255, 255, 255)\", \"backgroundcolor\": \"rgb(200, 200, 230)\", \"showbackground\": true, \"title\": \"Hidden Layer Dim (X)\"}}, \"title\": \"S8toiPad Model Varient (Exp. 69-71) (Test By Generated Set)\"}, {\"linkText\": \"Export to plot.ly\", \"showLink\": true})});</script>"
      ],
      "text/vnd.plotly.v1+html": [
       "<div id=\"b0e293f4-6399-4d6a-aef7-7ac3921f463b\" style=\"height: 700px; width: 800px;\" class=\"plotly-graph-div\"></div><script type=\"text/javascript\">require([\"plotly\"], function(Plotly) { window.PLOTLYENV=window.PLOTLYENV || {};window.PLOTLYENV.BASE_URL=\"https://plot.ly\";Plotly.newPlot(\"b0e293f4-6399-4d6a-aef7-7ac3921f463b\", [{\"marker\": {\"size\": 8, \"color\": [12.885, 12.795, 12.417, 12.315, 11.85, 11.946, 11.823, 11.86, 11.696, 11.683]}, \"type\": \"scatter3d\", \"uid\": \"ed3d39fa-e065-11e8-9232-001a7dda7111\", \"z\": [12.885, 12.795, 12.417, 12.315, 11.85, 11.946, 11.823, 11.86, 11.696, 11.683], \"x\": [6, 9, 12, 15, 18, 21, 24, 27, 30, 33], \"line\": {\"width\": 2, \"color\": \"#1f77b4\"}, \"y\": [3, 3, 3, 3, 3, 3, 3, 3, 3, 3]}, {\"marker\": {\"size\": 8, \"color\": [12.713, 12.617, 11.951, 11.668, 11.526, 11.476, 11.283, 11.239, 11.176, 11.147]}, \"type\": \"scatter3d\", \"uid\": \"ed3d39fb-e065-11e8-b550-001a7dda7111\", \"z\": [12.713, 12.617, 11.951, 11.668, 11.526, 11.476, 11.283, 11.239, 11.176, 11.147], \"x\": [6, 9, 12, 15, 18, 21, 24, 27, 30, 33], \"line\": {\"width\": 2, \"color\": \"#1f77b4\"}, \"y\": [4, 4, 4, 4, 4, 4, 4, 4, 4, 4]}, {\"marker\": {\"size\": 8, \"color\": [12.57, 12.054, 11.675, 11.461, 11.321, 11.187, 11.145, 11.113, 11.031, 10.961]}, \"type\": \"scatter3d\", \"uid\": \"ed3d39fc-e065-11e8-a4d1-001a7dda7111\", \"z\": [12.57, 12.054, 11.675, 11.461, 11.321, 11.187, 11.145, 11.113, 11.031, 10.961], \"x\": [6, 9, 12, 15, 18, 21, 24, 27, 30, 33], \"line\": {\"width\": 2, \"color\": \"#1f77b4\"}, \"y\": [5, 5, 5, 5, 5, 5, 5, 5, 5, 5]}, {\"type\": \"surface\", \"uid\": \"ed3d39fd-e065-11e8-8383-001a7dda7111\", \"colorscale\": \"Jet\", \"opacity\": 0.7, \"z\": [[12.681, 12.681, 12.681, 12.681, 12.681, 12.681, 12.681, 12.681, 12.681, 12.681, 12.681, 12.681, 12.681, 12.681, 12.681, 12.681, 12.681, 12.681, 12.681, 12.681, 12.681, 12.681, 12.681, 12.681, 12.681, 12.681, 12.681, 12.681, 12.681, 12.681], [12.681, 12.681, 12.681, 12.681, 12.681, 12.681, 12.681, 12.681, 12.681, 12.681, 12.681, 12.681, 12.681, 12.681, 12.681, 12.681, 12.681, 12.681, 12.681, 12.681, 12.681, 12.681, 12.681, 12.681, 12.681, 12.681, 12.681, 12.681, 12.681, 12.681], [12.681, 12.681, 12.681, 12.681, 12.681, 12.681, 12.681, 12.681, 12.681, 12.681, 12.681, 12.681, 12.681, 12.681, 12.681, 12.681, 12.681, 12.681, 12.681, 12.681, 12.681, 12.681, 12.681, 12.681, 12.681, 12.681, 12.681, 12.681, 12.681, 12.681], [12.681, 12.681, 12.681, 12.681, 12.681, 12.681, 12.681, 12.681, 12.681, 12.681, 12.681, 12.681, 12.681, 12.681, 12.681, 12.681, 12.681, 12.681, 12.681, 12.681, 12.681, 12.681, 12.681, 12.681, 12.681, 12.681, 12.681, 12.681, 12.681, 12.681], [12.681, 12.681, 12.681, 12.681, 12.681, 12.681, 12.681, 12.681, 12.681, 12.681, 12.681, 12.681, 12.681, 12.681, 12.681, 12.681, 12.681, 12.681, 12.681, 12.681, 12.681, 12.681, 12.681, 12.681, 12.681, 12.681, 12.681, 12.681, 12.681, 12.681], [12.681, 12.681, 12.681, 12.681, 12.681, 12.681, 12.681, 12.681, 12.681, 12.681, 12.681, 12.681, 12.681, 12.681, 12.681, 12.681, 12.681, 12.681, 12.681, 12.681, 12.681, 12.681, 12.681, 12.681, 12.681, 12.681, 12.681, 12.681, 12.681, 12.681], [12.681, 12.681, 12.681, 12.681, 12.681, 12.681, 12.681, 12.681, 12.681, 12.681, 12.681, 12.681, 12.681, 12.681, 12.681, 12.681, 12.681, 12.681, 12.681, 12.681, 12.681, 12.681, 12.681, 12.681, 12.681, 12.681, 12.681, 12.681, 12.681, 12.681]], \"showscale\": false}], {\"width\": 800, \"height\": 700, \"scene\": {\"yaxis\": {\"titlefont\": {\"size\": 14, \"color\": \"#ff0000\"}, \"gridcolor\": \"rgb(255, 255, 255)\", \"zerolinecolor\": \"rgb(255, 255, 255)\", \"backgroundcolor\": \"rgb(230, 200, 230)\", \"range\": [2, 6], \"nticks\": 5, \"showbackground\": true, \"title\": \"Dense Layer Num (Y)\"}, \"zaxis\": {\"titlefont\": {\"size\": 10, \"color\": \"#ff0000\"}, \"gridcolor\": \"rgb(255, 255, 255)\", \"zerolinecolor\": \"rgb(255, 255, 255)\", \"backgroundcolor\": \"rgb(230, 230, 200)\", \"showbackground\": true, \"title\": \"Avg Diff (Z)\"}, \"xaxis\": {\"titlefont\": {\"size\": 14, \"color\": \"#ff0000\"}, \"gridcolor\": \"rgb(255, 255, 255)\", \"zerolinecolor\": \"rgb(255, 255, 255)\", \"backgroundcolor\": \"rgb(200, 200, 230)\", \"showbackground\": true, \"title\": \"Hidden Layer Dim (X)\"}}, \"title\": \"S8toiPad Model Varient (Exp. 69-71) (Test By Generated Set)\"}, {\"linkText\": \"Export to plot.ly\", \"showLink\": true})});</script>"
      ]
     },
     "metadata": {},
     "output_type": "display_data"
    }
   ],
   "source": [
    "trace = go.Scatter3d(\n",
    "    x=x1, y=y1, z=z1,\n",
    "    marker=dict(\n",
    "        size=8,\n",
    "        color=z1\n",
    "    ),\n",
    "    line=dict(\n",
    "        color='#1f77b4',\n",
    "        width=2\n",
    "    )\n",
    ")\n",
    "\n",
    "trace2 = go.Scatter3d(\n",
    "    x=x2, y=y2, z=z2,\n",
    "    marker=dict(\n",
    "        size=8,\n",
    "        color=z2\n",
    "    ),\n",
    "    line=dict(\n",
    "        color='#1f77b4',\n",
    "        width=2\n",
    "    )\n",
    ")\n",
    "\n",
    "trace3 = go.Scatter3d(\n",
    "    x=x3, y=y3, z=z3,\n",
    "    marker=dict(\n",
    "        size=8,\n",
    "        color=z3\n",
    "    ),\n",
    "    line=dict(\n",
    "        color='#1f77b4',\n",
    "        width=2\n",
    "    )\n",
    ")\n",
    "\n",
    "trace4 = go.Surface(\n",
    "    z=polyfit_list,\n",
    "    opacity=0.7,\n",
    "    colorscale='Jet',\n",
    "    showscale=False\n",
    ")\n",
    "\n",
    "data = [trace, trace2, trace3, trace4]\n",
    "layout = go.Layout(\n",
    "    width=800,\n",
    "    height=700,\n",
    "    title= title,\n",
    "    scene=dict(\n",
    "        xaxis=dict(\n",
    "            title='Hidden Layer Dim (X)',\n",
    "            titlefont=dict(\n",
    "                size=14,\n",
    "                color='#ff0000'\n",
    "            ),\n",
    "            gridcolor='rgb(255, 255, 255)',\n",
    "            zerolinecolor='rgb(255, 255, 255)',\n",
    "            showbackground=True,\n",
    "            backgroundcolor='rgb(200, 200, 230)'\n",
    "        ),\n",
    "        yaxis=dict(\n",
    "            nticks = 5,\n",
    "            range = [2, 6],\n",
    "            title='Dense Layer Num (Y)',\n",
    "            titlefont=dict(\n",
    "                size=14,\n",
    "                color='#ff0000'\n",
    "            ),\n",
    "            gridcolor='rgb(255, 255, 255)',\n",
    "            zerolinecolor='rgb(255, 255, 255)',\n",
    "            showbackground=True,\n",
    "            backgroundcolor='rgb(230, 200, 230)'\n",
    "        ),\n",
    "        zaxis=dict(\n",
    "            title='Avg Diff (Z)',\n",
    "            titlefont=dict(\n",
    "                size=10,\n",
    "                color='#ff0000'\n",
    "            ),\n",
    "            gridcolor='rgb(255, 255, 255)',\n",
    "            zerolinecolor='rgb(255, 255, 255)',\n",
    "            showbackground=True,\n",
    "            backgroundcolor='rgb(230, 230, 200)'\n",
    "        ),\n",
    "    )\n",
    ")\n",
    "\n",
    "fig = go.Figure(data=data, layout=layout)\n",
    "plotly.offline.iplot(fig)"
   ]
  },
  {
   "cell_type": "code",
   "execution_count": null,
   "metadata": {},
   "outputs": [],
   "source": []
  },
  {
   "cell_type": "code",
   "execution_count": 9,
   "metadata": {},
   "outputs": [
    {
     "data": {
      "text/plain": [
       "'file://C:\\\\Users\\\\Mig\\\\Documents\\\\Plotly-Practice\\\\experiment69-71-GeneratedSet.html'"
      ]
     },
     "execution_count": 9,
     "metadata": {},
     "output_type": "execute_result"
    }
   ],
   "source": [
    "plotly.offline.plot(fig, filename=filename)"
   ]
  },
  {
   "cell_type": "code",
   "execution_count": null,
   "metadata": {},
   "outputs": [],
   "source": []
  }
 ],
 "metadata": {
  "kernelspec": {
   "display_name": "Python 3",
   "language": "python",
   "name": "python3"
  },
  "language_info": {
   "codemirror_mode": {
    "name": "ipython",
    "version": 3
   },
   "file_extension": ".py",
   "mimetype": "text/x-python",
   "name": "python",
   "nbconvert_exporter": "python",
   "pygments_lexer": "ipython3",
   "version": "3.5.6"
  }
 },
 "nbformat": 4,
 "nbformat_minor": 2
}
