{
 "cells": [
  {
   "cell_type": "code",
   "execution_count": 1,
   "metadata": {},
   "outputs": [],
   "source": [
    "title = \"S8toiPad Model Varient (Exp. 69-71) (Test By Random Set 2)\"\n",
    "filename = 'experiment69-71-RandomSet_2.html'\n",
    "polyfit_diff = 14.988\n",
    "\n",
    "hidden_layer = [6, 9, 12, 15, 18, 21, 24, 27, 30, 33]"
   ]
  },
  {
   "cell_type": "code",
   "execution_count": 2,
   "metadata": {},
   "outputs": [],
   "source": [
    "# 3 Dense Layer \n",
    "# z1 = [12.885, 12.795, 12.417, 12.315, 11.85, 11.946, 11.823, 11.86, 11.696, 11.683]\n",
    "z1 = [15.497, 15.126, 16.107, 15.464, 16.192, 16.025, 15.907, 15.645, 16.809, 16.924]\n",
    "\n",
    "# 4 Dense Layer \n",
    "# z2 = [12.713, 12.617, 11.951, 11.668, 11.526, 11.476, 11.283, 11.239, 11.176, 11.147]\n",
    "z2 = [15.444, 15.219, 16.099, 16.559, 16.415, 16.547, 16.402, 16.652, 16.738, 16.558]\n",
    "\n",
    "# 5 Dense Layer \n",
    "# z3 = [12.57, 12.054, 11.675, 11.461, 11.321, 11.187, 11.145, 11.113, 11.031, 10.961]\n",
    "z3 = [15.515, 16.091, 16.364, 16.322, 16.711, 17.096, 16.724, 16.456, 16.79, 16.626]"
   ]
  },
  {
   "cell_type": "code",
   "execution_count": 3,
   "metadata": {},
   "outputs": [
    {
     "data": {
      "text/html": [
       "<script>requirejs.config({paths: { 'plotly': ['https://cdn.plot.ly/plotly-latest.min']},});if(!window.Plotly) {{require(['plotly'],function(plotly) {window.Plotly=plotly;});}}</script>"
      ],
      "text/vnd.plotly.v1+html": [
       "<script>requirejs.config({paths: { 'plotly': ['https://cdn.plot.ly/plotly-latest.min']},});if(!window.Plotly) {{require(['plotly'],function(plotly) {window.Plotly=plotly;});}}</script>"
      ]
     },
     "metadata": {},
     "output_type": "display_data"
    }
   ],
   "source": [
    "import plotly\n",
    "from plotly.offline import download_plotlyjs, init_notebook_mode, plot, iplot\n",
    "import plotly.graph_objs as go\n",
    "import pandas as pd\n",
    "import numpy as np\n",
    "\n",
    "init_notebook_mode(connected=True)\n",
    "# print(plotly.__version__) "
   ]
  },
  {
   "cell_type": "code",
   "execution_count": 4,
   "metadata": {},
   "outputs": [
    {
     "name": "stdout",
     "output_type": "stream",
     "text": [
      "6     15.497\n",
      "9     15.126\n",
      "12    16.107\n",
      "15    15.464\n",
      "18    16.192\n",
      "21    16.025\n",
      "24    15.907\n",
      "27    15.645\n",
      "30    16.809\n",
      "33    16.924\n",
      "dtype: float64\n"
     ]
    }
   ],
   "source": [
    "# 3 Dense Layer \n",
    "x1 = hidden_layer\n",
    "y1 = [3] * 10\n",
    "y1 = pd.Series(y1, index=x1)\n",
    "#print(y1)\n",
    "z1 = pd.Series(z1, index=x1)\n",
    "print(z1)"
   ]
  },
  {
   "cell_type": "code",
   "execution_count": 5,
   "metadata": {},
   "outputs": [
    {
     "name": "stdout",
     "output_type": "stream",
     "text": [
      "6     15.444\n",
      "9     15.219\n",
      "12    16.099\n",
      "15    16.559\n",
      "18    16.415\n",
      "21    16.547\n",
      "24    16.402\n",
      "27    16.652\n",
      "30    16.738\n",
      "33    16.558\n",
      "dtype: float64\n"
     ]
    }
   ],
   "source": [
    "# 4 Dense Layer\n",
    "x2 = hidden_layer\n",
    "y2 = [4] * 10\n",
    "y2 = pd.Series(y2, index=x2)\n",
    "#print(y2)\n",
    "z2 = pd.Series(z2, index=x2)\n",
    "print(z2)"
   ]
  },
  {
   "cell_type": "code",
   "execution_count": 6,
   "metadata": {},
   "outputs": [
    {
     "name": "stdout",
     "output_type": "stream",
     "text": [
      "6     15.515\n",
      "9     16.091\n",
      "12    16.364\n",
      "15    16.322\n",
      "18    16.711\n",
      "21    17.096\n",
      "24    16.724\n",
      "27    16.456\n",
      "30    16.790\n",
      "33    16.626\n",
      "dtype: float64\n"
     ]
    }
   ],
   "source": [
    "# 5 Dense Layer\n",
    "x3 = hidden_layer\n",
    "y3 = [5] * 10\n",
    "y3 = pd.Series(y3, index=x3)\n",
    "#print(y3)\n",
    "z3 = pd.Series(z3, index=x3)\n",
    "print(z3)"
   ]
  },
  {
   "cell_type": "code",
   "execution_count": 7,
   "metadata": {},
   "outputs": [],
   "source": [
    "polyfit = polyfit_diff\n",
    "polyfit_list = [[polyfit_diff] * 30] * 7\n",
    "#print(polyfit_list)"
   ]
  },
  {
   "cell_type": "code",
   "execution_count": 8,
   "metadata": {},
   "outputs": [
    {
     "data": {
      "application/vnd.plotly.v1+json": {
       "data": [
        {
         "line": {
          "color": "#1f77b4",
          "width": 2
         },
         "marker": {
          "color": [
           15.497,
           15.126,
           16.107,
           15.464,
           16.192,
           16.025,
           15.907,
           15.645,
           16.809,
           16.924
          ],
          "size": 8
         },
         "type": "scatter3d",
         "uid": "09dbfd4a-e133-11e8-a183-001a7dda7111",
         "x": [
          6,
          9,
          12,
          15,
          18,
          21,
          24,
          27,
          30,
          33
         ],
         "y": [
          3,
          3,
          3,
          3,
          3,
          3,
          3,
          3,
          3,
          3
         ],
         "z": [
          15.497,
          15.126,
          16.107,
          15.464,
          16.192,
          16.025,
          15.907,
          15.645,
          16.809,
          16.924
         ]
        },
        {
         "line": {
          "color": "#1f77b4",
          "width": 2
         },
         "marker": {
          "color": [
           15.444,
           15.219,
           16.099,
           16.559,
           16.415,
           16.547,
           16.402,
           16.652,
           16.738,
           16.558
          ],
          "size": 8
         },
         "type": "scatter3d",
         "uid": "09dbfd4b-e133-11e8-9ad5-001a7dda7111",
         "x": [
          6,
          9,
          12,
          15,
          18,
          21,
          24,
          27,
          30,
          33
         ],
         "y": [
          4,
          4,
          4,
          4,
          4,
          4,
          4,
          4,
          4,
          4
         ],
         "z": [
          15.444,
          15.219,
          16.099,
          16.559,
          16.415,
          16.547,
          16.402,
          16.652,
          16.738,
          16.558
         ]
        },
        {
         "line": {
          "color": "#1f77b4",
          "width": 2
         },
         "marker": {
          "color": [
           15.515,
           16.091,
           16.364,
           16.322,
           16.711,
           17.096,
           16.724,
           16.456,
           16.79,
           16.626
          ],
          "size": 8
         },
         "type": "scatter3d",
         "uid": "09dbfd4c-e133-11e8-8dbf-001a7dda7111",
         "x": [
          6,
          9,
          12,
          15,
          18,
          21,
          24,
          27,
          30,
          33
         ],
         "y": [
          5,
          5,
          5,
          5,
          5,
          5,
          5,
          5,
          5,
          5
         ],
         "z": [
          15.515,
          16.091,
          16.364,
          16.322,
          16.711,
          17.096,
          16.724,
          16.456,
          16.79,
          16.626
         ]
        },
        {
         "colorscale": "Jet",
         "opacity": 0.7,
         "showscale": false,
         "type": "surface",
         "uid": "09dbfd4d-e133-11e8-a5e6-001a7dda7111",
         "z": [
          [
           14.988,
           14.988,
           14.988,
           14.988,
           14.988,
           14.988,
           14.988,
           14.988,
           14.988,
           14.988,
           14.988,
           14.988,
           14.988,
           14.988,
           14.988,
           14.988,
           14.988,
           14.988,
           14.988,
           14.988,
           14.988,
           14.988,
           14.988,
           14.988,
           14.988,
           14.988,
           14.988,
           14.988,
           14.988,
           14.988
          ],
          [
           14.988,
           14.988,
           14.988,
           14.988,
           14.988,
           14.988,
           14.988,
           14.988,
           14.988,
           14.988,
           14.988,
           14.988,
           14.988,
           14.988,
           14.988,
           14.988,
           14.988,
           14.988,
           14.988,
           14.988,
           14.988,
           14.988,
           14.988,
           14.988,
           14.988,
           14.988,
           14.988,
           14.988,
           14.988,
           14.988
          ],
          [
           14.988,
           14.988,
           14.988,
           14.988,
           14.988,
           14.988,
           14.988,
           14.988,
           14.988,
           14.988,
           14.988,
           14.988,
           14.988,
           14.988,
           14.988,
           14.988,
           14.988,
           14.988,
           14.988,
           14.988,
           14.988,
           14.988,
           14.988,
           14.988,
           14.988,
           14.988,
           14.988,
           14.988,
           14.988,
           14.988
          ],
          [
           14.988,
           14.988,
           14.988,
           14.988,
           14.988,
           14.988,
           14.988,
           14.988,
           14.988,
           14.988,
           14.988,
           14.988,
           14.988,
           14.988,
           14.988,
           14.988,
           14.988,
           14.988,
           14.988,
           14.988,
           14.988,
           14.988,
           14.988,
           14.988,
           14.988,
           14.988,
           14.988,
           14.988,
           14.988,
           14.988
          ],
          [
           14.988,
           14.988,
           14.988,
           14.988,
           14.988,
           14.988,
           14.988,
           14.988,
           14.988,
           14.988,
           14.988,
           14.988,
           14.988,
           14.988,
           14.988,
           14.988,
           14.988,
           14.988,
           14.988,
           14.988,
           14.988,
           14.988,
           14.988,
           14.988,
           14.988,
           14.988,
           14.988,
           14.988,
           14.988,
           14.988
          ],
          [
           14.988,
           14.988,
           14.988,
           14.988,
           14.988,
           14.988,
           14.988,
           14.988,
           14.988,
           14.988,
           14.988,
           14.988,
           14.988,
           14.988,
           14.988,
           14.988,
           14.988,
           14.988,
           14.988,
           14.988,
           14.988,
           14.988,
           14.988,
           14.988,
           14.988,
           14.988,
           14.988,
           14.988,
           14.988,
           14.988
          ],
          [
           14.988,
           14.988,
           14.988,
           14.988,
           14.988,
           14.988,
           14.988,
           14.988,
           14.988,
           14.988,
           14.988,
           14.988,
           14.988,
           14.988,
           14.988,
           14.988,
           14.988,
           14.988,
           14.988,
           14.988,
           14.988,
           14.988,
           14.988,
           14.988,
           14.988,
           14.988,
           14.988,
           14.988,
           14.988,
           14.988
          ]
         ]
        }
       ],
       "layout": {
        "height": 700,
        "scene": {
         "xaxis": {
          "backgroundcolor": "rgb(200, 200, 230)",
          "gridcolor": "rgb(255, 255, 255)",
          "showbackground": true,
          "title": "Hidden Layer Dim (X)",
          "titlefont": {
           "color": "#ff0000",
           "size": 14
          },
          "zerolinecolor": "rgb(255, 255, 255)"
         },
         "yaxis": {
          "backgroundcolor": "rgb(230, 200, 230)",
          "gridcolor": "rgb(255, 255, 255)",
          "nticks": 5,
          "range": [
           2,
           6
          ],
          "showbackground": true,
          "title": "Dense Layer Num (Y)",
          "titlefont": {
           "color": "#ff0000",
           "size": 14
          },
          "zerolinecolor": "rgb(255, 255, 255)"
         },
         "zaxis": {
          "backgroundcolor": "rgb(230, 230, 200)",
          "gridcolor": "rgb(255, 255, 255)",
          "showbackground": true,
          "title": "Avg Diff (Z)",
          "titlefont": {
           "color": "#ff0000",
           "size": 10
          },
          "zerolinecolor": "rgb(255, 255, 255)"
         }
        },
        "title": "S8toiPad Model Varient (Exp. 69-71) (Test By Random Set 2)",
        "width": 800
       }
      },
      "text/html": [
       "<div id=\"92ea4095-df24-4bb1-8d13-0b6dd2113175\" style=\"height: 700px; width: 800px;\" class=\"plotly-graph-div\"></div><script type=\"text/javascript\">require([\"plotly\"], function(Plotly) { window.PLOTLYENV=window.PLOTLYENV || {};window.PLOTLYENV.BASE_URL=\"https://plot.ly\";Plotly.newPlot(\"92ea4095-df24-4bb1-8d13-0b6dd2113175\", [{\"x\": [6, 9, 12, 15, 18, 21, 24, 27, 30, 33], \"type\": \"scatter3d\", \"y\": [3, 3, 3, 3, 3, 3, 3, 3, 3, 3], \"line\": {\"color\": \"#1f77b4\", \"width\": 2}, \"marker\": {\"color\": [15.497, 15.126, 16.107, 15.464, 16.192, 16.025, 15.907, 15.645, 16.809, 16.924], \"size\": 8}, \"z\": [15.497, 15.126, 16.107, 15.464, 16.192, 16.025, 15.907, 15.645, 16.809, 16.924], \"uid\": \"09dbfd4a-e133-11e8-a183-001a7dda7111\"}, {\"x\": [6, 9, 12, 15, 18, 21, 24, 27, 30, 33], \"type\": \"scatter3d\", \"y\": [4, 4, 4, 4, 4, 4, 4, 4, 4, 4], \"line\": {\"color\": \"#1f77b4\", \"width\": 2}, \"marker\": {\"color\": [15.444, 15.219, 16.099, 16.559, 16.415, 16.547, 16.402, 16.652, 16.738, 16.558], \"size\": 8}, \"z\": [15.444, 15.219, 16.099, 16.559, 16.415, 16.547, 16.402, 16.652, 16.738, 16.558], \"uid\": \"09dbfd4b-e133-11e8-9ad5-001a7dda7111\"}, {\"x\": [6, 9, 12, 15, 18, 21, 24, 27, 30, 33], \"type\": \"scatter3d\", \"y\": [5, 5, 5, 5, 5, 5, 5, 5, 5, 5], \"line\": {\"color\": \"#1f77b4\", \"width\": 2}, \"marker\": {\"color\": [15.515, 16.091, 16.364, 16.322, 16.711, 17.096, 16.724, 16.456, 16.79, 16.626], \"size\": 8}, \"z\": [15.515, 16.091, 16.364, 16.322, 16.711, 17.096, 16.724, 16.456, 16.79, 16.626], \"uid\": \"09dbfd4c-e133-11e8-8dbf-001a7dda7111\"}, {\"colorscale\": \"Jet\", \"z\": [[14.988, 14.988, 14.988, 14.988, 14.988, 14.988, 14.988, 14.988, 14.988, 14.988, 14.988, 14.988, 14.988, 14.988, 14.988, 14.988, 14.988, 14.988, 14.988, 14.988, 14.988, 14.988, 14.988, 14.988, 14.988, 14.988, 14.988, 14.988, 14.988, 14.988], [14.988, 14.988, 14.988, 14.988, 14.988, 14.988, 14.988, 14.988, 14.988, 14.988, 14.988, 14.988, 14.988, 14.988, 14.988, 14.988, 14.988, 14.988, 14.988, 14.988, 14.988, 14.988, 14.988, 14.988, 14.988, 14.988, 14.988, 14.988, 14.988, 14.988], [14.988, 14.988, 14.988, 14.988, 14.988, 14.988, 14.988, 14.988, 14.988, 14.988, 14.988, 14.988, 14.988, 14.988, 14.988, 14.988, 14.988, 14.988, 14.988, 14.988, 14.988, 14.988, 14.988, 14.988, 14.988, 14.988, 14.988, 14.988, 14.988, 14.988], [14.988, 14.988, 14.988, 14.988, 14.988, 14.988, 14.988, 14.988, 14.988, 14.988, 14.988, 14.988, 14.988, 14.988, 14.988, 14.988, 14.988, 14.988, 14.988, 14.988, 14.988, 14.988, 14.988, 14.988, 14.988, 14.988, 14.988, 14.988, 14.988, 14.988], [14.988, 14.988, 14.988, 14.988, 14.988, 14.988, 14.988, 14.988, 14.988, 14.988, 14.988, 14.988, 14.988, 14.988, 14.988, 14.988, 14.988, 14.988, 14.988, 14.988, 14.988, 14.988, 14.988, 14.988, 14.988, 14.988, 14.988, 14.988, 14.988, 14.988], [14.988, 14.988, 14.988, 14.988, 14.988, 14.988, 14.988, 14.988, 14.988, 14.988, 14.988, 14.988, 14.988, 14.988, 14.988, 14.988, 14.988, 14.988, 14.988, 14.988, 14.988, 14.988, 14.988, 14.988, 14.988, 14.988, 14.988, 14.988, 14.988, 14.988], [14.988, 14.988, 14.988, 14.988, 14.988, 14.988, 14.988, 14.988, 14.988, 14.988, 14.988, 14.988, 14.988, 14.988, 14.988, 14.988, 14.988, 14.988, 14.988, 14.988, 14.988, 14.988, 14.988, 14.988, 14.988, 14.988, 14.988, 14.988, 14.988, 14.988]], \"showscale\": false, \"opacity\": 0.7, \"type\": \"surface\", \"uid\": \"09dbfd4d-e133-11e8-a5e6-001a7dda7111\"}], {\"title\": \"S8toiPad Model Varient (Exp. 69-71) (Test By Random Set 2)\", \"height\": 700, \"width\": 800, \"scene\": {\"zaxis\": {\"title\": \"Avg Diff (Z)\", \"backgroundcolor\": \"rgb(230, 230, 200)\", \"titlefont\": {\"color\": \"#ff0000\", \"size\": 10}, \"gridcolor\": \"rgb(255, 255, 255)\", \"showbackground\": true, \"zerolinecolor\": \"rgb(255, 255, 255)\"}, \"yaxis\": {\"title\": \"Dense Layer Num (Y)\", \"backgroundcolor\": \"rgb(230, 200, 230)\", \"range\": [2, 6], \"titlefont\": {\"color\": \"#ff0000\", \"size\": 14}, \"nticks\": 5, \"gridcolor\": \"rgb(255, 255, 255)\", \"showbackground\": true, \"zerolinecolor\": \"rgb(255, 255, 255)\"}, \"xaxis\": {\"title\": \"Hidden Layer Dim (X)\", \"backgroundcolor\": \"rgb(200, 200, 230)\", \"titlefont\": {\"color\": \"#ff0000\", \"size\": 14}, \"gridcolor\": \"rgb(255, 255, 255)\", \"showbackground\": true, \"zerolinecolor\": \"rgb(255, 255, 255)\"}}}, {\"showLink\": true, \"linkText\": \"Export to plot.ly\"})});</script>"
      ],
      "text/vnd.plotly.v1+html": [
       "<div id=\"92ea4095-df24-4bb1-8d13-0b6dd2113175\" style=\"height: 700px; width: 800px;\" class=\"plotly-graph-div\"></div><script type=\"text/javascript\">require([\"plotly\"], function(Plotly) { window.PLOTLYENV=window.PLOTLYENV || {};window.PLOTLYENV.BASE_URL=\"https://plot.ly\";Plotly.newPlot(\"92ea4095-df24-4bb1-8d13-0b6dd2113175\", [{\"x\": [6, 9, 12, 15, 18, 21, 24, 27, 30, 33], \"type\": \"scatter3d\", \"y\": [3, 3, 3, 3, 3, 3, 3, 3, 3, 3], \"line\": {\"color\": \"#1f77b4\", \"width\": 2}, \"marker\": {\"color\": [15.497, 15.126, 16.107, 15.464, 16.192, 16.025, 15.907, 15.645, 16.809, 16.924], \"size\": 8}, \"z\": [15.497, 15.126, 16.107, 15.464, 16.192, 16.025, 15.907, 15.645, 16.809, 16.924], \"uid\": \"09dbfd4a-e133-11e8-a183-001a7dda7111\"}, {\"x\": [6, 9, 12, 15, 18, 21, 24, 27, 30, 33], \"type\": \"scatter3d\", \"y\": [4, 4, 4, 4, 4, 4, 4, 4, 4, 4], \"line\": {\"color\": \"#1f77b4\", \"width\": 2}, \"marker\": {\"color\": [15.444, 15.219, 16.099, 16.559, 16.415, 16.547, 16.402, 16.652, 16.738, 16.558], \"size\": 8}, \"z\": [15.444, 15.219, 16.099, 16.559, 16.415, 16.547, 16.402, 16.652, 16.738, 16.558], \"uid\": \"09dbfd4b-e133-11e8-9ad5-001a7dda7111\"}, {\"x\": [6, 9, 12, 15, 18, 21, 24, 27, 30, 33], \"type\": \"scatter3d\", \"y\": [5, 5, 5, 5, 5, 5, 5, 5, 5, 5], \"line\": {\"color\": \"#1f77b4\", \"width\": 2}, \"marker\": {\"color\": [15.515, 16.091, 16.364, 16.322, 16.711, 17.096, 16.724, 16.456, 16.79, 16.626], \"size\": 8}, \"z\": [15.515, 16.091, 16.364, 16.322, 16.711, 17.096, 16.724, 16.456, 16.79, 16.626], \"uid\": \"09dbfd4c-e133-11e8-8dbf-001a7dda7111\"}, {\"colorscale\": \"Jet\", \"z\": [[14.988, 14.988, 14.988, 14.988, 14.988, 14.988, 14.988, 14.988, 14.988, 14.988, 14.988, 14.988, 14.988, 14.988, 14.988, 14.988, 14.988, 14.988, 14.988, 14.988, 14.988, 14.988, 14.988, 14.988, 14.988, 14.988, 14.988, 14.988, 14.988, 14.988], [14.988, 14.988, 14.988, 14.988, 14.988, 14.988, 14.988, 14.988, 14.988, 14.988, 14.988, 14.988, 14.988, 14.988, 14.988, 14.988, 14.988, 14.988, 14.988, 14.988, 14.988, 14.988, 14.988, 14.988, 14.988, 14.988, 14.988, 14.988, 14.988, 14.988], [14.988, 14.988, 14.988, 14.988, 14.988, 14.988, 14.988, 14.988, 14.988, 14.988, 14.988, 14.988, 14.988, 14.988, 14.988, 14.988, 14.988, 14.988, 14.988, 14.988, 14.988, 14.988, 14.988, 14.988, 14.988, 14.988, 14.988, 14.988, 14.988, 14.988], [14.988, 14.988, 14.988, 14.988, 14.988, 14.988, 14.988, 14.988, 14.988, 14.988, 14.988, 14.988, 14.988, 14.988, 14.988, 14.988, 14.988, 14.988, 14.988, 14.988, 14.988, 14.988, 14.988, 14.988, 14.988, 14.988, 14.988, 14.988, 14.988, 14.988], [14.988, 14.988, 14.988, 14.988, 14.988, 14.988, 14.988, 14.988, 14.988, 14.988, 14.988, 14.988, 14.988, 14.988, 14.988, 14.988, 14.988, 14.988, 14.988, 14.988, 14.988, 14.988, 14.988, 14.988, 14.988, 14.988, 14.988, 14.988, 14.988, 14.988], [14.988, 14.988, 14.988, 14.988, 14.988, 14.988, 14.988, 14.988, 14.988, 14.988, 14.988, 14.988, 14.988, 14.988, 14.988, 14.988, 14.988, 14.988, 14.988, 14.988, 14.988, 14.988, 14.988, 14.988, 14.988, 14.988, 14.988, 14.988, 14.988, 14.988], [14.988, 14.988, 14.988, 14.988, 14.988, 14.988, 14.988, 14.988, 14.988, 14.988, 14.988, 14.988, 14.988, 14.988, 14.988, 14.988, 14.988, 14.988, 14.988, 14.988, 14.988, 14.988, 14.988, 14.988, 14.988, 14.988, 14.988, 14.988, 14.988, 14.988]], \"showscale\": false, \"opacity\": 0.7, \"type\": \"surface\", \"uid\": \"09dbfd4d-e133-11e8-a5e6-001a7dda7111\"}], {\"title\": \"S8toiPad Model Varient (Exp. 69-71) (Test By Random Set 2)\", \"height\": 700, \"width\": 800, \"scene\": {\"zaxis\": {\"title\": \"Avg Diff (Z)\", \"backgroundcolor\": \"rgb(230, 230, 200)\", \"titlefont\": {\"color\": \"#ff0000\", \"size\": 10}, \"gridcolor\": \"rgb(255, 255, 255)\", \"showbackground\": true, \"zerolinecolor\": \"rgb(255, 255, 255)\"}, \"yaxis\": {\"title\": \"Dense Layer Num (Y)\", \"backgroundcolor\": \"rgb(230, 200, 230)\", \"range\": [2, 6], \"titlefont\": {\"color\": \"#ff0000\", \"size\": 14}, \"nticks\": 5, \"gridcolor\": \"rgb(255, 255, 255)\", \"showbackground\": true, \"zerolinecolor\": \"rgb(255, 255, 255)\"}, \"xaxis\": {\"title\": \"Hidden Layer Dim (X)\", \"backgroundcolor\": \"rgb(200, 200, 230)\", \"titlefont\": {\"color\": \"#ff0000\", \"size\": 14}, \"gridcolor\": \"rgb(255, 255, 255)\", \"showbackground\": true, \"zerolinecolor\": \"rgb(255, 255, 255)\"}}}, {\"showLink\": true, \"linkText\": \"Export to plot.ly\"})});</script>"
      ]
     },
     "metadata": {},
     "output_type": "display_data"
    }
   ],
   "source": [
    "trace = go.Scatter3d(\n",
    "    x=x1, y=y1, z=z1,\n",
    "    marker=dict(\n",
    "        size=8,\n",
    "        color=z1\n",
    "    ),\n",
    "    line=dict(\n",
    "        color='#1f77b4',\n",
    "        width=2\n",
    "    )\n",
    ")\n",
    "\n",
    "trace2 = go.Scatter3d(\n",
    "    x=x2, y=y2, z=z2,\n",
    "    marker=dict(\n",
    "        size=8,\n",
    "        color=z2\n",
    "    ),\n",
    "    line=dict(\n",
    "        color='#1f77b4',\n",
    "        width=2\n",
    "    )\n",
    ")\n",
    "\n",
    "trace3 = go.Scatter3d(\n",
    "    x=x3, y=y3, z=z3,\n",
    "    marker=dict(\n",
    "        size=8,\n",
    "        color=z3\n",
    "    ),\n",
    "    line=dict(\n",
    "        color='#1f77b4',\n",
    "        width=2\n",
    "    )\n",
    ")\n",
    "\n",
    "trace4 = go.Surface(\n",
    "    z=polyfit_list,\n",
    "    opacity=0.7,\n",
    "    colorscale='Jet',\n",
    "    showscale=False\n",
    ")\n",
    "\n",
    "data = [trace, trace2, trace3, trace4]\n",
    "layout = go.Layout(\n",
    "    width=800,\n",
    "    height=700,\n",
    "    title= title,\n",
    "    scene=dict(\n",
    "        xaxis=dict(\n",
    "            title='Hidden Layer Dim (X)',\n",
    "            titlefont=dict(\n",
    "                size=14,\n",
    "                color='#ff0000'\n",
    "            ),\n",
    "            gridcolor='rgb(255, 255, 255)',\n",
    "            zerolinecolor='rgb(255, 255, 255)',\n",
    "            showbackground=True,\n",
    "            backgroundcolor='rgb(200, 200, 230)'\n",
    "        ),\n",
    "        yaxis=dict(\n",
    "            nticks = 5,\n",
    "            range = [2, 6],\n",
    "            title='Dense Layer Num (Y)',\n",
    "            titlefont=dict(\n",
    "                size=14,\n",
    "                color='#ff0000'\n",
    "            ),\n",
    "            gridcolor='rgb(255, 255, 255)',\n",
    "            zerolinecolor='rgb(255, 255, 255)',\n",
    "            showbackground=True,\n",
    "            backgroundcolor='rgb(230, 200, 230)'\n",
    "        ),\n",
    "        zaxis=dict(\n",
    "            title='Avg Diff (Z)',\n",
    "            titlefont=dict(\n",
    "                size=10,\n",
    "                color='#ff0000'\n",
    "            ),\n",
    "            gridcolor='rgb(255, 255, 255)',\n",
    "            zerolinecolor='rgb(255, 255, 255)',\n",
    "            showbackground=True,\n",
    "            backgroundcolor='rgb(230, 230, 200)'\n",
    "        ),\n",
    "    )\n",
    ")\n",
    "\n",
    "fig = go.Figure(data=data, layout=layout)\n",
    "plotly.offline.iplot(fig)"
   ]
  },
  {
   "cell_type": "code",
   "execution_count": null,
   "metadata": {},
   "outputs": [],
   "source": []
  },
  {
   "cell_type": "code",
   "execution_count": 9,
   "metadata": {},
   "outputs": [
    {
     "data": {
      "text/plain": [
       "'file://C:\\\\Users\\\\Mig\\\\Documents\\\\Plotly-Practice\\\\experiment69-71-RandomSet_2.html'"
      ]
     },
     "execution_count": 9,
     "metadata": {},
     "output_type": "execute_result"
    }
   ],
   "source": [
    "plotly.offline.plot(fig, filename=filename)"
   ]
  },
  {
   "cell_type": "code",
   "execution_count": null,
   "metadata": {},
   "outputs": [],
   "source": []
  }
 ],
 "metadata": {
  "kernelspec": {
   "display_name": "Python 3",
   "language": "python",
   "name": "python3"
  },
  "language_info": {
   "codemirror_mode": {
    "name": "ipython",
    "version": 3
   },
   "file_extension": ".py",
   "mimetype": "text/x-python",
   "name": "python",
   "nbconvert_exporter": "python",
   "pygments_lexer": "ipython3",
   "version": "3.5.6"
  }
 },
 "nbformat": 4,
 "nbformat_minor": 2
}
