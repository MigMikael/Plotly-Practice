{
 "cells": [
  {
   "cell_type": "code",
   "execution_count": 1,
   "metadata": {},
   "outputs": [],
   "source": [
    "title = \"S8toiPad Model Varient (Exp. 81) (Test By Random Set 2)\"\n",
    "filename = 'experiment69-71(81)-RandomSet_2.html'\n",
    "polyfit_diff = 14.988\n",
    "\n",
    "hidden_layer = [3, 4, 5, 6, 7, 8, 9, 10, 11, 12, 13, 14]"
   ]
  },
  {
   "cell_type": "code",
   "execution_count": 2,
   "metadata": {},
   "outputs": [],
   "source": [
    "# 3 Dense Layer \n",
    "z1 = [37.797, 14.503, 14.932, 14.485, 15.902, 15.614, 15.661, 15.079, 15.346, 15.582, 15.382, 15.359]"
   ]
  },
  {
   "cell_type": "code",
   "execution_count": 3,
   "metadata": {},
   "outputs": [
    {
     "data": {
      "text/html": [
       "<script>requirejs.config({paths: { 'plotly': ['https://cdn.plot.ly/plotly-latest.min']},});if(!window.Plotly) {{require(['plotly'],function(plotly) {window.Plotly=plotly;});}}</script>"
      ],
      "text/vnd.plotly.v1+html": [
       "<script>requirejs.config({paths: { 'plotly': ['https://cdn.plot.ly/plotly-latest.min']},});if(!window.Plotly) {{require(['plotly'],function(plotly) {window.Plotly=plotly;});}}</script>"
      ]
     },
     "metadata": {},
     "output_type": "display_data"
    }
   ],
   "source": [
    "import plotly\n",
    "from plotly.offline import download_plotlyjs, init_notebook_mode, plot, iplot\n",
    "import plotly.graph_objs as go\n",
    "import pandas as pd\n",
    "import numpy as np\n",
    "\n",
    "init_notebook_mode(connected=True)\n",
    "# print(plotly.__version__) "
   ]
  },
  {
   "cell_type": "code",
   "execution_count": 4,
   "metadata": {},
   "outputs": [
    {
     "name": "stdout",
     "output_type": "stream",
     "text": [
      "3     37.797\n",
      "4     14.503\n",
      "5     14.932\n",
      "6     14.485\n",
      "7     15.902\n",
      "8     15.614\n",
      "9     15.661\n",
      "10    15.079\n",
      "11    15.346\n",
      "12    15.582\n",
      "13    15.382\n",
      "14    15.359\n",
      "dtype: float64\n"
     ]
    }
   ],
   "source": [
    "# 3 Dense Layer \n",
    "x1 = hidden_layer\n",
    "y1 = [3] * 12\n",
    "y1 = pd.Series(y1, index=x1)\n",
    "#print(y1)\n",
    "z1 = pd.Series(z1, index=x1)\n",
    "print(z1)"
   ]
  },
  {
   "cell_type": "code",
   "execution_count": 5,
   "metadata": {},
   "outputs": [],
   "source": [
    "polyfit = polyfit_diff\n",
    "polyfit_list = [[polyfit_diff] * 16] * 7\n",
    "#print(polyfit_list)"
   ]
  },
  {
   "cell_type": "code",
   "execution_count": 6,
   "metadata": {},
   "outputs": [
    {
     "data": {
      "application/vnd.plotly.v1+json": {
       "data": [
        {
         "line": {
          "color": "#1f77b4",
          "width": 2
         },
         "marker": {
          "color": [
           37.797,
           14.503,
           14.932,
           14.485,
           15.902,
           15.614,
           15.661,
           15.079,
           15.346,
           15.582,
           15.382,
           15.359
          ],
          "size": 8
         },
         "type": "scatter3d",
         "uid": "5ebd86a4-e237-11e8-984c-001a7dda7111",
         "x": [
          3,
          4,
          5,
          6,
          7,
          8,
          9,
          10,
          11,
          12,
          13,
          14
         ],
         "y": [
          3,
          3,
          3,
          3,
          3,
          3,
          3,
          3,
          3,
          3,
          3,
          3
         ],
         "z": [
          37.797,
          14.503,
          14.932,
          14.485,
          15.902,
          15.614,
          15.661,
          15.079,
          15.346,
          15.582,
          15.382,
          15.359
         ]
        },
        {
         "colorscale": "Jet",
         "opacity": 0.7,
         "showscale": false,
         "type": "surface",
         "uid": "5ebd86a5-e237-11e8-bd72-001a7dda7111",
         "z": [
          [
           14.988,
           14.988,
           14.988,
           14.988,
           14.988,
           14.988,
           14.988,
           14.988,
           14.988,
           14.988,
           14.988,
           14.988,
           14.988,
           14.988,
           14.988,
           14.988
          ],
          [
           14.988,
           14.988,
           14.988,
           14.988,
           14.988,
           14.988,
           14.988,
           14.988,
           14.988,
           14.988,
           14.988,
           14.988,
           14.988,
           14.988,
           14.988,
           14.988
          ],
          [
           14.988,
           14.988,
           14.988,
           14.988,
           14.988,
           14.988,
           14.988,
           14.988,
           14.988,
           14.988,
           14.988,
           14.988,
           14.988,
           14.988,
           14.988,
           14.988
          ],
          [
           14.988,
           14.988,
           14.988,
           14.988,
           14.988,
           14.988,
           14.988,
           14.988,
           14.988,
           14.988,
           14.988,
           14.988,
           14.988,
           14.988,
           14.988,
           14.988
          ],
          [
           14.988,
           14.988,
           14.988,
           14.988,
           14.988,
           14.988,
           14.988,
           14.988,
           14.988,
           14.988,
           14.988,
           14.988,
           14.988,
           14.988,
           14.988,
           14.988
          ],
          [
           14.988,
           14.988,
           14.988,
           14.988,
           14.988,
           14.988,
           14.988,
           14.988,
           14.988,
           14.988,
           14.988,
           14.988,
           14.988,
           14.988,
           14.988,
           14.988
          ],
          [
           14.988,
           14.988,
           14.988,
           14.988,
           14.988,
           14.988,
           14.988,
           14.988,
           14.988,
           14.988,
           14.988,
           14.988,
           14.988,
           14.988,
           14.988,
           14.988
          ]
         ]
        }
       ],
       "layout": {
        "height": 700,
        "scene": {
         "xaxis": {
          "backgroundcolor": "rgb(200, 200, 230)",
          "gridcolor": "rgb(255, 255, 255)",
          "showbackground": true,
          "title": "Hidden Layer Dim (X)",
          "titlefont": {
           "color": "#ff0000",
           "size": 14
          },
          "zerolinecolor": "rgb(255, 255, 255)"
         },
         "yaxis": {
          "backgroundcolor": "rgb(230, 200, 230)",
          "gridcolor": "rgb(255, 255, 255)",
          "nticks": 5,
          "range": [
           2,
           6
          ],
          "showbackground": true,
          "title": "Dense Layer Num (Y)",
          "titlefont": {
           "color": "#ff0000",
           "size": 14
          },
          "zerolinecolor": "rgb(255, 255, 255)"
         },
         "zaxis": {
          "backgroundcolor": "rgb(230, 230, 200)",
          "gridcolor": "rgb(255, 255, 255)",
          "showbackground": true,
          "title": "Avg Diff (Z)",
          "titlefont": {
           "color": "#ff0000",
           "size": 10
          },
          "zerolinecolor": "rgb(255, 255, 255)"
         }
        },
        "title": "S8toiPad Model Varient (Exp. 81) (Test By Random Set 2)",
        "width": 800
       }
      },
      "text/html": [
       "<div id=\"eb4a42a1-b218-4b6e-81bd-2541f854bdab\" style=\"height: 700px; width: 800px;\" class=\"plotly-graph-div\"></div><script type=\"text/javascript\">require([\"plotly\"], function(Plotly) { window.PLOTLYENV=window.PLOTLYENV || {};window.PLOTLYENV.BASE_URL=\"https://plot.ly\";Plotly.newPlot(\"eb4a42a1-b218-4b6e-81bd-2541f854bdab\", [{\"z\": [37.797, 14.503, 14.932, 14.485, 15.902, 15.614, 15.661, 15.079, 15.346, 15.582, 15.382, 15.359], \"type\": \"scatter3d\", \"marker\": {\"size\": 8, \"color\": [37.797, 14.503, 14.932, 14.485, 15.902, 15.614, 15.661, 15.079, 15.346, 15.582, 15.382, 15.359]}, \"y\": [3, 3, 3, 3, 3, 3, 3, 3, 3, 3, 3, 3], \"x\": [3, 4, 5, 6, 7, 8, 9, 10, 11, 12, 13, 14], \"uid\": \"5ebd86a4-e237-11e8-984c-001a7dda7111\", \"line\": {\"width\": 2, \"color\": \"#1f77b4\"}}, {\"z\": [[14.988, 14.988, 14.988, 14.988, 14.988, 14.988, 14.988, 14.988, 14.988, 14.988, 14.988, 14.988, 14.988, 14.988, 14.988, 14.988], [14.988, 14.988, 14.988, 14.988, 14.988, 14.988, 14.988, 14.988, 14.988, 14.988, 14.988, 14.988, 14.988, 14.988, 14.988, 14.988], [14.988, 14.988, 14.988, 14.988, 14.988, 14.988, 14.988, 14.988, 14.988, 14.988, 14.988, 14.988, 14.988, 14.988, 14.988, 14.988], [14.988, 14.988, 14.988, 14.988, 14.988, 14.988, 14.988, 14.988, 14.988, 14.988, 14.988, 14.988, 14.988, 14.988, 14.988, 14.988], [14.988, 14.988, 14.988, 14.988, 14.988, 14.988, 14.988, 14.988, 14.988, 14.988, 14.988, 14.988, 14.988, 14.988, 14.988, 14.988], [14.988, 14.988, 14.988, 14.988, 14.988, 14.988, 14.988, 14.988, 14.988, 14.988, 14.988, 14.988, 14.988, 14.988, 14.988, 14.988], [14.988, 14.988, 14.988, 14.988, 14.988, 14.988, 14.988, 14.988, 14.988, 14.988, 14.988, 14.988, 14.988, 14.988, 14.988, 14.988]], \"showscale\": false, \"colorscale\": \"Jet\", \"uid\": \"5ebd86a5-e237-11e8-bd72-001a7dda7111\", \"opacity\": 0.7, \"type\": \"surface\"}], {\"width\": 800, \"height\": 700, \"title\": \"S8toiPad Model Varient (Exp. 81) (Test By Random Set 2)\", \"scene\": {\"xaxis\": {\"titlefont\": {\"size\": 14, \"color\": \"#ff0000\"}, \"zerolinecolor\": \"rgb(255, 255, 255)\", \"showbackground\": true, \"backgroundcolor\": \"rgb(200, 200, 230)\", \"title\": \"Hidden Layer Dim (X)\", \"gridcolor\": \"rgb(255, 255, 255)\"}, \"zaxis\": {\"titlefont\": {\"size\": 10, \"color\": \"#ff0000\"}, \"zerolinecolor\": \"rgb(255, 255, 255)\", \"showbackground\": true, \"backgroundcolor\": \"rgb(230, 230, 200)\", \"title\": \"Avg Diff (Z)\", \"gridcolor\": \"rgb(255, 255, 255)\"}, \"yaxis\": {\"titlefont\": {\"size\": 14, \"color\": \"#ff0000\"}, \"zerolinecolor\": \"rgb(255, 255, 255)\", \"showbackground\": true, \"backgroundcolor\": \"rgb(230, 200, 230)\", \"title\": \"Dense Layer Num (Y)\", \"nticks\": 5, \"gridcolor\": \"rgb(255, 255, 255)\", \"range\": [2, 6]}}}, {\"linkText\": \"Export to plot.ly\", \"showLink\": true})});</script>"
      ],
      "text/vnd.plotly.v1+html": [
       "<div id=\"eb4a42a1-b218-4b6e-81bd-2541f854bdab\" style=\"height: 700px; width: 800px;\" class=\"plotly-graph-div\"></div><script type=\"text/javascript\">require([\"plotly\"], function(Plotly) { window.PLOTLYENV=window.PLOTLYENV || {};window.PLOTLYENV.BASE_URL=\"https://plot.ly\";Plotly.newPlot(\"eb4a42a1-b218-4b6e-81bd-2541f854bdab\", [{\"z\": [37.797, 14.503, 14.932, 14.485, 15.902, 15.614, 15.661, 15.079, 15.346, 15.582, 15.382, 15.359], \"type\": \"scatter3d\", \"marker\": {\"size\": 8, \"color\": [37.797, 14.503, 14.932, 14.485, 15.902, 15.614, 15.661, 15.079, 15.346, 15.582, 15.382, 15.359]}, \"y\": [3, 3, 3, 3, 3, 3, 3, 3, 3, 3, 3, 3], \"x\": [3, 4, 5, 6, 7, 8, 9, 10, 11, 12, 13, 14], \"uid\": \"5ebd86a4-e237-11e8-984c-001a7dda7111\", \"line\": {\"width\": 2, \"color\": \"#1f77b4\"}}, {\"z\": [[14.988, 14.988, 14.988, 14.988, 14.988, 14.988, 14.988, 14.988, 14.988, 14.988, 14.988, 14.988, 14.988, 14.988, 14.988, 14.988], [14.988, 14.988, 14.988, 14.988, 14.988, 14.988, 14.988, 14.988, 14.988, 14.988, 14.988, 14.988, 14.988, 14.988, 14.988, 14.988], [14.988, 14.988, 14.988, 14.988, 14.988, 14.988, 14.988, 14.988, 14.988, 14.988, 14.988, 14.988, 14.988, 14.988, 14.988, 14.988], [14.988, 14.988, 14.988, 14.988, 14.988, 14.988, 14.988, 14.988, 14.988, 14.988, 14.988, 14.988, 14.988, 14.988, 14.988, 14.988], [14.988, 14.988, 14.988, 14.988, 14.988, 14.988, 14.988, 14.988, 14.988, 14.988, 14.988, 14.988, 14.988, 14.988, 14.988, 14.988], [14.988, 14.988, 14.988, 14.988, 14.988, 14.988, 14.988, 14.988, 14.988, 14.988, 14.988, 14.988, 14.988, 14.988, 14.988, 14.988], [14.988, 14.988, 14.988, 14.988, 14.988, 14.988, 14.988, 14.988, 14.988, 14.988, 14.988, 14.988, 14.988, 14.988, 14.988, 14.988]], \"showscale\": false, \"colorscale\": \"Jet\", \"uid\": \"5ebd86a5-e237-11e8-bd72-001a7dda7111\", \"opacity\": 0.7, \"type\": \"surface\"}], {\"width\": 800, \"height\": 700, \"title\": \"S8toiPad Model Varient (Exp. 81) (Test By Random Set 2)\", \"scene\": {\"xaxis\": {\"titlefont\": {\"size\": 14, \"color\": \"#ff0000\"}, \"zerolinecolor\": \"rgb(255, 255, 255)\", \"showbackground\": true, \"backgroundcolor\": \"rgb(200, 200, 230)\", \"title\": \"Hidden Layer Dim (X)\", \"gridcolor\": \"rgb(255, 255, 255)\"}, \"zaxis\": {\"titlefont\": {\"size\": 10, \"color\": \"#ff0000\"}, \"zerolinecolor\": \"rgb(255, 255, 255)\", \"showbackground\": true, \"backgroundcolor\": \"rgb(230, 230, 200)\", \"title\": \"Avg Diff (Z)\", \"gridcolor\": \"rgb(255, 255, 255)\"}, \"yaxis\": {\"titlefont\": {\"size\": 14, \"color\": \"#ff0000\"}, \"zerolinecolor\": \"rgb(255, 255, 255)\", \"showbackground\": true, \"backgroundcolor\": \"rgb(230, 200, 230)\", \"title\": \"Dense Layer Num (Y)\", \"nticks\": 5, \"gridcolor\": \"rgb(255, 255, 255)\", \"range\": [2, 6]}}}, {\"linkText\": \"Export to plot.ly\", \"showLink\": true})});</script>"
      ]
     },
     "metadata": {},
     "output_type": "display_data"
    }
   ],
   "source": [
    "trace = go.Scatter3d(\n",
    "    x=x1, y=y1, z=z1,\n",
    "    marker=dict(\n",
    "        size=8,\n",
    "        color=z1\n",
    "    ),\n",
    "    line=dict(\n",
    "        color='#1f77b4',\n",
    "        width=2\n",
    "    )\n",
    ")\n",
    "\n",
    "trace4 = go.Surface(\n",
    "    z=polyfit_list,\n",
    "    opacity=0.7,\n",
    "    colorscale='Jet',\n",
    "    showscale=False\n",
    ")\n",
    "\n",
    "data = [trace, trace4]\n",
    "layout = go.Layout(\n",
    "    width=800,\n",
    "    height=700,\n",
    "    title= title,\n",
    "    scene=dict(\n",
    "        xaxis=dict(\n",
    "            title='Hidden Layer Dim (X)',\n",
    "            titlefont=dict(\n",
    "                size=14,\n",
    "                color='#ff0000'\n",
    "            ),\n",
    "            gridcolor='rgb(255, 255, 255)',\n",
    "            zerolinecolor='rgb(255, 255, 255)',\n",
    "            showbackground=True,\n",
    "            backgroundcolor='rgb(200, 200, 230)'\n",
    "        ),\n",
    "        yaxis=dict(\n",
    "            nticks = 5,\n",
    "            range = [2, 6],\n",
    "            title='Dense Layer Num (Y)',\n",
    "            titlefont=dict(\n",
    "                size=14,\n",
    "                color='#ff0000'\n",
    "            ),\n",
    "            gridcolor='rgb(255, 255, 255)',\n",
    "            zerolinecolor='rgb(255, 255, 255)',\n",
    "            showbackground=True,\n",
    "            backgroundcolor='rgb(230, 200, 230)'\n",
    "        ),\n",
    "        zaxis=dict(\n",
    "            title='Avg Diff (Z)',\n",
    "            titlefont=dict(\n",
    "                size=10,\n",
    "                color='#ff0000'\n",
    "            ),\n",
    "            gridcolor='rgb(255, 255, 255)',\n",
    "            zerolinecolor='rgb(255, 255, 255)',\n",
    "            showbackground=True,\n",
    "            backgroundcolor='rgb(230, 230, 200)'\n",
    "        ),\n",
    "    )\n",
    ")\n",
    "\n",
    "fig = go.Figure(data=data, layout=layout)\n",
    "plotly.offline.iplot(fig)"
   ]
  },
  {
   "cell_type": "code",
   "execution_count": null,
   "metadata": {},
   "outputs": [],
   "source": []
  },
  {
   "cell_type": "code",
   "execution_count": 7,
   "metadata": {},
   "outputs": [
    {
     "data": {
      "text/plain": [
       "'file://C:\\\\Users\\\\Mig\\\\Documents\\\\Plotly-Practice\\\\experiment69-71(81)-RandomSet_2.html'"
      ]
     },
     "execution_count": 7,
     "metadata": {},
     "output_type": "execute_result"
    }
   ],
   "source": [
    "plotly.offline.plot(fig, filename=filename)"
   ]
  },
  {
   "cell_type": "code",
   "execution_count": null,
   "metadata": {},
   "outputs": [],
   "source": []
  }
 ],
 "metadata": {
  "kernelspec": {
   "display_name": "Python 3",
   "language": "python",
   "name": "python3"
  },
  "language_info": {
   "codemirror_mode": {
    "name": "ipython",
    "version": 3
   },
   "file_extension": ".py",
   "mimetype": "text/x-python",
   "name": "python",
   "nbconvert_exporter": "python",
   "pygments_lexer": "ipython3",
   "version": "3.5.6"
  }
 },
 "nbformat": 4,
 "nbformat_minor": 2
}
