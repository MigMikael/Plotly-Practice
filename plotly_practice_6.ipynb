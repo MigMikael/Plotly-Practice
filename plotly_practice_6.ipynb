{
 "cells": [
  {
   "cell_type": "code",
   "execution_count": 1,
   "metadata": {},
   "outputs": [],
   "source": [
    "title = \"S8toMotoC Model Varient (Exp. 72-74) (Test By Random Set)\"\n",
    "filename = 'experiment72-74-RandomSet.html'\n",
    "polyfit_diff = 17.718\n",
    "\n",
    "hidden_layer = [6, 9, 12, 15, 18, 21, 24, 27, 30, 33]"
   ]
  },
  {
   "cell_type": "code",
   "execution_count": 2,
   "metadata": {},
   "outputs": [],
   "source": [
    "# 3 Dense Layer \n",
    "# z1 = [15.224, 15.105, 14.827, 14.668, 14.417, 14.373, 14.391, 14.274, 14.28, 14.202]\n",
    "z1 = [17.519, 17.486, 18.29, 17.931, 18.828, 18.18, 18.541, 18.675, 18.607, 19.03]\n",
    "\n",
    "# 4 Dense Layer \n",
    "# z2 = [15.183, 14.747, 14.378, 14.126, 14.13, 14.045, 13.848, 13.883, 13.793, 13.792]\n",
    "z2 = [17.816, 18.138, 18.571, 18.98, 19.134, 19.189, 18.893, 19.639, 19.385, 19.146]\n",
    "\n",
    "# 5 Dense Layer \n",
    "# z3 = [14.96, 14.55, 14.214, 14.113, 13.871, 13.774, 13.757, 13.598, 13.591, 13.474]\n",
    "z3 = [18.101, 18.853, 18.87, 18.954, 19.2, 19.521, 19.344, 19.122, 19.303, 19.631]"
   ]
  },
  {
   "cell_type": "code",
   "execution_count": 3,
   "metadata": {},
   "outputs": [
    {
     "data": {
      "text/html": [
       "<script>requirejs.config({paths: { 'plotly': ['https://cdn.plot.ly/plotly-latest.min']},});if(!window.Plotly) {{require(['plotly'],function(plotly) {window.Plotly=plotly;});}}</script>"
      ],
      "text/vnd.plotly.v1+html": [
       "<script>requirejs.config({paths: { 'plotly': ['https://cdn.plot.ly/plotly-latest.min']},});if(!window.Plotly) {{require(['plotly'],function(plotly) {window.Plotly=plotly;});}}</script>"
      ]
     },
     "metadata": {},
     "output_type": "display_data"
    }
   ],
   "source": [
    "import plotly\n",
    "from plotly.offline import download_plotlyjs, init_notebook_mode, plot, iplot\n",
    "import plotly.graph_objs as go\n",
    "import pandas as pd\n",
    "import numpy as np\n",
    "\n",
    "init_notebook_mode(connected=True)\n",
    "# print(plotly.__version__) "
   ]
  },
  {
   "cell_type": "code",
   "execution_count": 4,
   "metadata": {},
   "outputs": [
    {
     "name": "stdout",
     "output_type": "stream",
     "text": [
      "6     17.519\n",
      "9     17.486\n",
      "12    18.290\n",
      "15    17.931\n",
      "18    18.828\n",
      "21    18.180\n",
      "24    18.541\n",
      "27    18.675\n",
      "30    18.607\n",
      "33    19.030\n",
      "dtype: float64\n"
     ]
    }
   ],
   "source": [
    "# 3 Dense Layer \n",
    "x1 = hidden_layer\n",
    "y1 = [3] * 10\n",
    "y1 = pd.Series(y1, index=x1)\n",
    "#print(y1)\n",
    "z1 = pd.Series(z1, index=x1)\n",
    "print(z1)"
   ]
  },
  {
   "cell_type": "code",
   "execution_count": 5,
   "metadata": {},
   "outputs": [
    {
     "name": "stdout",
     "output_type": "stream",
     "text": [
      "6     17.816\n",
      "9     18.138\n",
      "12    18.571\n",
      "15    18.980\n",
      "18    19.134\n",
      "21    19.189\n",
      "24    18.893\n",
      "27    19.639\n",
      "30    19.385\n",
      "33    19.146\n",
      "dtype: float64\n"
     ]
    }
   ],
   "source": [
    "# 4 Dense Layer\n",
    "x2 = hidden_layer\n",
    "y2 = [4] * 10\n",
    "y2 = pd.Series(y2, index=x2)\n",
    "#print(y2)\n",
    "z2 = pd.Series(z2, index=x2)\n",
    "print(z2)"
   ]
  },
  {
   "cell_type": "code",
   "execution_count": 6,
   "metadata": {},
   "outputs": [
    {
     "name": "stdout",
     "output_type": "stream",
     "text": [
      "6     18.101\n",
      "9     18.853\n",
      "12    18.870\n",
      "15    18.954\n",
      "18    19.200\n",
      "21    19.521\n",
      "24    19.344\n",
      "27    19.122\n",
      "30    19.303\n",
      "33    19.631\n",
      "dtype: float64\n"
     ]
    }
   ],
   "source": [
    "# 5 Dense Layer\n",
    "x3 = hidden_layer\n",
    "y3 = [5] * 10\n",
    "y3 = pd.Series(y3, index=x3)\n",
    "#print(y3)\n",
    "z3 = pd.Series(z3, index=x3)\n",
    "print(z3)"
   ]
  },
  {
   "cell_type": "code",
   "execution_count": 7,
   "metadata": {},
   "outputs": [],
   "source": [
    "polyfit = polyfit_diff\n",
    "polyfit_list = [[polyfit_diff] * 30] * 7\n",
    "#print(polyfit_list)"
   ]
  },
  {
   "cell_type": "code",
   "execution_count": 8,
   "metadata": {},
   "outputs": [
    {
     "data": {
      "application/vnd.plotly.v1+json": {
       "data": [
        {
         "line": {
          "color": "#1f77b4",
          "width": 2
         },
         "marker": {
          "color": [
           17.519,
           17.486,
           18.29,
           17.931,
           18.828,
           18.18,
           18.541,
           18.675,
           18.607,
           19.03
          ],
          "size": 8
         },
         "type": "scatter3d",
         "uid": "3a43adba-e117-11e8-9a49-001a7dda7111",
         "x": [
          6,
          9,
          12,
          15,
          18,
          21,
          24,
          27,
          30,
          33
         ],
         "y": [
          3,
          3,
          3,
          3,
          3,
          3,
          3,
          3,
          3,
          3
         ],
         "z": [
          17.519,
          17.486,
          18.29,
          17.931,
          18.828,
          18.18,
          18.541,
          18.675,
          18.607,
          19.03
         ]
        },
        {
         "line": {
          "color": "#1f77b4",
          "width": 2
         },
         "marker": {
          "color": [
           17.816,
           18.138,
           18.571,
           18.98,
           19.134,
           19.189,
           18.893,
           19.639,
           19.385,
           19.146
          ],
          "size": 8
         },
         "type": "scatter3d",
         "uid": "3a43adbb-e117-11e8-ac80-001a7dda7111",
         "x": [
          6,
          9,
          12,
          15,
          18,
          21,
          24,
          27,
          30,
          33
         ],
         "y": [
          4,
          4,
          4,
          4,
          4,
          4,
          4,
          4,
          4,
          4
         ],
         "z": [
          17.816,
          18.138,
          18.571,
          18.98,
          19.134,
          19.189,
          18.893,
          19.639,
          19.385,
          19.146
         ]
        },
        {
         "line": {
          "color": "#1f77b4",
          "width": 2
         },
         "marker": {
          "color": [
           18.101,
           18.853,
           18.87,
           18.954,
           19.2,
           19.521,
           19.344,
           19.122,
           19.303,
           19.631
          ],
          "size": 8
         },
         "type": "scatter3d",
         "uid": "3a43adbc-e117-11e8-a17a-001a7dda7111",
         "x": [
          6,
          9,
          12,
          15,
          18,
          21,
          24,
          27,
          30,
          33
         ],
         "y": [
          5,
          5,
          5,
          5,
          5,
          5,
          5,
          5,
          5,
          5
         ],
         "z": [
          18.101,
          18.853,
          18.87,
          18.954,
          19.2,
          19.521,
          19.344,
          19.122,
          19.303,
          19.631
         ]
        },
        {
         "colorscale": "Jet",
         "opacity": 0.7,
         "showscale": false,
         "type": "surface",
         "uid": "3a43adbd-e117-11e8-ac6e-001a7dda7111",
         "z": [
          [
           17.718,
           17.718,
           17.718,
           17.718,
           17.718,
           17.718,
           17.718,
           17.718,
           17.718,
           17.718,
           17.718,
           17.718,
           17.718,
           17.718,
           17.718,
           17.718,
           17.718,
           17.718,
           17.718,
           17.718,
           17.718,
           17.718,
           17.718,
           17.718,
           17.718,
           17.718,
           17.718,
           17.718,
           17.718,
           17.718
          ],
          [
           17.718,
           17.718,
           17.718,
           17.718,
           17.718,
           17.718,
           17.718,
           17.718,
           17.718,
           17.718,
           17.718,
           17.718,
           17.718,
           17.718,
           17.718,
           17.718,
           17.718,
           17.718,
           17.718,
           17.718,
           17.718,
           17.718,
           17.718,
           17.718,
           17.718,
           17.718,
           17.718,
           17.718,
           17.718,
           17.718
          ],
          [
           17.718,
           17.718,
           17.718,
           17.718,
           17.718,
           17.718,
           17.718,
           17.718,
           17.718,
           17.718,
           17.718,
           17.718,
           17.718,
           17.718,
           17.718,
           17.718,
           17.718,
           17.718,
           17.718,
           17.718,
           17.718,
           17.718,
           17.718,
           17.718,
           17.718,
           17.718,
           17.718,
           17.718,
           17.718,
           17.718
          ],
          [
           17.718,
           17.718,
           17.718,
           17.718,
           17.718,
           17.718,
           17.718,
           17.718,
           17.718,
           17.718,
           17.718,
           17.718,
           17.718,
           17.718,
           17.718,
           17.718,
           17.718,
           17.718,
           17.718,
           17.718,
           17.718,
           17.718,
           17.718,
           17.718,
           17.718,
           17.718,
           17.718,
           17.718,
           17.718,
           17.718
          ],
          [
           17.718,
           17.718,
           17.718,
           17.718,
           17.718,
           17.718,
           17.718,
           17.718,
           17.718,
           17.718,
           17.718,
           17.718,
           17.718,
           17.718,
           17.718,
           17.718,
           17.718,
           17.718,
           17.718,
           17.718,
           17.718,
           17.718,
           17.718,
           17.718,
           17.718,
           17.718,
           17.718,
           17.718,
           17.718,
           17.718
          ],
          [
           17.718,
           17.718,
           17.718,
           17.718,
           17.718,
           17.718,
           17.718,
           17.718,
           17.718,
           17.718,
           17.718,
           17.718,
           17.718,
           17.718,
           17.718,
           17.718,
           17.718,
           17.718,
           17.718,
           17.718,
           17.718,
           17.718,
           17.718,
           17.718,
           17.718,
           17.718,
           17.718,
           17.718,
           17.718,
           17.718
          ],
          [
           17.718,
           17.718,
           17.718,
           17.718,
           17.718,
           17.718,
           17.718,
           17.718,
           17.718,
           17.718,
           17.718,
           17.718,
           17.718,
           17.718,
           17.718,
           17.718,
           17.718,
           17.718,
           17.718,
           17.718,
           17.718,
           17.718,
           17.718,
           17.718,
           17.718,
           17.718,
           17.718,
           17.718,
           17.718,
           17.718
          ]
         ]
        }
       ],
       "layout": {
        "height": 700,
        "scene": {
         "xaxis": {
          "backgroundcolor": "rgb(200, 200, 230)",
          "gridcolor": "rgb(255, 255, 255)",
          "showbackground": true,
          "title": "Hidden Layer Dim (X)",
          "titlefont": {
           "color": "#ff0000",
           "size": 14
          },
          "zerolinecolor": "rgb(255, 255, 255)"
         },
         "yaxis": {
          "backgroundcolor": "rgb(230, 200, 230)",
          "gridcolor": "rgb(255, 255, 255)",
          "nticks": 5,
          "range": [
           2,
           6
          ],
          "showbackground": true,
          "title": "Dense Layer Num (Y)",
          "titlefont": {
           "color": "#ff0000",
           "size": 14
          },
          "zerolinecolor": "rgb(255, 255, 255)"
         },
         "zaxis": {
          "backgroundcolor": "rgb(230, 230, 200)",
          "gridcolor": "rgb(255, 255, 255)",
          "showbackground": true,
          "title": "Avg Diff (Z)",
          "titlefont": {
           "color": "#ff0000",
           "size": 10
          },
          "zerolinecolor": "rgb(255, 255, 255)"
         }
        },
        "title": "S8toMotoC Model Varient (Exp. 72-74) (Test By Random Set)",
        "width": 800
       }
      },
      "text/html": [
       "<div id=\"cdcea54e-0697-494f-a5a4-d3439bfa46ad\" style=\"height: 700px; width: 800px;\" class=\"plotly-graph-div\"></div><script type=\"text/javascript\">require([\"plotly\"], function(Plotly) { window.PLOTLYENV=window.PLOTLYENV || {};window.PLOTLYENV.BASE_URL=\"https://plot.ly\";Plotly.newPlot(\"cdcea54e-0697-494f-a5a4-d3439bfa46ad\", [{\"type\": \"scatter3d\", \"line\": {\"width\": 2, \"color\": \"#1f77b4\"}, \"uid\": \"3a43adba-e117-11e8-9a49-001a7dda7111\", \"z\": [17.519, 17.486, 18.29, 17.931, 18.828, 18.18, 18.541, 18.675, 18.607, 19.03], \"x\": [6, 9, 12, 15, 18, 21, 24, 27, 30, 33], \"y\": [3, 3, 3, 3, 3, 3, 3, 3, 3, 3], \"marker\": {\"size\": 8, \"color\": [17.519, 17.486, 18.29, 17.931, 18.828, 18.18, 18.541, 18.675, 18.607, 19.03]}}, {\"type\": \"scatter3d\", \"line\": {\"width\": 2, \"color\": \"#1f77b4\"}, \"uid\": \"3a43adbb-e117-11e8-ac80-001a7dda7111\", \"z\": [17.816, 18.138, 18.571, 18.98, 19.134, 19.189, 18.893, 19.639, 19.385, 19.146], \"x\": [6, 9, 12, 15, 18, 21, 24, 27, 30, 33], \"y\": [4, 4, 4, 4, 4, 4, 4, 4, 4, 4], \"marker\": {\"size\": 8, \"color\": [17.816, 18.138, 18.571, 18.98, 19.134, 19.189, 18.893, 19.639, 19.385, 19.146]}}, {\"type\": \"scatter3d\", \"line\": {\"width\": 2, \"color\": \"#1f77b4\"}, \"uid\": \"3a43adbc-e117-11e8-a17a-001a7dda7111\", \"z\": [18.101, 18.853, 18.87, 18.954, 19.2, 19.521, 19.344, 19.122, 19.303, 19.631], \"x\": [6, 9, 12, 15, 18, 21, 24, 27, 30, 33], \"y\": [5, 5, 5, 5, 5, 5, 5, 5, 5, 5], \"marker\": {\"size\": 8, \"color\": [18.101, 18.853, 18.87, 18.954, 19.2, 19.521, 19.344, 19.122, 19.303, 19.631]}}, {\"type\": \"surface\", \"opacity\": 0.7, \"uid\": \"3a43adbd-e117-11e8-ac6e-001a7dda7111\", \"z\": [[17.718, 17.718, 17.718, 17.718, 17.718, 17.718, 17.718, 17.718, 17.718, 17.718, 17.718, 17.718, 17.718, 17.718, 17.718, 17.718, 17.718, 17.718, 17.718, 17.718, 17.718, 17.718, 17.718, 17.718, 17.718, 17.718, 17.718, 17.718, 17.718, 17.718], [17.718, 17.718, 17.718, 17.718, 17.718, 17.718, 17.718, 17.718, 17.718, 17.718, 17.718, 17.718, 17.718, 17.718, 17.718, 17.718, 17.718, 17.718, 17.718, 17.718, 17.718, 17.718, 17.718, 17.718, 17.718, 17.718, 17.718, 17.718, 17.718, 17.718], [17.718, 17.718, 17.718, 17.718, 17.718, 17.718, 17.718, 17.718, 17.718, 17.718, 17.718, 17.718, 17.718, 17.718, 17.718, 17.718, 17.718, 17.718, 17.718, 17.718, 17.718, 17.718, 17.718, 17.718, 17.718, 17.718, 17.718, 17.718, 17.718, 17.718], [17.718, 17.718, 17.718, 17.718, 17.718, 17.718, 17.718, 17.718, 17.718, 17.718, 17.718, 17.718, 17.718, 17.718, 17.718, 17.718, 17.718, 17.718, 17.718, 17.718, 17.718, 17.718, 17.718, 17.718, 17.718, 17.718, 17.718, 17.718, 17.718, 17.718], [17.718, 17.718, 17.718, 17.718, 17.718, 17.718, 17.718, 17.718, 17.718, 17.718, 17.718, 17.718, 17.718, 17.718, 17.718, 17.718, 17.718, 17.718, 17.718, 17.718, 17.718, 17.718, 17.718, 17.718, 17.718, 17.718, 17.718, 17.718, 17.718, 17.718], [17.718, 17.718, 17.718, 17.718, 17.718, 17.718, 17.718, 17.718, 17.718, 17.718, 17.718, 17.718, 17.718, 17.718, 17.718, 17.718, 17.718, 17.718, 17.718, 17.718, 17.718, 17.718, 17.718, 17.718, 17.718, 17.718, 17.718, 17.718, 17.718, 17.718], [17.718, 17.718, 17.718, 17.718, 17.718, 17.718, 17.718, 17.718, 17.718, 17.718, 17.718, 17.718, 17.718, 17.718, 17.718, 17.718, 17.718, 17.718, 17.718, 17.718, 17.718, 17.718, 17.718, 17.718, 17.718, 17.718, 17.718, 17.718, 17.718, 17.718]], \"showscale\": false, \"colorscale\": \"Jet\"}], {\"scene\": {\"yaxis\": {\"gridcolor\": \"rgb(255, 255, 255)\", \"zerolinecolor\": \"rgb(255, 255, 255)\", \"range\": [2, 6], \"backgroundcolor\": \"rgb(230, 200, 230)\", \"showbackground\": true, \"titlefont\": {\"size\": 14, \"color\": \"#ff0000\"}, \"nticks\": 5, \"title\": \"Dense Layer Num (Y)\"}, \"zaxis\": {\"gridcolor\": \"rgb(255, 255, 255)\", \"zerolinecolor\": \"rgb(255, 255, 255)\", \"backgroundcolor\": \"rgb(230, 230, 200)\", \"showbackground\": true, \"titlefont\": {\"size\": 10, \"color\": \"#ff0000\"}, \"title\": \"Avg Diff (Z)\"}, \"xaxis\": {\"gridcolor\": \"rgb(255, 255, 255)\", \"zerolinecolor\": \"rgb(255, 255, 255)\", \"backgroundcolor\": \"rgb(200, 200, 230)\", \"showbackground\": true, \"titlefont\": {\"size\": 14, \"color\": \"#ff0000\"}, \"title\": \"Hidden Layer Dim (X)\"}}, \"width\": 800, \"height\": 700, \"title\": \"S8toMotoC Model Varient (Exp. 72-74) (Test By Random Set)\"}, {\"linkText\": \"Export to plot.ly\", \"showLink\": true})});</script>"
      ],
      "text/vnd.plotly.v1+html": [
       "<div id=\"cdcea54e-0697-494f-a5a4-d3439bfa46ad\" style=\"height: 700px; width: 800px;\" class=\"plotly-graph-div\"></div><script type=\"text/javascript\">require([\"plotly\"], function(Plotly) { window.PLOTLYENV=window.PLOTLYENV || {};window.PLOTLYENV.BASE_URL=\"https://plot.ly\";Plotly.newPlot(\"cdcea54e-0697-494f-a5a4-d3439bfa46ad\", [{\"type\": \"scatter3d\", \"line\": {\"width\": 2, \"color\": \"#1f77b4\"}, \"uid\": \"3a43adba-e117-11e8-9a49-001a7dda7111\", \"z\": [17.519, 17.486, 18.29, 17.931, 18.828, 18.18, 18.541, 18.675, 18.607, 19.03], \"x\": [6, 9, 12, 15, 18, 21, 24, 27, 30, 33], \"y\": [3, 3, 3, 3, 3, 3, 3, 3, 3, 3], \"marker\": {\"size\": 8, \"color\": [17.519, 17.486, 18.29, 17.931, 18.828, 18.18, 18.541, 18.675, 18.607, 19.03]}}, {\"type\": \"scatter3d\", \"line\": {\"width\": 2, \"color\": \"#1f77b4\"}, \"uid\": \"3a43adbb-e117-11e8-ac80-001a7dda7111\", \"z\": [17.816, 18.138, 18.571, 18.98, 19.134, 19.189, 18.893, 19.639, 19.385, 19.146], \"x\": [6, 9, 12, 15, 18, 21, 24, 27, 30, 33], \"y\": [4, 4, 4, 4, 4, 4, 4, 4, 4, 4], \"marker\": {\"size\": 8, \"color\": [17.816, 18.138, 18.571, 18.98, 19.134, 19.189, 18.893, 19.639, 19.385, 19.146]}}, {\"type\": \"scatter3d\", \"line\": {\"width\": 2, \"color\": \"#1f77b4\"}, \"uid\": \"3a43adbc-e117-11e8-a17a-001a7dda7111\", \"z\": [18.101, 18.853, 18.87, 18.954, 19.2, 19.521, 19.344, 19.122, 19.303, 19.631], \"x\": [6, 9, 12, 15, 18, 21, 24, 27, 30, 33], \"y\": [5, 5, 5, 5, 5, 5, 5, 5, 5, 5], \"marker\": {\"size\": 8, \"color\": [18.101, 18.853, 18.87, 18.954, 19.2, 19.521, 19.344, 19.122, 19.303, 19.631]}}, {\"type\": \"surface\", \"opacity\": 0.7, \"uid\": \"3a43adbd-e117-11e8-ac6e-001a7dda7111\", \"z\": [[17.718, 17.718, 17.718, 17.718, 17.718, 17.718, 17.718, 17.718, 17.718, 17.718, 17.718, 17.718, 17.718, 17.718, 17.718, 17.718, 17.718, 17.718, 17.718, 17.718, 17.718, 17.718, 17.718, 17.718, 17.718, 17.718, 17.718, 17.718, 17.718, 17.718], [17.718, 17.718, 17.718, 17.718, 17.718, 17.718, 17.718, 17.718, 17.718, 17.718, 17.718, 17.718, 17.718, 17.718, 17.718, 17.718, 17.718, 17.718, 17.718, 17.718, 17.718, 17.718, 17.718, 17.718, 17.718, 17.718, 17.718, 17.718, 17.718, 17.718], [17.718, 17.718, 17.718, 17.718, 17.718, 17.718, 17.718, 17.718, 17.718, 17.718, 17.718, 17.718, 17.718, 17.718, 17.718, 17.718, 17.718, 17.718, 17.718, 17.718, 17.718, 17.718, 17.718, 17.718, 17.718, 17.718, 17.718, 17.718, 17.718, 17.718], [17.718, 17.718, 17.718, 17.718, 17.718, 17.718, 17.718, 17.718, 17.718, 17.718, 17.718, 17.718, 17.718, 17.718, 17.718, 17.718, 17.718, 17.718, 17.718, 17.718, 17.718, 17.718, 17.718, 17.718, 17.718, 17.718, 17.718, 17.718, 17.718, 17.718], [17.718, 17.718, 17.718, 17.718, 17.718, 17.718, 17.718, 17.718, 17.718, 17.718, 17.718, 17.718, 17.718, 17.718, 17.718, 17.718, 17.718, 17.718, 17.718, 17.718, 17.718, 17.718, 17.718, 17.718, 17.718, 17.718, 17.718, 17.718, 17.718, 17.718], [17.718, 17.718, 17.718, 17.718, 17.718, 17.718, 17.718, 17.718, 17.718, 17.718, 17.718, 17.718, 17.718, 17.718, 17.718, 17.718, 17.718, 17.718, 17.718, 17.718, 17.718, 17.718, 17.718, 17.718, 17.718, 17.718, 17.718, 17.718, 17.718, 17.718], [17.718, 17.718, 17.718, 17.718, 17.718, 17.718, 17.718, 17.718, 17.718, 17.718, 17.718, 17.718, 17.718, 17.718, 17.718, 17.718, 17.718, 17.718, 17.718, 17.718, 17.718, 17.718, 17.718, 17.718, 17.718, 17.718, 17.718, 17.718, 17.718, 17.718]], \"showscale\": false, \"colorscale\": \"Jet\"}], {\"scene\": {\"yaxis\": {\"gridcolor\": \"rgb(255, 255, 255)\", \"zerolinecolor\": \"rgb(255, 255, 255)\", \"range\": [2, 6], \"backgroundcolor\": \"rgb(230, 200, 230)\", \"showbackground\": true, \"titlefont\": {\"size\": 14, \"color\": \"#ff0000\"}, \"nticks\": 5, \"title\": \"Dense Layer Num (Y)\"}, \"zaxis\": {\"gridcolor\": \"rgb(255, 255, 255)\", \"zerolinecolor\": \"rgb(255, 255, 255)\", \"backgroundcolor\": \"rgb(230, 230, 200)\", \"showbackground\": true, \"titlefont\": {\"size\": 10, \"color\": \"#ff0000\"}, \"title\": \"Avg Diff (Z)\"}, \"xaxis\": {\"gridcolor\": \"rgb(255, 255, 255)\", \"zerolinecolor\": \"rgb(255, 255, 255)\", \"backgroundcolor\": \"rgb(200, 200, 230)\", \"showbackground\": true, \"titlefont\": {\"size\": 14, \"color\": \"#ff0000\"}, \"title\": \"Hidden Layer Dim (X)\"}}, \"width\": 800, \"height\": 700, \"title\": \"S8toMotoC Model Varient (Exp. 72-74) (Test By Random Set)\"}, {\"linkText\": \"Export to plot.ly\", \"showLink\": true})});</script>"
      ]
     },
     "metadata": {},
     "output_type": "display_data"
    }
   ],
   "source": [
    "trace = go.Scatter3d(\n",
    "    x=x1, y=y1, z=z1,\n",
    "    marker=dict(\n",
    "        size=8,\n",
    "        color=z1\n",
    "    ),\n",
    "    line=dict(\n",
    "        color='#1f77b4',\n",
    "        width=2\n",
    "    )\n",
    ")\n",
    "\n",
    "trace2 = go.Scatter3d(\n",
    "    x=x2, y=y2, z=z2,\n",
    "    marker=dict(\n",
    "        size=8,\n",
    "        color=z2\n",
    "    ),\n",
    "    line=dict(\n",
    "        color='#1f77b4',\n",
    "        width=2\n",
    "    )\n",
    ")\n",
    "\n",
    "trace3 = go.Scatter3d(\n",
    "    x=x3, y=y3, z=z3,\n",
    "    marker=dict(\n",
    "        size=8,\n",
    "        color=z3\n",
    "    ),\n",
    "    line=dict(\n",
    "        color='#1f77b4',\n",
    "        width=2\n",
    "    )\n",
    ")\n",
    "\n",
    "trace4 = go.Surface(\n",
    "    z=polyfit_list,\n",
    "    opacity=0.7,\n",
    "    colorscale='Jet',\n",
    "    showscale=False\n",
    ")\n",
    "\n",
    "data = [trace, trace2, trace3, trace4]\n",
    "layout = go.Layout(\n",
    "    width=800,\n",
    "    height=700,\n",
    "    title= title,\n",
    "    scene=dict(\n",
    "        xaxis=dict(\n",
    "            title='Hidden Layer Dim (X)',\n",
    "            titlefont=dict(\n",
    "                size=14,\n",
    "                color='#ff0000'\n",
    "            ),\n",
    "            gridcolor='rgb(255, 255, 255)',\n",
    "            zerolinecolor='rgb(255, 255, 255)',\n",
    "            showbackground=True,\n",
    "            backgroundcolor='rgb(200, 200, 230)'\n",
    "        ),\n",
    "        yaxis=dict(\n",
    "            nticks = 5,\n",
    "            range = [2, 6],\n",
    "            title='Dense Layer Num (Y)',\n",
    "            titlefont=dict(\n",
    "                size=14,\n",
    "                color='#ff0000'\n",
    "            ),\n",
    "            gridcolor='rgb(255, 255, 255)',\n",
    "            zerolinecolor='rgb(255, 255, 255)',\n",
    "            showbackground=True,\n",
    "            backgroundcolor='rgb(230, 200, 230)'\n",
    "        ),\n",
    "        zaxis=dict(\n",
    "            title='Avg Diff (Z)',\n",
    "            titlefont=dict(\n",
    "                size=10,\n",
    "                color='#ff0000'\n",
    "            ),\n",
    "            gridcolor='rgb(255, 255, 255)',\n",
    "            zerolinecolor='rgb(255, 255, 255)',\n",
    "            showbackground=True,\n",
    "            backgroundcolor='rgb(230, 230, 200)'\n",
    "        ),\n",
    "    )\n",
    ")\n",
    "\n",
    "fig = go.Figure(data=data, layout=layout)\n",
    "plotly.offline.iplot(fig)"
   ]
  },
  {
   "cell_type": "code",
   "execution_count": null,
   "metadata": {},
   "outputs": [],
   "source": []
  },
  {
   "cell_type": "code",
   "execution_count": 9,
   "metadata": {},
   "outputs": [
    {
     "data": {
      "text/plain": [
       "'file://C:\\\\Users\\\\Mig\\\\Documents\\\\Plotly-Practice\\\\experiment72-74-RandomSet.html'"
      ]
     },
     "execution_count": 9,
     "metadata": {},
     "output_type": "execute_result"
    }
   ],
   "source": [
    "plotly.offline.plot(fig, filename=filename)"
   ]
  },
  {
   "cell_type": "code",
   "execution_count": null,
   "metadata": {},
   "outputs": [],
   "source": []
  }
 ],
 "metadata": {
  "kernelspec": {
   "display_name": "Python 3",
   "language": "python",
   "name": "python3"
  },
  "language_info": {
   "codemirror_mode": {
    "name": "ipython",
    "version": 3
   },
   "file_extension": ".py",
   "mimetype": "text/x-python",
   "name": "python",
   "nbconvert_exporter": "python",
   "pygments_lexer": "ipython3",
   "version": "3.5.6"
  }
 },
 "nbformat": 4,
 "nbformat_minor": 2
}
