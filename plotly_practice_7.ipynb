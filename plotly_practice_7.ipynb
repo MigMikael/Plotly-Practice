{
 "cells": [
  {
   "cell_type": "code",
   "execution_count": 1,
   "metadata": {},
   "outputs": [],
   "source": [
    "title = \"MotoCtoS8 Model Varient (Exp. 75-77) (Test By Random Set)\"\n",
    "filename = 'experiment75-77-RandomSet.html'\n",
    "polyfit_diff = 17.161\n",
    "\n",
    "hidden_layer = [6, 9, 12, 15, 18, 21, 24, 27, 30, 33]"
   ]
  },
  {
   "cell_type": "code",
   "execution_count": 2,
   "metadata": {},
   "outputs": [],
   "source": [
    "# 3 Dense Layer \n",
    "# z1 = [14.921, 14.34, 14.003, 13.871, 13.402, 13.379, 13.248, 13.314, 13.228, 13.147]\n",
    "z1 = [17.854, 16.872, 17.511, 17.421, 18.503, 18.681, 18.153, 17.709, 18.113, 18.105]\n",
    "\n",
    "# 4 Dense Layer \n",
    "# z2 = [14.467, 13.821, 13.485, 13.139, 13.132, 12.896, 12.774, 12.812, 12.742, 12.714]\n",
    "z2 = [18.294, 17.617, 18.134, 18.87, 18.732, 18.405, 18.797, 18.637, 19.082, 18.879]\n",
    "\n",
    "# 5 Dense Layer \n",
    "# z3 = [14.025, 13.621, 13.212, 13.021, 12.843, 12.745, 12.651, 12.529, 12.482, 12.39]\n",
    "z3 = [18.744, 17.588, 18.52, 18.687, 18.523, 18.996, 18.919, 18.904, 19.283, 18.765]"
   ]
  },
  {
   "cell_type": "code",
   "execution_count": 3,
   "metadata": {},
   "outputs": [
    {
     "data": {
      "text/html": [
       "<script>requirejs.config({paths: { 'plotly': ['https://cdn.plot.ly/plotly-latest.min']},});if(!window.Plotly) {{require(['plotly'],function(plotly) {window.Plotly=plotly;});}}</script>"
      ],
      "text/vnd.plotly.v1+html": [
       "<script>requirejs.config({paths: { 'plotly': ['https://cdn.plot.ly/plotly-latest.min']},});if(!window.Plotly) {{require(['plotly'],function(plotly) {window.Plotly=plotly;});}}</script>"
      ]
     },
     "metadata": {},
     "output_type": "display_data"
    }
   ],
   "source": [
    "import plotly\n",
    "from plotly.offline import download_plotlyjs, init_notebook_mode, plot, iplot\n",
    "import plotly.graph_objs as go\n",
    "import pandas as pd\n",
    "import numpy as np\n",
    "\n",
    "init_notebook_mode(connected=True)\n",
    "# print(plotly.__version__) "
   ]
  },
  {
   "cell_type": "code",
   "execution_count": 4,
   "metadata": {},
   "outputs": [
    {
     "name": "stdout",
     "output_type": "stream",
     "text": [
      "6     17.854\n",
      "9     16.872\n",
      "12    17.511\n",
      "15    17.421\n",
      "18    18.503\n",
      "21    18.681\n",
      "24    18.153\n",
      "27    17.709\n",
      "30    18.113\n",
      "33    18.105\n",
      "dtype: float64\n"
     ]
    }
   ],
   "source": [
    "# 3 Dense Layer \n",
    "x1 = hidden_layer\n",
    "y1 = [3] * 10\n",
    "y1 = pd.Series(y1, index=x1)\n",
    "#print(y1)\n",
    "z1 = pd.Series(z1, index=x1)\n",
    "print(z1)"
   ]
  },
  {
   "cell_type": "code",
   "execution_count": 5,
   "metadata": {},
   "outputs": [
    {
     "name": "stdout",
     "output_type": "stream",
     "text": [
      "6     18.294\n",
      "9     17.617\n",
      "12    18.134\n",
      "15    18.870\n",
      "18    18.732\n",
      "21    18.405\n",
      "24    18.797\n",
      "27    18.637\n",
      "30    19.082\n",
      "33    18.879\n",
      "dtype: float64\n"
     ]
    }
   ],
   "source": [
    "# 4 Dense Layer\n",
    "x2 = hidden_layer\n",
    "y2 = [4] * 10\n",
    "y2 = pd.Series(y2, index=x2)\n",
    "#print(y2)\n",
    "z2 = pd.Series(z2, index=x2)\n",
    "print(z2)"
   ]
  },
  {
   "cell_type": "code",
   "execution_count": 6,
   "metadata": {},
   "outputs": [
    {
     "name": "stdout",
     "output_type": "stream",
     "text": [
      "6     18.744\n",
      "9     17.588\n",
      "12    18.520\n",
      "15    18.687\n",
      "18    18.523\n",
      "21    18.996\n",
      "24    18.919\n",
      "27    18.904\n",
      "30    19.283\n",
      "33    18.765\n",
      "dtype: float64\n"
     ]
    }
   ],
   "source": [
    "# 5 Dense Layer\n",
    "x3 = hidden_layer\n",
    "y3 = [5] * 10\n",
    "y3 = pd.Series(y3, index=x3)\n",
    "#print(y3)\n",
    "z3 = pd.Series(z3, index=x3)\n",
    "print(z3)"
   ]
  },
  {
   "cell_type": "code",
   "execution_count": 7,
   "metadata": {},
   "outputs": [],
   "source": [
    "polyfit = polyfit_diff\n",
    "polyfit_list = [[polyfit_diff] * 30] * 7\n",
    "#print(polyfit_list)"
   ]
  },
  {
   "cell_type": "code",
   "execution_count": 8,
   "metadata": {},
   "outputs": [
    {
     "data": {
      "application/vnd.plotly.v1+json": {
       "data": [
        {
         "line": {
          "color": "#1f77b4",
          "width": 2
         },
         "marker": {
          "color": [
           17.854,
           16.872,
           17.511,
           17.421,
           18.503,
           18.681,
           18.153,
           17.709,
           18.113,
           18.105
          ],
          "size": 8
         },
         "type": "scatter3d",
         "uid": "efcdac64-e117-11e8-8ac9-001a7dda7111",
         "x": [
          6,
          9,
          12,
          15,
          18,
          21,
          24,
          27,
          30,
          33
         ],
         "y": [
          3,
          3,
          3,
          3,
          3,
          3,
          3,
          3,
          3,
          3
         ],
         "z": [
          17.854,
          16.872,
          17.511,
          17.421,
          18.503,
          18.681,
          18.153,
          17.709,
          18.113,
          18.105
         ]
        },
        {
         "line": {
          "color": "#1f77b4",
          "width": 2
         },
         "marker": {
          "color": [
           18.294,
           17.617,
           18.134,
           18.87,
           18.732,
           18.405,
           18.797,
           18.637,
           19.082,
           18.879
          ],
          "size": 8
         },
         "type": "scatter3d",
         "uid": "efcdac65-e117-11e8-8abf-001a7dda7111",
         "x": [
          6,
          9,
          12,
          15,
          18,
          21,
          24,
          27,
          30,
          33
         ],
         "y": [
          4,
          4,
          4,
          4,
          4,
          4,
          4,
          4,
          4,
          4
         ],
         "z": [
          18.294,
          17.617,
          18.134,
          18.87,
          18.732,
          18.405,
          18.797,
          18.637,
          19.082,
          18.879
         ]
        },
        {
         "line": {
          "color": "#1f77b4",
          "width": 2
         },
         "marker": {
          "color": [
           18.744,
           17.588,
           18.52,
           18.687,
           18.523,
           18.996,
           18.919,
           18.904,
           19.283,
           18.765
          ],
          "size": 8
         },
         "type": "scatter3d",
         "uid": "efcdac66-e117-11e8-8365-001a7dda7111",
         "x": [
          6,
          9,
          12,
          15,
          18,
          21,
          24,
          27,
          30,
          33
         ],
         "y": [
          5,
          5,
          5,
          5,
          5,
          5,
          5,
          5,
          5,
          5
         ],
         "z": [
          18.744,
          17.588,
          18.52,
          18.687,
          18.523,
          18.996,
          18.919,
          18.904,
          19.283,
          18.765
         ]
        },
        {
         "colorscale": "Jet",
         "opacity": 0.7,
         "showscale": false,
         "type": "surface",
         "uid": "efcdac67-e117-11e8-8775-001a7dda7111",
         "z": [
          [
           17.161,
           17.161,
           17.161,
           17.161,
           17.161,
           17.161,
           17.161,
           17.161,
           17.161,
           17.161,
           17.161,
           17.161,
           17.161,
           17.161,
           17.161,
           17.161,
           17.161,
           17.161,
           17.161,
           17.161,
           17.161,
           17.161,
           17.161,
           17.161,
           17.161,
           17.161,
           17.161,
           17.161,
           17.161,
           17.161
          ],
          [
           17.161,
           17.161,
           17.161,
           17.161,
           17.161,
           17.161,
           17.161,
           17.161,
           17.161,
           17.161,
           17.161,
           17.161,
           17.161,
           17.161,
           17.161,
           17.161,
           17.161,
           17.161,
           17.161,
           17.161,
           17.161,
           17.161,
           17.161,
           17.161,
           17.161,
           17.161,
           17.161,
           17.161,
           17.161,
           17.161
          ],
          [
           17.161,
           17.161,
           17.161,
           17.161,
           17.161,
           17.161,
           17.161,
           17.161,
           17.161,
           17.161,
           17.161,
           17.161,
           17.161,
           17.161,
           17.161,
           17.161,
           17.161,
           17.161,
           17.161,
           17.161,
           17.161,
           17.161,
           17.161,
           17.161,
           17.161,
           17.161,
           17.161,
           17.161,
           17.161,
           17.161
          ],
          [
           17.161,
           17.161,
           17.161,
           17.161,
           17.161,
           17.161,
           17.161,
           17.161,
           17.161,
           17.161,
           17.161,
           17.161,
           17.161,
           17.161,
           17.161,
           17.161,
           17.161,
           17.161,
           17.161,
           17.161,
           17.161,
           17.161,
           17.161,
           17.161,
           17.161,
           17.161,
           17.161,
           17.161,
           17.161,
           17.161
          ],
          [
           17.161,
           17.161,
           17.161,
           17.161,
           17.161,
           17.161,
           17.161,
           17.161,
           17.161,
           17.161,
           17.161,
           17.161,
           17.161,
           17.161,
           17.161,
           17.161,
           17.161,
           17.161,
           17.161,
           17.161,
           17.161,
           17.161,
           17.161,
           17.161,
           17.161,
           17.161,
           17.161,
           17.161,
           17.161,
           17.161
          ],
          [
           17.161,
           17.161,
           17.161,
           17.161,
           17.161,
           17.161,
           17.161,
           17.161,
           17.161,
           17.161,
           17.161,
           17.161,
           17.161,
           17.161,
           17.161,
           17.161,
           17.161,
           17.161,
           17.161,
           17.161,
           17.161,
           17.161,
           17.161,
           17.161,
           17.161,
           17.161,
           17.161,
           17.161,
           17.161,
           17.161
          ],
          [
           17.161,
           17.161,
           17.161,
           17.161,
           17.161,
           17.161,
           17.161,
           17.161,
           17.161,
           17.161,
           17.161,
           17.161,
           17.161,
           17.161,
           17.161,
           17.161,
           17.161,
           17.161,
           17.161,
           17.161,
           17.161,
           17.161,
           17.161,
           17.161,
           17.161,
           17.161,
           17.161,
           17.161,
           17.161,
           17.161
          ]
         ]
        }
       ],
       "layout": {
        "height": 700,
        "scene": {
         "xaxis": {
          "backgroundcolor": "rgb(200, 200, 230)",
          "gridcolor": "rgb(255, 255, 255)",
          "showbackground": true,
          "title": "Hidden Layer Dim (X)",
          "titlefont": {
           "color": "#ff0000",
           "size": 14
          },
          "zerolinecolor": "rgb(255, 255, 255)"
         },
         "yaxis": {
          "backgroundcolor": "rgb(230, 200, 230)",
          "gridcolor": "rgb(255, 255, 255)",
          "nticks": 5,
          "range": [
           2,
           6
          ],
          "showbackground": true,
          "title": "Dense Layer Num (Y)",
          "titlefont": {
           "color": "#ff0000",
           "size": 14
          },
          "zerolinecolor": "rgb(255, 255, 255)"
         },
         "zaxis": {
          "backgroundcolor": "rgb(230, 230, 200)",
          "gridcolor": "rgb(255, 255, 255)",
          "showbackground": true,
          "title": "Avg Diff (Z)",
          "titlefont": {
           "color": "#ff0000",
           "size": 10
          },
          "zerolinecolor": "rgb(255, 255, 255)"
         }
        },
        "title": "MotoCtoS8 Model Varient (Exp. 75-77) (Test By Random Set)",
        "width": 800
       }
      },
      "text/html": [
       "<div id=\"2d92ed04-5436-4e3e-a94b-3c866da959dc\" style=\"height: 700px; width: 800px;\" class=\"plotly-graph-div\"></div><script type=\"text/javascript\">require([\"plotly\"], function(Plotly) { window.PLOTLYENV=window.PLOTLYENV || {};window.PLOTLYENV.BASE_URL=\"https://plot.ly\";Plotly.newPlot(\"2d92ed04-5436-4e3e-a94b-3c866da959dc\", [{\"uid\": \"efcdac64-e117-11e8-8ac9-001a7dda7111\", \"marker\": {\"size\": 8, \"color\": [17.854, 16.872, 17.511, 17.421, 18.503, 18.681, 18.153, 17.709, 18.113, 18.105]}, \"z\": [17.854, 16.872, 17.511, 17.421, 18.503, 18.681, 18.153, 17.709, 18.113, 18.105], \"y\": [3, 3, 3, 3, 3, 3, 3, 3, 3, 3], \"line\": {\"width\": 2, \"color\": \"#1f77b4\"}, \"type\": \"scatter3d\", \"x\": [6, 9, 12, 15, 18, 21, 24, 27, 30, 33]}, {\"uid\": \"efcdac65-e117-11e8-8abf-001a7dda7111\", \"marker\": {\"size\": 8, \"color\": [18.294, 17.617, 18.134, 18.87, 18.732, 18.405, 18.797, 18.637, 19.082, 18.879]}, \"z\": [18.294, 17.617, 18.134, 18.87, 18.732, 18.405, 18.797, 18.637, 19.082, 18.879], \"y\": [4, 4, 4, 4, 4, 4, 4, 4, 4, 4], \"line\": {\"width\": 2, \"color\": \"#1f77b4\"}, \"type\": \"scatter3d\", \"x\": [6, 9, 12, 15, 18, 21, 24, 27, 30, 33]}, {\"uid\": \"efcdac66-e117-11e8-8365-001a7dda7111\", \"marker\": {\"size\": 8, \"color\": [18.744, 17.588, 18.52, 18.687, 18.523, 18.996, 18.919, 18.904, 19.283, 18.765]}, \"z\": [18.744, 17.588, 18.52, 18.687, 18.523, 18.996, 18.919, 18.904, 19.283, 18.765], \"y\": [5, 5, 5, 5, 5, 5, 5, 5, 5, 5], \"line\": {\"width\": 2, \"color\": \"#1f77b4\"}, \"type\": \"scatter3d\", \"x\": [6, 9, 12, 15, 18, 21, 24, 27, 30, 33]}, {\"colorscale\": \"Jet\", \"uid\": \"efcdac67-e117-11e8-8775-001a7dda7111\", \"z\": [[17.161, 17.161, 17.161, 17.161, 17.161, 17.161, 17.161, 17.161, 17.161, 17.161, 17.161, 17.161, 17.161, 17.161, 17.161, 17.161, 17.161, 17.161, 17.161, 17.161, 17.161, 17.161, 17.161, 17.161, 17.161, 17.161, 17.161, 17.161, 17.161, 17.161], [17.161, 17.161, 17.161, 17.161, 17.161, 17.161, 17.161, 17.161, 17.161, 17.161, 17.161, 17.161, 17.161, 17.161, 17.161, 17.161, 17.161, 17.161, 17.161, 17.161, 17.161, 17.161, 17.161, 17.161, 17.161, 17.161, 17.161, 17.161, 17.161, 17.161], [17.161, 17.161, 17.161, 17.161, 17.161, 17.161, 17.161, 17.161, 17.161, 17.161, 17.161, 17.161, 17.161, 17.161, 17.161, 17.161, 17.161, 17.161, 17.161, 17.161, 17.161, 17.161, 17.161, 17.161, 17.161, 17.161, 17.161, 17.161, 17.161, 17.161], [17.161, 17.161, 17.161, 17.161, 17.161, 17.161, 17.161, 17.161, 17.161, 17.161, 17.161, 17.161, 17.161, 17.161, 17.161, 17.161, 17.161, 17.161, 17.161, 17.161, 17.161, 17.161, 17.161, 17.161, 17.161, 17.161, 17.161, 17.161, 17.161, 17.161], [17.161, 17.161, 17.161, 17.161, 17.161, 17.161, 17.161, 17.161, 17.161, 17.161, 17.161, 17.161, 17.161, 17.161, 17.161, 17.161, 17.161, 17.161, 17.161, 17.161, 17.161, 17.161, 17.161, 17.161, 17.161, 17.161, 17.161, 17.161, 17.161, 17.161], [17.161, 17.161, 17.161, 17.161, 17.161, 17.161, 17.161, 17.161, 17.161, 17.161, 17.161, 17.161, 17.161, 17.161, 17.161, 17.161, 17.161, 17.161, 17.161, 17.161, 17.161, 17.161, 17.161, 17.161, 17.161, 17.161, 17.161, 17.161, 17.161, 17.161], [17.161, 17.161, 17.161, 17.161, 17.161, 17.161, 17.161, 17.161, 17.161, 17.161, 17.161, 17.161, 17.161, 17.161, 17.161, 17.161, 17.161, 17.161, 17.161, 17.161, 17.161, 17.161, 17.161, 17.161, 17.161, 17.161, 17.161, 17.161, 17.161, 17.161]], \"opacity\": 0.7, \"type\": \"surface\", \"showscale\": false}], {\"width\": 800, \"height\": 700, \"title\": \"MotoCtoS8 Model Varient (Exp. 75-77) (Test By Random Set)\", \"scene\": {\"yaxis\": {\"range\": [2, 6], \"showbackground\": true, \"titlefont\": {\"size\": 14, \"color\": \"#ff0000\"}, \"nticks\": 5, \"zerolinecolor\": \"rgb(255, 255, 255)\", \"gridcolor\": \"rgb(255, 255, 255)\", \"title\": \"Dense Layer Num (Y)\", \"backgroundcolor\": \"rgb(230, 200, 230)\"}, \"zaxis\": {\"showbackground\": true, \"titlefont\": {\"size\": 10, \"color\": \"#ff0000\"}, \"zerolinecolor\": \"rgb(255, 255, 255)\", \"gridcolor\": \"rgb(255, 255, 255)\", \"title\": \"Avg Diff (Z)\", \"backgroundcolor\": \"rgb(230, 230, 200)\"}, \"xaxis\": {\"showbackground\": true, \"titlefont\": {\"size\": 14, \"color\": \"#ff0000\"}, \"zerolinecolor\": \"rgb(255, 255, 255)\", \"gridcolor\": \"rgb(255, 255, 255)\", \"title\": \"Hidden Layer Dim (X)\", \"backgroundcolor\": \"rgb(200, 200, 230)\"}}}, {\"showLink\": true, \"linkText\": \"Export to plot.ly\"})});</script>"
      ],
      "text/vnd.plotly.v1+html": [
       "<div id=\"2d92ed04-5436-4e3e-a94b-3c866da959dc\" style=\"height: 700px; width: 800px;\" class=\"plotly-graph-div\"></div><script type=\"text/javascript\">require([\"plotly\"], function(Plotly) { window.PLOTLYENV=window.PLOTLYENV || {};window.PLOTLYENV.BASE_URL=\"https://plot.ly\";Plotly.newPlot(\"2d92ed04-5436-4e3e-a94b-3c866da959dc\", [{\"uid\": \"efcdac64-e117-11e8-8ac9-001a7dda7111\", \"marker\": {\"size\": 8, \"color\": [17.854, 16.872, 17.511, 17.421, 18.503, 18.681, 18.153, 17.709, 18.113, 18.105]}, \"z\": [17.854, 16.872, 17.511, 17.421, 18.503, 18.681, 18.153, 17.709, 18.113, 18.105], \"y\": [3, 3, 3, 3, 3, 3, 3, 3, 3, 3], \"line\": {\"width\": 2, \"color\": \"#1f77b4\"}, \"type\": \"scatter3d\", \"x\": [6, 9, 12, 15, 18, 21, 24, 27, 30, 33]}, {\"uid\": \"efcdac65-e117-11e8-8abf-001a7dda7111\", \"marker\": {\"size\": 8, \"color\": [18.294, 17.617, 18.134, 18.87, 18.732, 18.405, 18.797, 18.637, 19.082, 18.879]}, \"z\": [18.294, 17.617, 18.134, 18.87, 18.732, 18.405, 18.797, 18.637, 19.082, 18.879], \"y\": [4, 4, 4, 4, 4, 4, 4, 4, 4, 4], \"line\": {\"width\": 2, \"color\": \"#1f77b4\"}, \"type\": \"scatter3d\", \"x\": [6, 9, 12, 15, 18, 21, 24, 27, 30, 33]}, {\"uid\": \"efcdac66-e117-11e8-8365-001a7dda7111\", \"marker\": {\"size\": 8, \"color\": [18.744, 17.588, 18.52, 18.687, 18.523, 18.996, 18.919, 18.904, 19.283, 18.765]}, \"z\": [18.744, 17.588, 18.52, 18.687, 18.523, 18.996, 18.919, 18.904, 19.283, 18.765], \"y\": [5, 5, 5, 5, 5, 5, 5, 5, 5, 5], \"line\": {\"width\": 2, \"color\": \"#1f77b4\"}, \"type\": \"scatter3d\", \"x\": [6, 9, 12, 15, 18, 21, 24, 27, 30, 33]}, {\"colorscale\": \"Jet\", \"uid\": \"efcdac67-e117-11e8-8775-001a7dda7111\", \"z\": [[17.161, 17.161, 17.161, 17.161, 17.161, 17.161, 17.161, 17.161, 17.161, 17.161, 17.161, 17.161, 17.161, 17.161, 17.161, 17.161, 17.161, 17.161, 17.161, 17.161, 17.161, 17.161, 17.161, 17.161, 17.161, 17.161, 17.161, 17.161, 17.161, 17.161], [17.161, 17.161, 17.161, 17.161, 17.161, 17.161, 17.161, 17.161, 17.161, 17.161, 17.161, 17.161, 17.161, 17.161, 17.161, 17.161, 17.161, 17.161, 17.161, 17.161, 17.161, 17.161, 17.161, 17.161, 17.161, 17.161, 17.161, 17.161, 17.161, 17.161], [17.161, 17.161, 17.161, 17.161, 17.161, 17.161, 17.161, 17.161, 17.161, 17.161, 17.161, 17.161, 17.161, 17.161, 17.161, 17.161, 17.161, 17.161, 17.161, 17.161, 17.161, 17.161, 17.161, 17.161, 17.161, 17.161, 17.161, 17.161, 17.161, 17.161], [17.161, 17.161, 17.161, 17.161, 17.161, 17.161, 17.161, 17.161, 17.161, 17.161, 17.161, 17.161, 17.161, 17.161, 17.161, 17.161, 17.161, 17.161, 17.161, 17.161, 17.161, 17.161, 17.161, 17.161, 17.161, 17.161, 17.161, 17.161, 17.161, 17.161], [17.161, 17.161, 17.161, 17.161, 17.161, 17.161, 17.161, 17.161, 17.161, 17.161, 17.161, 17.161, 17.161, 17.161, 17.161, 17.161, 17.161, 17.161, 17.161, 17.161, 17.161, 17.161, 17.161, 17.161, 17.161, 17.161, 17.161, 17.161, 17.161, 17.161], [17.161, 17.161, 17.161, 17.161, 17.161, 17.161, 17.161, 17.161, 17.161, 17.161, 17.161, 17.161, 17.161, 17.161, 17.161, 17.161, 17.161, 17.161, 17.161, 17.161, 17.161, 17.161, 17.161, 17.161, 17.161, 17.161, 17.161, 17.161, 17.161, 17.161], [17.161, 17.161, 17.161, 17.161, 17.161, 17.161, 17.161, 17.161, 17.161, 17.161, 17.161, 17.161, 17.161, 17.161, 17.161, 17.161, 17.161, 17.161, 17.161, 17.161, 17.161, 17.161, 17.161, 17.161, 17.161, 17.161, 17.161, 17.161, 17.161, 17.161]], \"opacity\": 0.7, \"type\": \"surface\", \"showscale\": false}], {\"width\": 800, \"height\": 700, \"title\": \"MotoCtoS8 Model Varient (Exp. 75-77) (Test By Random Set)\", \"scene\": {\"yaxis\": {\"range\": [2, 6], \"showbackground\": true, \"titlefont\": {\"size\": 14, \"color\": \"#ff0000\"}, \"nticks\": 5, \"zerolinecolor\": \"rgb(255, 255, 255)\", \"gridcolor\": \"rgb(255, 255, 255)\", \"title\": \"Dense Layer Num (Y)\", \"backgroundcolor\": \"rgb(230, 200, 230)\"}, \"zaxis\": {\"showbackground\": true, \"titlefont\": {\"size\": 10, \"color\": \"#ff0000\"}, \"zerolinecolor\": \"rgb(255, 255, 255)\", \"gridcolor\": \"rgb(255, 255, 255)\", \"title\": \"Avg Diff (Z)\", \"backgroundcolor\": \"rgb(230, 230, 200)\"}, \"xaxis\": {\"showbackground\": true, \"titlefont\": {\"size\": 14, \"color\": \"#ff0000\"}, \"zerolinecolor\": \"rgb(255, 255, 255)\", \"gridcolor\": \"rgb(255, 255, 255)\", \"title\": \"Hidden Layer Dim (X)\", \"backgroundcolor\": \"rgb(200, 200, 230)\"}}}, {\"showLink\": true, \"linkText\": \"Export to plot.ly\"})});</script>"
      ]
     },
     "metadata": {},
     "output_type": "display_data"
    }
   ],
   "source": [
    "trace = go.Scatter3d(\n",
    "    x=x1, y=y1, z=z1,\n",
    "    marker=dict(\n",
    "        size=8,\n",
    "        color=z1\n",
    "    ),\n",
    "    line=dict(\n",
    "        color='#1f77b4',\n",
    "        width=2\n",
    "    )\n",
    ")\n",
    "\n",
    "trace2 = go.Scatter3d(\n",
    "    x=x2, y=y2, z=z2,\n",
    "    marker=dict(\n",
    "        size=8,\n",
    "        color=z2\n",
    "    ),\n",
    "    line=dict(\n",
    "        color='#1f77b4',\n",
    "        width=2\n",
    "    )\n",
    ")\n",
    "\n",
    "trace3 = go.Scatter3d(\n",
    "    x=x3, y=y3, z=z3,\n",
    "    marker=dict(\n",
    "        size=8,\n",
    "        color=z3\n",
    "    ),\n",
    "    line=dict(\n",
    "        color='#1f77b4',\n",
    "        width=2\n",
    "    )\n",
    ")\n",
    "\n",
    "trace4 = go.Surface(\n",
    "    z=polyfit_list,\n",
    "    opacity=0.7,\n",
    "    colorscale='Jet',\n",
    "    showscale=False\n",
    ")\n",
    "\n",
    "data = [trace, trace2, trace3, trace4]\n",
    "layout = go.Layout(\n",
    "    width=800,\n",
    "    height=700,\n",
    "    title= title,\n",
    "    scene=dict(\n",
    "        xaxis=dict(\n",
    "            title='Hidden Layer Dim (X)',\n",
    "            titlefont=dict(\n",
    "                size=14,\n",
    "                color='#ff0000'\n",
    "            ),\n",
    "            gridcolor='rgb(255, 255, 255)',\n",
    "            zerolinecolor='rgb(255, 255, 255)',\n",
    "            showbackground=True,\n",
    "            backgroundcolor='rgb(200, 200, 230)'\n",
    "        ),\n",
    "        yaxis=dict(\n",
    "            nticks = 5,\n",
    "            range = [2, 6],\n",
    "            title='Dense Layer Num (Y)',\n",
    "            titlefont=dict(\n",
    "                size=14,\n",
    "                color='#ff0000'\n",
    "            ),\n",
    "            gridcolor='rgb(255, 255, 255)',\n",
    "            zerolinecolor='rgb(255, 255, 255)',\n",
    "            showbackground=True,\n",
    "            backgroundcolor='rgb(230, 200, 230)'\n",
    "        ),\n",
    "        zaxis=dict(\n",
    "            title='Avg Diff (Z)',\n",
    "            titlefont=dict(\n",
    "                size=10,\n",
    "                color='#ff0000'\n",
    "            ),\n",
    "            gridcolor='rgb(255, 255, 255)',\n",
    "            zerolinecolor='rgb(255, 255, 255)',\n",
    "            showbackground=True,\n",
    "            backgroundcolor='rgb(230, 230, 200)'\n",
    "        ),\n",
    "    )\n",
    ")\n",
    "\n",
    "fig = go.Figure(data=data, layout=layout)\n",
    "plotly.offline.iplot(fig)"
   ]
  },
  {
   "cell_type": "code",
   "execution_count": null,
   "metadata": {},
   "outputs": [],
   "source": []
  },
  {
   "cell_type": "code",
   "execution_count": 9,
   "metadata": {},
   "outputs": [
    {
     "data": {
      "text/plain": [
       "'file://C:\\\\Users\\\\Mig\\\\Documents\\\\Plotly-Practice\\\\experiment75-77-RandomSet.html'"
      ]
     },
     "execution_count": 9,
     "metadata": {},
     "output_type": "execute_result"
    }
   ],
   "source": [
    "plotly.offline.plot(fig, filename=filename)"
   ]
  },
  {
   "cell_type": "code",
   "execution_count": null,
   "metadata": {},
   "outputs": [],
   "source": []
  }
 ],
 "metadata": {
  "kernelspec": {
   "display_name": "Python 3",
   "language": "python",
   "name": "python3"
  },
  "language_info": {
   "codemirror_mode": {
    "name": "ipython",
    "version": 3
   },
   "file_extension": ".py",
   "mimetype": "text/x-python",
   "name": "python",
   "nbconvert_exporter": "python",
   "pygments_lexer": "ipython3",
   "version": "3.5.6"
  }
 },
 "nbformat": 4,
 "nbformat_minor": 2
}
