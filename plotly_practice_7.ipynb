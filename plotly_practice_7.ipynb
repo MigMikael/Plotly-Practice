{
 "cells": [
  {
   "cell_type": "code",
   "execution_count": 2,
   "metadata": {},
   "outputs": [],
   "source": [
    "title = \"MotoCtoS8 Model Varient (Exp. 75-77) (Test By Generated Set)\"\n",
    "filename = 'experiment75-77-GeneratedSet.html'\n",
    "polyfit_diff = 14.678\n",
    "\n",
    "hidden_layer = [6, 9, 12, 15, 18, 21, 24, 27, 30, 33]"
   ]
  },
  {
   "cell_type": "code",
   "execution_count": 3,
   "metadata": {},
   "outputs": [],
   "source": [
    "# 3 Dense Layer \n",
    "z1 = [14.921, 14.34, 14.003, 13.871, 13.402, 13.379, 13.248, 13.314, 13.228, 13.147]\n",
    "\n",
    "# 4 Dense Layer \n",
    "z2 = [14.467, 13.821, 13.485, 13.139, 13.132, 12.896, 12.774, 12.812, 12.742, 12.714]\n",
    "\n",
    "# 5 Dense Layer \n",
    "z3 = [14.025, 13.621, 13.212, 13.021, 12.843, 12.745, 12.651, 12.529, 12.482, 12.39]"
   ]
  },
  {
   "cell_type": "code",
   "execution_count": 4,
   "metadata": {},
   "outputs": [
    {
     "data": {
      "text/html": [
       "<script>requirejs.config({paths: { 'plotly': ['https://cdn.plot.ly/plotly-latest.min']},});if(!window.Plotly) {{require(['plotly'],function(plotly) {window.Plotly=plotly;});}}</script>"
      ],
      "text/vnd.plotly.v1+html": [
       "<script>requirejs.config({paths: { 'plotly': ['https://cdn.plot.ly/plotly-latest.min']},});if(!window.Plotly) {{require(['plotly'],function(plotly) {window.Plotly=plotly;});}}</script>"
      ]
     },
     "metadata": {},
     "output_type": "display_data"
    }
   ],
   "source": [
    "import plotly\n",
    "from plotly.offline import download_plotlyjs, init_notebook_mode, plot, iplot\n",
    "import plotly.graph_objs as go\n",
    "import pandas as pd\n",
    "import numpy as np\n",
    "\n",
    "init_notebook_mode(connected=True)\n",
    "# print(plotly.__version__) "
   ]
  },
  {
   "cell_type": "code",
   "execution_count": 5,
   "metadata": {},
   "outputs": [
    {
     "name": "stdout",
     "output_type": "stream",
     "text": [
      "6     14.921\n",
      "9     14.340\n",
      "12    14.003\n",
      "15    13.871\n",
      "18    13.402\n",
      "21    13.379\n",
      "24    13.248\n",
      "27    13.314\n",
      "30    13.228\n",
      "33    13.147\n",
      "dtype: float64\n"
     ]
    }
   ],
   "source": [
    "# 3 Dense Layer \n",
    "x1 = hidden_layer\n",
    "y1 = [3] * 10\n",
    "y1 = pd.Series(y1, index=x1)\n",
    "#print(y1)\n",
    "z1 = pd.Series(z1, index=x1)\n",
    "print(z1)"
   ]
  },
  {
   "cell_type": "code",
   "execution_count": 6,
   "metadata": {},
   "outputs": [
    {
     "name": "stdout",
     "output_type": "stream",
     "text": [
      "6     14.467\n",
      "9     13.821\n",
      "12    13.485\n",
      "15    13.139\n",
      "18    13.132\n",
      "21    12.896\n",
      "24    12.774\n",
      "27    12.812\n",
      "30    12.742\n",
      "33    12.714\n",
      "dtype: float64\n"
     ]
    }
   ],
   "source": [
    "# 4 Dense Layer\n",
    "x2 = hidden_layer\n",
    "y2 = [4] * 10\n",
    "y2 = pd.Series(y2, index=x2)\n",
    "#print(y2)\n",
    "z2 = pd.Series(z2, index=x2)\n",
    "print(z2)"
   ]
  },
  {
   "cell_type": "code",
   "execution_count": 7,
   "metadata": {},
   "outputs": [
    {
     "name": "stdout",
     "output_type": "stream",
     "text": [
      "6     14.025\n",
      "9     13.621\n",
      "12    13.212\n",
      "15    13.021\n",
      "18    12.843\n",
      "21    12.745\n",
      "24    12.651\n",
      "27    12.529\n",
      "30    12.482\n",
      "33    12.390\n",
      "dtype: float64\n"
     ]
    }
   ],
   "source": [
    "# 5 Dense Layer\n",
    "x3 = hidden_layer\n",
    "y3 = [5] * 10\n",
    "y3 = pd.Series(y3, index=x3)\n",
    "#print(y3)\n",
    "z3 = pd.Series(z3, index=x3)\n",
    "print(z3)"
   ]
  },
  {
   "cell_type": "code",
   "execution_count": 8,
   "metadata": {},
   "outputs": [],
   "source": [
    "polyfit = polyfit_diff\n",
    "polyfit_list = [[polyfit_diff] * 30] * 7\n",
    "#print(polyfit_list)"
   ]
  },
  {
   "cell_type": "code",
   "execution_count": 9,
   "metadata": {},
   "outputs": [
    {
     "data": {
      "application/vnd.plotly.v1+json": {
       "data": [
        {
         "line": {
          "color": "#1f77b4",
          "width": 2
         },
         "marker": {
          "color": [
           14.921,
           14.34,
           14.003,
           13.871,
           13.402,
           13.379,
           13.248,
           13.314,
           13.228,
           13.147
          ],
          "size": 8
         },
         "type": "scatter3d",
         "uid": "8eb635be-e070-11e8-bcea-001a7dda7111",
         "x": [
          6,
          9,
          12,
          15,
          18,
          21,
          24,
          27,
          30,
          33
         ],
         "y": [
          3,
          3,
          3,
          3,
          3,
          3,
          3,
          3,
          3,
          3
         ],
         "z": [
          14.921,
          14.34,
          14.003,
          13.871,
          13.402,
          13.379,
          13.248,
          13.314,
          13.228,
          13.147
         ]
        },
        {
         "line": {
          "color": "#1f77b4",
          "width": 2
         },
         "marker": {
          "color": [
           14.467,
           13.821,
           13.485,
           13.139,
           13.132,
           12.896,
           12.774,
           12.812,
           12.742,
           12.714
          ],
          "size": 8
         },
         "type": "scatter3d",
         "uid": "8eb635bf-e070-11e8-aff2-001a7dda7111",
         "x": [
          6,
          9,
          12,
          15,
          18,
          21,
          24,
          27,
          30,
          33
         ],
         "y": [
          4,
          4,
          4,
          4,
          4,
          4,
          4,
          4,
          4,
          4
         ],
         "z": [
          14.467,
          13.821,
          13.485,
          13.139,
          13.132,
          12.896,
          12.774,
          12.812,
          12.742,
          12.714
         ]
        },
        {
         "line": {
          "color": "#1f77b4",
          "width": 2
         },
         "marker": {
          "color": [
           14.025,
           13.621,
           13.212,
           13.021,
           12.843,
           12.745,
           12.651,
           12.529,
           12.482,
           12.39
          ],
          "size": 8
         },
         "type": "scatter3d",
         "uid": "8eb635c0-e070-11e8-afa0-001a7dda7111",
         "x": [
          6,
          9,
          12,
          15,
          18,
          21,
          24,
          27,
          30,
          33
         ],
         "y": [
          5,
          5,
          5,
          5,
          5,
          5,
          5,
          5,
          5,
          5
         ],
         "z": [
          14.025,
          13.621,
          13.212,
          13.021,
          12.843,
          12.745,
          12.651,
          12.529,
          12.482,
          12.39
         ]
        },
        {
         "colorscale": "Jet",
         "opacity": 0.7,
         "showscale": false,
         "type": "surface",
         "uid": "8eb635c1-e070-11e8-9723-001a7dda7111",
         "z": [
          [
           14.678,
           14.678,
           14.678,
           14.678,
           14.678,
           14.678,
           14.678,
           14.678,
           14.678,
           14.678,
           14.678,
           14.678,
           14.678,
           14.678,
           14.678,
           14.678,
           14.678,
           14.678,
           14.678,
           14.678,
           14.678,
           14.678,
           14.678,
           14.678,
           14.678,
           14.678,
           14.678,
           14.678,
           14.678,
           14.678
          ],
          [
           14.678,
           14.678,
           14.678,
           14.678,
           14.678,
           14.678,
           14.678,
           14.678,
           14.678,
           14.678,
           14.678,
           14.678,
           14.678,
           14.678,
           14.678,
           14.678,
           14.678,
           14.678,
           14.678,
           14.678,
           14.678,
           14.678,
           14.678,
           14.678,
           14.678,
           14.678,
           14.678,
           14.678,
           14.678,
           14.678
          ],
          [
           14.678,
           14.678,
           14.678,
           14.678,
           14.678,
           14.678,
           14.678,
           14.678,
           14.678,
           14.678,
           14.678,
           14.678,
           14.678,
           14.678,
           14.678,
           14.678,
           14.678,
           14.678,
           14.678,
           14.678,
           14.678,
           14.678,
           14.678,
           14.678,
           14.678,
           14.678,
           14.678,
           14.678,
           14.678,
           14.678
          ],
          [
           14.678,
           14.678,
           14.678,
           14.678,
           14.678,
           14.678,
           14.678,
           14.678,
           14.678,
           14.678,
           14.678,
           14.678,
           14.678,
           14.678,
           14.678,
           14.678,
           14.678,
           14.678,
           14.678,
           14.678,
           14.678,
           14.678,
           14.678,
           14.678,
           14.678,
           14.678,
           14.678,
           14.678,
           14.678,
           14.678
          ],
          [
           14.678,
           14.678,
           14.678,
           14.678,
           14.678,
           14.678,
           14.678,
           14.678,
           14.678,
           14.678,
           14.678,
           14.678,
           14.678,
           14.678,
           14.678,
           14.678,
           14.678,
           14.678,
           14.678,
           14.678,
           14.678,
           14.678,
           14.678,
           14.678,
           14.678,
           14.678,
           14.678,
           14.678,
           14.678,
           14.678
          ],
          [
           14.678,
           14.678,
           14.678,
           14.678,
           14.678,
           14.678,
           14.678,
           14.678,
           14.678,
           14.678,
           14.678,
           14.678,
           14.678,
           14.678,
           14.678,
           14.678,
           14.678,
           14.678,
           14.678,
           14.678,
           14.678,
           14.678,
           14.678,
           14.678,
           14.678,
           14.678,
           14.678,
           14.678,
           14.678,
           14.678
          ],
          [
           14.678,
           14.678,
           14.678,
           14.678,
           14.678,
           14.678,
           14.678,
           14.678,
           14.678,
           14.678,
           14.678,
           14.678,
           14.678,
           14.678,
           14.678,
           14.678,
           14.678,
           14.678,
           14.678,
           14.678,
           14.678,
           14.678,
           14.678,
           14.678,
           14.678,
           14.678,
           14.678,
           14.678,
           14.678,
           14.678
          ]
         ]
        }
       ],
       "layout": {
        "height": 700,
        "scene": {
         "xaxis": {
          "backgroundcolor": "rgb(200, 200, 230)",
          "gridcolor": "rgb(255, 255, 255)",
          "showbackground": true,
          "title": "Hidden Layer Dim (X)",
          "titlefont": {
           "color": "#ff0000",
           "size": 14
          },
          "zerolinecolor": "rgb(255, 255, 255)"
         },
         "yaxis": {
          "backgroundcolor": "rgb(230, 200, 230)",
          "gridcolor": "rgb(255, 255, 255)",
          "nticks": 5,
          "range": [
           2,
           6
          ],
          "showbackground": true,
          "title": "Dense Layer Num (Y)",
          "titlefont": {
           "color": "#ff0000",
           "size": 14
          },
          "zerolinecolor": "rgb(255, 255, 255)"
         },
         "zaxis": {
          "backgroundcolor": "rgb(230, 230, 200)",
          "gridcolor": "rgb(255, 255, 255)",
          "showbackground": true,
          "title": "Avg Diff (Z)",
          "titlefont": {
           "color": "#ff0000",
           "size": 10
          },
          "zerolinecolor": "rgb(255, 255, 255)"
         }
        },
        "title": "MotoCtoS8 Model Varient (Exp. 75-77) (Test By Generated Set)",
        "width": 800
       }
      },
      "text/html": [
       "<div id=\"9c5f03ca-bba4-4c92-af0d-5db55d5578a0\" style=\"height: 700px; width: 800px;\" class=\"plotly-graph-div\"></div><script type=\"text/javascript\">require([\"plotly\"], function(Plotly) { window.PLOTLYENV=window.PLOTLYENV || {};window.PLOTLYENV.BASE_URL=\"https://plot.ly\";Plotly.newPlot(\"9c5f03ca-bba4-4c92-af0d-5db55d5578a0\", [{\"uid\": \"8eb635be-e070-11e8-bcea-001a7dda7111\", \"z\": [14.921, 14.34, 14.003, 13.871, 13.402, 13.379, 13.248, 13.314, 13.228, 13.147], \"line\": {\"width\": 2, \"color\": \"#1f77b4\"}, \"marker\": {\"size\": 8, \"color\": [14.921, 14.34, 14.003, 13.871, 13.402, 13.379, 13.248, 13.314, 13.228, 13.147]}, \"y\": [3, 3, 3, 3, 3, 3, 3, 3, 3, 3], \"x\": [6, 9, 12, 15, 18, 21, 24, 27, 30, 33], \"type\": \"scatter3d\"}, {\"uid\": \"8eb635bf-e070-11e8-aff2-001a7dda7111\", \"z\": [14.467, 13.821, 13.485, 13.139, 13.132, 12.896, 12.774, 12.812, 12.742, 12.714], \"line\": {\"width\": 2, \"color\": \"#1f77b4\"}, \"marker\": {\"size\": 8, \"color\": [14.467, 13.821, 13.485, 13.139, 13.132, 12.896, 12.774, 12.812, 12.742, 12.714]}, \"y\": [4, 4, 4, 4, 4, 4, 4, 4, 4, 4], \"x\": [6, 9, 12, 15, 18, 21, 24, 27, 30, 33], \"type\": \"scatter3d\"}, {\"uid\": \"8eb635c0-e070-11e8-afa0-001a7dda7111\", \"z\": [14.025, 13.621, 13.212, 13.021, 12.843, 12.745, 12.651, 12.529, 12.482, 12.39], \"line\": {\"width\": 2, \"color\": \"#1f77b4\"}, \"marker\": {\"size\": 8, \"color\": [14.025, 13.621, 13.212, 13.021, 12.843, 12.745, 12.651, 12.529, 12.482, 12.39]}, \"y\": [5, 5, 5, 5, 5, 5, 5, 5, 5, 5], \"x\": [6, 9, 12, 15, 18, 21, 24, 27, 30, 33], \"type\": \"scatter3d\"}, {\"uid\": \"8eb635c1-e070-11e8-9723-001a7dda7111\", \"showscale\": false, \"opacity\": 0.7, \"z\": [[14.678, 14.678, 14.678, 14.678, 14.678, 14.678, 14.678, 14.678, 14.678, 14.678, 14.678, 14.678, 14.678, 14.678, 14.678, 14.678, 14.678, 14.678, 14.678, 14.678, 14.678, 14.678, 14.678, 14.678, 14.678, 14.678, 14.678, 14.678, 14.678, 14.678], [14.678, 14.678, 14.678, 14.678, 14.678, 14.678, 14.678, 14.678, 14.678, 14.678, 14.678, 14.678, 14.678, 14.678, 14.678, 14.678, 14.678, 14.678, 14.678, 14.678, 14.678, 14.678, 14.678, 14.678, 14.678, 14.678, 14.678, 14.678, 14.678, 14.678], [14.678, 14.678, 14.678, 14.678, 14.678, 14.678, 14.678, 14.678, 14.678, 14.678, 14.678, 14.678, 14.678, 14.678, 14.678, 14.678, 14.678, 14.678, 14.678, 14.678, 14.678, 14.678, 14.678, 14.678, 14.678, 14.678, 14.678, 14.678, 14.678, 14.678], [14.678, 14.678, 14.678, 14.678, 14.678, 14.678, 14.678, 14.678, 14.678, 14.678, 14.678, 14.678, 14.678, 14.678, 14.678, 14.678, 14.678, 14.678, 14.678, 14.678, 14.678, 14.678, 14.678, 14.678, 14.678, 14.678, 14.678, 14.678, 14.678, 14.678], [14.678, 14.678, 14.678, 14.678, 14.678, 14.678, 14.678, 14.678, 14.678, 14.678, 14.678, 14.678, 14.678, 14.678, 14.678, 14.678, 14.678, 14.678, 14.678, 14.678, 14.678, 14.678, 14.678, 14.678, 14.678, 14.678, 14.678, 14.678, 14.678, 14.678], [14.678, 14.678, 14.678, 14.678, 14.678, 14.678, 14.678, 14.678, 14.678, 14.678, 14.678, 14.678, 14.678, 14.678, 14.678, 14.678, 14.678, 14.678, 14.678, 14.678, 14.678, 14.678, 14.678, 14.678, 14.678, 14.678, 14.678, 14.678, 14.678, 14.678], [14.678, 14.678, 14.678, 14.678, 14.678, 14.678, 14.678, 14.678, 14.678, 14.678, 14.678, 14.678, 14.678, 14.678, 14.678, 14.678, 14.678, 14.678, 14.678, 14.678, 14.678, 14.678, 14.678, 14.678, 14.678, 14.678, 14.678, 14.678, 14.678, 14.678]], \"type\": \"surface\", \"colorscale\": \"Jet\"}], {\"width\": 800, \"height\": 700, \"title\": \"MotoCtoS8 Model Varient (Exp. 75-77) (Test By Generated Set)\", \"scene\": {\"zaxis\": {\"titlefont\": {\"size\": 10, \"color\": \"#ff0000\"}, \"gridcolor\": \"rgb(255, 255, 255)\", \"zerolinecolor\": \"rgb(255, 255, 255)\", \"showbackground\": true, \"title\": \"Avg Diff (Z)\", \"backgroundcolor\": \"rgb(230, 230, 200)\"}, \"xaxis\": {\"titlefont\": {\"size\": 14, \"color\": \"#ff0000\"}, \"gridcolor\": \"rgb(255, 255, 255)\", \"zerolinecolor\": \"rgb(255, 255, 255)\", \"showbackground\": true, \"title\": \"Hidden Layer Dim (X)\", \"backgroundcolor\": \"rgb(200, 200, 230)\"}, \"yaxis\": {\"gridcolor\": \"rgb(255, 255, 255)\", \"zerolinecolor\": \"rgb(255, 255, 255)\", \"nticks\": 5, \"showbackground\": true, \"title\": \"Dense Layer Num (Y)\", \"backgroundcolor\": \"rgb(230, 200, 230)\", \"range\": [2, 6], \"titlefont\": {\"size\": 14, \"color\": \"#ff0000\"}}}}, {\"linkText\": \"Export to plot.ly\", \"showLink\": true})});</script>"
      ],
      "text/vnd.plotly.v1+html": [
       "<div id=\"9c5f03ca-bba4-4c92-af0d-5db55d5578a0\" style=\"height: 700px; width: 800px;\" class=\"plotly-graph-div\"></div><script type=\"text/javascript\">require([\"plotly\"], function(Plotly) { window.PLOTLYENV=window.PLOTLYENV || {};window.PLOTLYENV.BASE_URL=\"https://plot.ly\";Plotly.newPlot(\"9c5f03ca-bba4-4c92-af0d-5db55d5578a0\", [{\"uid\": \"8eb635be-e070-11e8-bcea-001a7dda7111\", \"z\": [14.921, 14.34, 14.003, 13.871, 13.402, 13.379, 13.248, 13.314, 13.228, 13.147], \"line\": {\"width\": 2, \"color\": \"#1f77b4\"}, \"marker\": {\"size\": 8, \"color\": [14.921, 14.34, 14.003, 13.871, 13.402, 13.379, 13.248, 13.314, 13.228, 13.147]}, \"y\": [3, 3, 3, 3, 3, 3, 3, 3, 3, 3], \"x\": [6, 9, 12, 15, 18, 21, 24, 27, 30, 33], \"type\": \"scatter3d\"}, {\"uid\": \"8eb635bf-e070-11e8-aff2-001a7dda7111\", \"z\": [14.467, 13.821, 13.485, 13.139, 13.132, 12.896, 12.774, 12.812, 12.742, 12.714], \"line\": {\"width\": 2, \"color\": \"#1f77b4\"}, \"marker\": {\"size\": 8, \"color\": [14.467, 13.821, 13.485, 13.139, 13.132, 12.896, 12.774, 12.812, 12.742, 12.714]}, \"y\": [4, 4, 4, 4, 4, 4, 4, 4, 4, 4], \"x\": [6, 9, 12, 15, 18, 21, 24, 27, 30, 33], \"type\": \"scatter3d\"}, {\"uid\": \"8eb635c0-e070-11e8-afa0-001a7dda7111\", \"z\": [14.025, 13.621, 13.212, 13.021, 12.843, 12.745, 12.651, 12.529, 12.482, 12.39], \"line\": {\"width\": 2, \"color\": \"#1f77b4\"}, \"marker\": {\"size\": 8, \"color\": [14.025, 13.621, 13.212, 13.021, 12.843, 12.745, 12.651, 12.529, 12.482, 12.39]}, \"y\": [5, 5, 5, 5, 5, 5, 5, 5, 5, 5], \"x\": [6, 9, 12, 15, 18, 21, 24, 27, 30, 33], \"type\": \"scatter3d\"}, {\"uid\": \"8eb635c1-e070-11e8-9723-001a7dda7111\", \"showscale\": false, \"opacity\": 0.7, \"z\": [[14.678, 14.678, 14.678, 14.678, 14.678, 14.678, 14.678, 14.678, 14.678, 14.678, 14.678, 14.678, 14.678, 14.678, 14.678, 14.678, 14.678, 14.678, 14.678, 14.678, 14.678, 14.678, 14.678, 14.678, 14.678, 14.678, 14.678, 14.678, 14.678, 14.678], [14.678, 14.678, 14.678, 14.678, 14.678, 14.678, 14.678, 14.678, 14.678, 14.678, 14.678, 14.678, 14.678, 14.678, 14.678, 14.678, 14.678, 14.678, 14.678, 14.678, 14.678, 14.678, 14.678, 14.678, 14.678, 14.678, 14.678, 14.678, 14.678, 14.678], [14.678, 14.678, 14.678, 14.678, 14.678, 14.678, 14.678, 14.678, 14.678, 14.678, 14.678, 14.678, 14.678, 14.678, 14.678, 14.678, 14.678, 14.678, 14.678, 14.678, 14.678, 14.678, 14.678, 14.678, 14.678, 14.678, 14.678, 14.678, 14.678, 14.678], [14.678, 14.678, 14.678, 14.678, 14.678, 14.678, 14.678, 14.678, 14.678, 14.678, 14.678, 14.678, 14.678, 14.678, 14.678, 14.678, 14.678, 14.678, 14.678, 14.678, 14.678, 14.678, 14.678, 14.678, 14.678, 14.678, 14.678, 14.678, 14.678, 14.678], [14.678, 14.678, 14.678, 14.678, 14.678, 14.678, 14.678, 14.678, 14.678, 14.678, 14.678, 14.678, 14.678, 14.678, 14.678, 14.678, 14.678, 14.678, 14.678, 14.678, 14.678, 14.678, 14.678, 14.678, 14.678, 14.678, 14.678, 14.678, 14.678, 14.678], [14.678, 14.678, 14.678, 14.678, 14.678, 14.678, 14.678, 14.678, 14.678, 14.678, 14.678, 14.678, 14.678, 14.678, 14.678, 14.678, 14.678, 14.678, 14.678, 14.678, 14.678, 14.678, 14.678, 14.678, 14.678, 14.678, 14.678, 14.678, 14.678, 14.678], [14.678, 14.678, 14.678, 14.678, 14.678, 14.678, 14.678, 14.678, 14.678, 14.678, 14.678, 14.678, 14.678, 14.678, 14.678, 14.678, 14.678, 14.678, 14.678, 14.678, 14.678, 14.678, 14.678, 14.678, 14.678, 14.678, 14.678, 14.678, 14.678, 14.678]], \"type\": \"surface\", \"colorscale\": \"Jet\"}], {\"width\": 800, \"height\": 700, \"title\": \"MotoCtoS8 Model Varient (Exp. 75-77) (Test By Generated Set)\", \"scene\": {\"zaxis\": {\"titlefont\": {\"size\": 10, \"color\": \"#ff0000\"}, \"gridcolor\": \"rgb(255, 255, 255)\", \"zerolinecolor\": \"rgb(255, 255, 255)\", \"showbackground\": true, \"title\": \"Avg Diff (Z)\", \"backgroundcolor\": \"rgb(230, 230, 200)\"}, \"xaxis\": {\"titlefont\": {\"size\": 14, \"color\": \"#ff0000\"}, \"gridcolor\": \"rgb(255, 255, 255)\", \"zerolinecolor\": \"rgb(255, 255, 255)\", \"showbackground\": true, \"title\": \"Hidden Layer Dim (X)\", \"backgroundcolor\": \"rgb(200, 200, 230)\"}, \"yaxis\": {\"gridcolor\": \"rgb(255, 255, 255)\", \"zerolinecolor\": \"rgb(255, 255, 255)\", \"nticks\": 5, \"showbackground\": true, \"title\": \"Dense Layer Num (Y)\", \"backgroundcolor\": \"rgb(230, 200, 230)\", \"range\": [2, 6], \"titlefont\": {\"size\": 14, \"color\": \"#ff0000\"}}}}, {\"linkText\": \"Export to plot.ly\", \"showLink\": true})});</script>"
      ]
     },
     "metadata": {},
     "output_type": "display_data"
    }
   ],
   "source": [
    "trace = go.Scatter3d(\n",
    "    x=x1, y=y1, z=z1,\n",
    "    marker=dict(\n",
    "        size=8,\n",
    "        color=z1\n",
    "    ),\n",
    "    line=dict(\n",
    "        color='#1f77b4',\n",
    "        width=2\n",
    "    )\n",
    ")\n",
    "\n",
    "trace2 = go.Scatter3d(\n",
    "    x=x2, y=y2, z=z2,\n",
    "    marker=dict(\n",
    "        size=8,\n",
    "        color=z2\n",
    "    ),\n",
    "    line=dict(\n",
    "        color='#1f77b4',\n",
    "        width=2\n",
    "    )\n",
    ")\n",
    "\n",
    "trace3 = go.Scatter3d(\n",
    "    x=x3, y=y3, z=z3,\n",
    "    marker=dict(\n",
    "        size=8,\n",
    "        color=z3\n",
    "    ),\n",
    "    line=dict(\n",
    "        color='#1f77b4',\n",
    "        width=2\n",
    "    )\n",
    ")\n",
    "\n",
    "trace4 = go.Surface(\n",
    "    z=polyfit_list,\n",
    "    opacity=0.7,\n",
    "    colorscale='Jet',\n",
    "    showscale=False\n",
    ")\n",
    "\n",
    "data = [trace, trace2, trace3, trace4]\n",
    "layout = go.Layout(\n",
    "    width=800,\n",
    "    height=700,\n",
    "    title= title,\n",
    "    scene=dict(\n",
    "        xaxis=dict(\n",
    "            title='Hidden Layer Dim (X)',\n",
    "            titlefont=dict(\n",
    "                size=14,\n",
    "                color='#ff0000'\n",
    "            ),\n",
    "            gridcolor='rgb(255, 255, 255)',\n",
    "            zerolinecolor='rgb(255, 255, 255)',\n",
    "            showbackground=True,\n",
    "            backgroundcolor='rgb(200, 200, 230)'\n",
    "        ),\n",
    "        yaxis=dict(\n",
    "            nticks = 5,\n",
    "            range = [2, 6],\n",
    "            title='Dense Layer Num (Y)',\n",
    "            titlefont=dict(\n",
    "                size=14,\n",
    "                color='#ff0000'\n",
    "            ),\n",
    "            gridcolor='rgb(255, 255, 255)',\n",
    "            zerolinecolor='rgb(255, 255, 255)',\n",
    "            showbackground=True,\n",
    "            backgroundcolor='rgb(230, 200, 230)'\n",
    "        ),\n",
    "        zaxis=dict(\n",
    "            title='Avg Diff (Z)',\n",
    "            titlefont=dict(\n",
    "                size=10,\n",
    "                color='#ff0000'\n",
    "            ),\n",
    "            gridcolor='rgb(255, 255, 255)',\n",
    "            zerolinecolor='rgb(255, 255, 255)',\n",
    "            showbackground=True,\n",
    "            backgroundcolor='rgb(230, 230, 200)'\n",
    "        ),\n",
    "    )\n",
    ")\n",
    "\n",
    "fig = go.Figure(data=data, layout=layout)\n",
    "plotly.offline.iplot(fig)"
   ]
  },
  {
   "cell_type": "code",
   "execution_count": null,
   "metadata": {},
   "outputs": [],
   "source": []
  },
  {
   "cell_type": "code",
   "execution_count": 10,
   "metadata": {},
   "outputs": [
    {
     "data": {
      "text/plain": [
       "'file://C:\\\\Users\\\\Mig\\\\Documents\\\\Plotly-Practice\\\\experiment75-77-GeneratedSet.html'"
      ]
     },
     "execution_count": 10,
     "metadata": {},
     "output_type": "execute_result"
    }
   ],
   "source": [
    "plotly.offline.plot(fig, filename=filename)"
   ]
  },
  {
   "cell_type": "code",
   "execution_count": null,
   "metadata": {},
   "outputs": [],
   "source": []
  }
 ],
 "metadata": {
  "kernelspec": {
   "display_name": "Python 3",
   "language": "python",
   "name": "python3"
  },
  "language_info": {
   "codemirror_mode": {
    "name": "ipython",
    "version": 3
   },
   "file_extension": ".py",
   "mimetype": "text/x-python",
   "name": "python",
   "nbconvert_exporter": "python",
   "pygments_lexer": "ipython3",
   "version": "3.5.6"
  }
 },
 "nbformat": 4,
 "nbformat_minor": 2
}
